{
  "nbformat": 4,
  "nbformat_minor": 0,
  "metadata": {
    "colab": {
      "provenance": [],
      "authorship_tag": "ABX9TyO9k8yxNdFQ1wieRodbq9ST",
      "include_colab_link": true
    },
    "kernelspec": {
      "name": "python3",
      "display_name": "Python 3"
    },
    "language_info": {
      "name": "python"
    }
  },
  "cells": [
    {
      "cell_type": "markdown",
      "metadata": {
        "id": "view-in-github",
        "colab_type": "text"
      },
      "source": [
        "<a href=\"https://colab.research.google.com/github/Dylan-Golden/CSC221_dgold015/blob/main/Dylan_Golden_Assignment14.ipynb\" target=\"_parent\"><img src=\"https://colab.research.google.com/assets/colab-badge.svg\" alt=\"Open In Colab\"/></a>"
      ]
    },
    {
      "cell_type": "code",
      "execution_count": null,
      "metadata": {
        "id": "cSiVDtrS6M20"
      },
      "outputs": [],
      "source": []
    },
    {
      "cell_type": "code",
      "source": [
        "#new calculator\n",
        "\n",
        "class calculator():\n",
        "\n",
        "  def __init__(self):\n",
        "    self.Input = \"\"\n",
        "    self.valid_op = ['+', '-', '*', '/']\n",
        "    self.error = False\n",
        "    self.stop = [\"exit\"]\n",
        "\n",
        "  def Calculate(self):\n",
        "    if self.Input.split()[1] == \"+\":\n",
        "      return float(self.Input.split()[0]) + float(self.Input.split()[2])\n",
        "    elif self.Input.split()[1] == \"-\":\n",
        "      return float(self.Input.split()[0]) - float(self.Input.split()[2])\n",
        "    elif self.Input.split()[1] == \"*\":\n",
        "      return float(self.Input.split()[0]) * float(self.Input.split()[2])\n",
        "    elif self.Input.split()[1] == \"/\":\n",
        "      if float(self.Input.split()[2]) == 0:\n",
        "        print (\"Cannot divide by zero\")\n",
        "      else:\n",
        "        return float(self.Input.split()[0]) / float(self.Input.split()[2])\n",
        "\n",
        "  def User_Input(self):\n",
        "    print (\"type exit to stop.\")\n",
        "    usr_inp = input(\"Enter a problem: \")\n",
        "    self.error = False\n",
        "    if usr_inp in self.stop:\n",
        "      if usr_inp == \"exit\":\n",
        "        self.Input = \"exit\"\n",
        "    else:\n",
        "      try:\n",
        "        assert len(usr_inp.split()) == 3\n",
        "      except:\n",
        "        self.error = True\n",
        "        print (\"Please enetr a valid format (x + x)\")\n",
        "      else:\n",
        "        try:\n",
        "          assert usr_inp.split()[1] in self.valid_op\n",
        "          float(usr_inp.split()[0])\n",
        "          float(usr_inp.split()[2])\n",
        "        except AssertionError:\n",
        "          self.error = True\n",
        "          print (\"Invalid operator. Use (+, -, *, or /)\")\n",
        "        except ValueError:\n",
        "          self.error = True\n",
        "          print (\"Invalid number\")\n",
        "        else:\n",
        "          self.Input = usr_inp\n",
        "\n",
        "\n",
        "  def Process_Order(self):\n",
        "    while True:\n",
        "      self.User_Input()\n",
        "      if self.Input == \"exit\":\n",
        "        break\n",
        "      if self.error == False:\n",
        "        print(self.Calculate())\n",
        "\n",
        "calc = calculator()\n",
        "calc.Process_Order()"
      ],
      "metadata": {
        "id": "yXGJlI6B6w0r",
        "colab": {
          "base_uri": "https://localhost:8080/"
        },
        "outputId": "3884e8e0-78da-4098-b990-f66699c2a8cd"
      },
      "execution_count": 17,
      "outputs": [
        {
          "name": "stdout",
          "output_type": "stream",
          "text": [
            "type exit to stop.\n",
            "Enter a problem: 1 + 1\n",
            "2.0\n",
            "type exit to stop.\n",
            "Enter a problem: 2 - 1\n",
            "1.0\n",
            "type exit to stop.\n",
            "Enter a problem: 2 * 2\n",
            "4.0\n",
            "type exit to stop.\n",
            "Enter a problem: 4 / 2\n",
            "2.0\n",
            "type exit to stop.\n",
            "Enter a problem: 2 / 0\n",
            "Cannot divide by zero\n",
            "None\n",
            "type exit to stop.\n",
            "Enter a problem: j / 2\n",
            "Invalid number\n",
            "type exit to stop.\n",
            "Enter a problem: help\n",
            "Please enetr a valid format (x + x)\n",
            "type exit to stop.\n",
            "Enter a problem: 2 = 2\n",
            "Invalid operator. Use (+, -, *, or /)\n",
            "type exit to stop.\n",
            "Enter a problem: exit\n"
          ]
        }
      ]
    },
    {
      "cell_type": "code",
      "source": [],
      "metadata": {
        "id": "mJJroK5K7gSp"
      },
      "execution_count": 15,
      "outputs": []
    }
  ]
}