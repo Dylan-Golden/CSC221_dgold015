{
  "nbformat": 4,
  "nbformat_minor": 0,
  "metadata": {
    "colab": {
      "provenance": [],
      "authorship_tag": "ABX9TyO/PxPowqqvwLLMf1A6QZdJ",
      "include_colab_link": true
    },
    "kernelspec": {
      "name": "python3",
      "display_name": "Python 3"
    },
    "language_info": {
      "name": "python"
    }
  },
  "cells": [
    {
      "cell_type": "markdown",
      "metadata": {
        "id": "view-in-github",
        "colab_type": "text"
      },
      "source": [
        "<a href=\"https://colab.research.google.com/github/Dylan-Golden/CSC221_dgold015/blob/main/Dylan_Golden_Assignment9.ipynb\" target=\"_parent\"><img src=\"https://colab.research.google.com/assets/colab-badge.svg\" alt=\"Open In Colab\"/></a>"
      ]
    },
    {
      "cell_type": "code",
      "execution_count": null,
      "metadata": {
        "colab": {
          "base_uri": "https://localhost:8080/"
        },
        "id": "ILn1A0he92rw",
        "outputId": "cfe29113-56fa-45ae-c962-ed1305967d2a"
      },
      "outputs": [
        {
          "output_type": "stream",
          "name": "stdout",
          "text": [
            "hello!\n"
          ]
        }
      ],
      "source": [
        "def greet_user():\n",
        "  print (\"hello!\")\n",
        "\n",
        "greet_user()"
      ]
    },
    {
      "cell_type": "code",
      "source": [
        "def greet_user(username):\n",
        "  print (f\"hello, {username.title()}!\")\n",
        "\n",
        "greet_user('jesse')"
      ],
      "metadata": {
        "colab": {
          "base_uri": "https://localhost:8080/"
        },
        "id": "-hB_X7Qm-WbD",
        "outputId": "c7f67b56-72cf-4f1f-e4b2-c17123f70b61"
      },
      "execution_count": null,
      "outputs": [
        {
          "output_type": "stream",
          "name": "stdout",
          "text": [
            "hello, Jesse!\n"
          ]
        }
      ]
    },
    {
      "cell_type": "code",
      "source": [
        "# Try it 8-2\n",
        "def favorite_book(title):\n",
        "  print (f\"Hello one of my favorite books is {title.title()}!\")\n",
        "\n",
        "favorite_book('alice in wonderland')"
      ],
      "metadata": {
        "colab": {
          "base_uri": "https://localhost:8080/"
        },
        "id": "VnZlusMC-pEv",
        "outputId": "2f4bf34a-ce73-407a-a060-d2d8691b48ab"
      },
      "execution_count": null,
      "outputs": [
        {
          "output_type": "stream",
          "name": "stdout",
          "text": [
            "Hello one of my favorite books is Alice In Wonderland!\n"
          ]
        }
      ]
    },
    {
      "cell_type": "code",
      "source": [
        "def describe_pet(animal_type, pet_name):\n",
        "  print (f\"\\nI have a {animal_type}.\")\n",
        "  print (f\"My {animal_type}'s name is {pet_name.title()}.\")\n",
        "\n",
        "describe_pet('dog', 'scout')"
      ],
      "metadata": {
        "colab": {
          "base_uri": "https://localhost:8080/"
        },
        "id": "FGSOSg2p_xpr",
        "outputId": "2b50adcb-5267-4360-c8dd-8e6beac40b1c"
      },
      "execution_count": null,
      "outputs": [
        {
          "output_type": "stream",
          "name": "stdout",
          "text": [
            "\n",
            "I have a dog.\n",
            "My dog's name is Scout.\n"
          ]
        }
      ]
    },
    {
      "cell_type": "code",
      "source": [
        "#try it 8-3\n",
        "def make_shirt(size, text):\n",
        "  print (f\"the shirt will be a size {size}.\")\n",
        "  print (f\"the shirt will have the text {text} on it.\")\n",
        "\n",
        "make_shirt('large', 'fun')\n",
        "\n",
        "make_shirt(size='small', text='food')"
      ],
      "metadata": {
        "colab": {
          "base_uri": "https://localhost:8080/"
        },
        "id": "QA90jzQEAhga",
        "outputId": "79796adf-1dfd-483e-c6c5-8d8ead4b1281"
      },
      "execution_count": null,
      "outputs": [
        {
          "output_type": "stream",
          "name": "stdout",
          "text": [
            "the shirt will be a size large.\n",
            "the shirt will have the text fun on it.\n",
            "the shirt will be a size small.\n",
            "the shirt will have the text food on it.\n"
          ]
        }
      ]
    },
    {
      "cell_type": "code",
      "source": [
        "#try it 8-4\n",
        "def make_shirt(text, size='large'):\n",
        "  print (f\"the shirt will be a size {size}.\")\n",
        "  print (f\"the shirt will have the text {text} on it.\")\n",
        "\n",
        "make_shirt(text ='I love python')\n",
        "\n",
        "make_shirt(text = 'default message')\n",
        "\n",
        "make_shirt(text='fun', size='small')"
      ],
      "metadata": {
        "colab": {
          "base_uri": "https://localhost:8080/"
        },
        "id": "eSsB4HZBCbMe",
        "outputId": "646d5d7c-b15f-4ddc-9be2-3dc20747b98d"
      },
      "execution_count": null,
      "outputs": [
        {
          "output_type": "stream",
          "name": "stdout",
          "text": [
            "the shirt will be a size large.\n",
            "the shirt will have the text I love python on it.\n",
            "the shirt will be a size large.\n",
            "the shirt will have the text default message on it.\n",
            "the shirt will be a size small.\n",
            "the shirt will have the text fun on it.\n"
          ]
        }
      ]
    },
    {
      "cell_type": "code",
      "source": [
        "def get_formatted(first_name, last_name):\n",
        "  full_name = f\"{first_name} {last_name}\"\n",
        "  return full_name.title()\n",
        "\n",
        "musician = get_formatted('jimi', 'hendrix')\n",
        "print (musician)"
      ],
      "metadata": {
        "colab": {
          "base_uri": "https://localhost:8080/"
        },
        "id": "tXNuPnviE6Bx",
        "outputId": "ff3d1722-f01e-489f-d68a-8cdff57358d3"
      },
      "execution_count": null,
      "outputs": [
        {
          "output_type": "stream",
          "name": "stdout",
          "text": [
            "Jimi Hendrix\n"
          ]
        }
      ]
    },
    {
      "cell_type": "code",
      "source": [
        "def build_person(first_name, last_name):\n",
        "  person = {'first': first_name, 'last': last_name}\n",
        "  return (person)\n",
        "\n",
        "musician = build_person('jimi', 'hendrix')\n",
        "print (musician)"
      ],
      "metadata": {
        "colab": {
          "base_uri": "https://localhost:8080/"
        },
        "id": "K67a06_SFez2",
        "outputId": "3d126b0a-36f9-48f0-d8b4-ea0430b3655f"
      },
      "execution_count": null,
      "outputs": [
        {
          "output_type": "stream",
          "name": "stdout",
          "text": [
            "{'first': 'jimi', 'last': 'hendrix'}\n"
          ]
        }
      ]
    },
    {
      "cell_type": "code",
      "source": [
        "def get_formatted_name(first_name, last_name):\n",
        "  full_name = f\"{first_name} {last_name}\"\n",
        "  return full_name.title()\n",
        "\n",
        "while True:\n",
        "  print (\"\\nPlease tell me your name:\")\n",
        "  print (\"(enter 'q' at any point to quit)\")\n",
        "\n",
        "\n",
        "  f_name = input(\"first name: \")\n",
        "  if f_name == 'q':\n",
        "    break\n",
        "\n",
        "  L_name = input(\"Last name: \")\n",
        "  if L_name == 'q':\n",
        "    break\n",
        "\n",
        "  formatted_name = get_formatted_name(f_name, L_name)\n",
        "  print (f\"\\nhello, {formatted_name}\")"
      ],
      "metadata": {
        "colab": {
          "base_uri": "https://localhost:8080/"
        },
        "id": "K4s9BlLPGTMo",
        "outputId": "1752c6ae-5a7d-4d46-fe3a-86f3b1f417b8"
      },
      "execution_count": null,
      "outputs": [
        {
          "name": "stdout",
          "output_type": "stream",
          "text": [
            "\n",
            "Please tell me your name:\n",
            "(enter 'q' at any point to quit)\n",
            "first name: dylan\n",
            "Last name: golden\n",
            "\n",
            "hello, Dylan Golden\n",
            "\n",
            "Please tell me your name:\n",
            "(enter 'q' at any point to quit)\n",
            "first name: q\n"
          ]
        }
      ]
    },
    {
      "cell_type": "code",
      "source": [
        "def greet_users(names):\n",
        "  for name in names:\n",
        "    msg = f\"hello, {name.title()}!\"\n",
        "    print (msg)\n",
        "\n",
        "usernames = ['hannah', 'ty', 'margot']\n",
        "greet_users(usernames)"
      ],
      "metadata": {
        "id": "qb_Mm71RHfSR"
      },
      "execution_count": null,
      "outputs": []
    },
    {
      "cell_type": "code",
      "source": [
        "unprinted_designs = ['phone case', 'robot pendant', 'dodechahedron']\n",
        "completed_models = []\n",
        "\n",
        "while unprinted_designs:\n",
        "  current_design = unprinted_designs.pop()\n",
        "  print (f\"Printing model: {current_design}\")\n",
        "  completed_models.append(current_design)\n",
        "\n",
        "print (\"\\nThe following models have been printed:\")\n",
        "for completed_model in completed_models:\n",
        "  print (completed_model)"
      ],
      "metadata": {
        "colab": {
          "base_uri": "https://localhost:8080/"
        },
        "id": "rhbUnV54JI5X",
        "outputId": "b9b28b4d-f385-4387-c543-0bca322ce750"
      },
      "execution_count": null,
      "outputs": [
        {
          "output_type": "stream",
          "name": "stdout",
          "text": [
            "Printing model: dodechahedron\n",
            "Printing model: robot pendant\n",
            "Printing model: phone case\n",
            "\n",
            "The following models have been printed:\n",
            "dodechahedron\n",
            "robot pendant\n",
            "phone case\n"
          ]
        }
      ]
    },
    {
      "cell_type": "code",
      "source": [
        "def make_pizza(*toppings):\n",
        "  print (toppings)\n",
        "\n",
        "make_pizza('pepperoni')\n",
        "make_pizza('mushrooms', 'green peppers', 'extra cheese')"
      ],
      "metadata": {
        "id": "37wC_lY0KKF1",
        "colab": {
          "base_uri": "https://localhost:8080/"
        },
        "outputId": "2b502093-ef0c-46c2-c7d9-3bb6c2b0bace"
      },
      "execution_count": 2,
      "outputs": [
        {
          "output_type": "stream",
          "name": "stdout",
          "text": [
            "('pepperoni',)\n",
            "('mushrooms', 'green peppers', 'extra cheese')\n"
          ]
        }
      ]
    },
    {
      "cell_type": "code",
      "source": [
        "def make_pizza(*toppings):\n",
        "  print (\"\\nmaking pizza with the following toppings:\")\n",
        "  for topping in toppings:\n",
        "    print (f\"- {topping}\")\n",
        "\n",
        "make_pizza('pepperoni')\n",
        "make_pizza('mushrooms', 'green peppers', 'extra cheese')"
      ],
      "metadata": {
        "colab": {
          "base_uri": "https://localhost:8080/"
        },
        "outputId": "b077295a-fbc0-4670-dcbb-a3ce8118156d",
        "id": "RDnQk4Yr4x8m"
      },
      "execution_count": 3,
      "outputs": [
        {
          "output_type": "stream",
          "name": "stdout",
          "text": [
            "\n",
            "making pizza with the following toppings:\n",
            "- pepperoni\n",
            "\n",
            "making pizza with the following toppings:\n",
            "- mushrooms\n",
            "- green peppers\n",
            "- extra cheese\n"
          ]
        }
      ]
    },
    {
      "cell_type": "code",
      "source": [
        "#try it 8-14\n",
        "def make_car(manufacturer, model_name, color, *year):\n",
        "  car = {'manufacturer': manufacturer, 'model': model_name, 'color': color, 'year': year }\n",
        "  print (car)\n",
        "\n",
        "make_car('international', 'Scout ii', 'flame red', '1973')"
      ],
      "metadata": {
        "colab": {
          "base_uri": "https://localhost:8080/"
        },
        "id": "amW9K8JX5NXw",
        "outputId": "03686f94-87fa-4d8e-aea5-c2b98ac3fca6"
      },
      "execution_count": 5,
      "outputs": [
        {
          "output_type": "stream",
          "name": "stdout",
          "text": [
            "{'manufacturer': 'international', 'model': 'Scout ii', 'color': 'flame red', 'year': ('1973',)}\n"
          ]
        }
      ]
    },
    {
      "cell_type": "code",
      "source": [
        "#two numbers\n",
        "\n",
        "def numbers(one, two = 3.14159265, verbose=False):\n",
        "  if verbose == True:\n",
        "    num_list = [one, two]\n",
        "    print (one + two)\n",
        "    print (sorted(num_list))\n",
        "\n",
        "numbers (1, 2, True)\n",
        "numbers (1)\n",
        "numbers (2, 1, True)\n",
        "numbers (5)\n"
      ],
      "metadata": {
        "colab": {
          "base_uri": "https://localhost:8080/"
        },
        "id": "2Pnpzs3m8bGm",
        "outputId": "4181eedf-30d9-47ba-81bb-b2da28aa22d2"
      },
      "execution_count": 17,
      "outputs": [
        {
          "output_type": "stream",
          "name": "stdout",
          "text": [
            "3\n",
            "[1, 2]\n",
            "3\n",
            "[1, 2]\n"
          ]
        }
      ]
    }
  ]
}