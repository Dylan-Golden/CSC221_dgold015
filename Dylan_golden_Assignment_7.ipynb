{
  "nbformat": 4,
  "nbformat_minor": 0,
  "metadata": {
    "colab": {
      "provenance": [],
      "authorship_tag": "ABX9TyPrXiJdhrw6BFh1IcgPJS5a",
      "include_colab_link": true
    },
    "kernelspec": {
      "name": "python3",
      "display_name": "Python 3"
    },
    "language_info": {
      "name": "python"
    }
  },
  "cells": [
    {
      "cell_type": "markdown",
      "metadata": {
        "id": "view-in-github",
        "colab_type": "text"
      },
      "source": [
        "<a href=\"https://colab.research.google.com/github/Dylan-Golden/CSC221_dgold015/blob/main/Dylan_golden_Assignment_7.ipynb\" target=\"_parent\"><img src=\"https://colab.research.google.com/assets/colab-badge.svg\" alt=\"Open In Colab\"/></a>"
      ]
    },
    {
      "cell_type": "code",
      "execution_count": null,
      "metadata": {
        "colab": {
          "base_uri": "https://localhost:8080/"
        },
        "id": "maOLNEB57kYn",
        "outputId": "45e6629d-7517-41e4-a5ef-1cf76c8619e1"
      },
      "outputs": [
        {
          "output_type": "stream",
          "name": "stdout",
          "text": [
            "green\n",
            "5\n"
          ]
        }
      ],
      "source": [
        "alien_0 = {'color':'green', 'points': 5}\n",
        "\n",
        "print (alien_0['color'])\n",
        "print (alien_0['points'])"
      ]
    },
    {
      "cell_type": "code",
      "source": [
        "alien_0 = {'color':'green', 'points': 5}\n",
        "\n",
        "new_points = alien_0['points']\n",
        "print (f\"you just earned {new_points} points!\")\n"
      ],
      "metadata": {
        "colab": {
          "base_uri": "https://localhost:8080/"
        },
        "id": "x8y9E4s69PWD",
        "outputId": "55e3cb78-fc84-489b-e10c-637fdee44107"
      },
      "execution_count": null,
      "outputs": [
        {
          "output_type": "stream",
          "name": "stdout",
          "text": [
            "you just earned 5 points!\n"
          ]
        }
      ]
    },
    {
      "cell_type": "code",
      "source": [
        "alien_0 = {'color':'green', 'points': 5}\n",
        "print (alien_0)\n",
        "\n",
        "alien_0['x_position'] = 0\n",
        "alien_0['y_position'] = 25\n",
        "print (alien_0)"
      ],
      "metadata": {
        "colab": {
          "base_uri": "https://localhost:8080/"
        },
        "id": "jMdhqqfl9f-Q",
        "outputId": "a24d1ac5-a28f-45ea-d1df-74e2ceb68a9d"
      },
      "execution_count": null,
      "outputs": [
        {
          "output_type": "stream",
          "name": "stdout",
          "text": [
            "{'color': 'green', 'points': 5}\n",
            "{'color': 'green', 'points': 5, 'x_position': 0, 'y_position': 25}\n"
          ]
        }
      ]
    },
    {
      "cell_type": "code",
      "source": [
        "alien_0 = {}\n",
        "\n",
        "alien_0['color'] = 'green'\n",
        "alien_0['points'] = 5\n",
        "\n",
        "print (alien_0)"
      ],
      "metadata": {
        "colab": {
          "base_uri": "https://localhost:8080/"
        },
        "id": "OG8bSlqR9zxv",
        "outputId": "98c9d2ca-fc25-4591-be84-fef3f51a2509"
      },
      "execution_count": null,
      "outputs": [
        {
          "output_type": "stream",
          "name": "stdout",
          "text": [
            "{'color': 'green', 'points': 5}\n"
          ]
        }
      ]
    },
    {
      "cell_type": "code",
      "source": [
        "alien_0 = {'color': 'green'}\n",
        "print (f\"the alien is {alien_0['color']}\")\n",
        "alien_0['color'] = 'yellow'\n",
        "print (f\"the alien is now {alien_0['color']}\")\n"
      ],
      "metadata": {
        "colab": {
          "base_uri": "https://localhost:8080/"
        },
        "id": "VL6GmCoi-BSO",
        "outputId": "32f24219-5da3-41ba-a6e9-908e3c8687a0"
      },
      "execution_count": null,
      "outputs": [
        {
          "output_type": "stream",
          "name": "stdout",
          "text": [
            "the alien is green\n",
            "the alien is now yellow\n"
          ]
        }
      ]
    },
    {
      "cell_type": "code",
      "source": [
        "alien_0 = {'x_position': 0, 'y_position': 25, 'speed': 'medium'}\n",
        "print (f\"Original position: {alien_0['x_position']}\")\n",
        "\n",
        "if alien_0['speed'] == 'slow':\n",
        "  x_increment = 1\n",
        "elif alien_0['speed'] == 'medium':\n",
        "  x_increment = 2\n",
        "else:\n",
        "  x_increment = 3\n",
        "\n",
        "alien_0['x_position'] = alien_0['x_position'] + x_increment\n",
        "print (f\"new position {alien_0['x_position']}\")"
      ],
      "metadata": {
        "colab": {
          "base_uri": "https://localhost:8080/"
        },
        "id": "AETXL3Cc-YlH",
        "outputId": "13adf7f3-3548-4c3a-e8fd-dd5dac3a313c"
      },
      "execution_count": null,
      "outputs": [
        {
          "output_type": "stream",
          "name": "stdout",
          "text": [
            "Original position: 0\n",
            "new position 2\n"
          ]
        }
      ]
    },
    {
      "cell_type": "code",
      "source": [
        "favorite_languages = {\n",
        "      'jen': 'python',\n",
        "      'sarah': \"c\",\n",
        "      'edward': 'rust',\n",
        "      'phil': 'python',\n",
        "}\n",
        "\n",
        "language = favorite_languages['sarah'].title()\n",
        "print (f\"sarah's favorite language is {language}\")"
      ],
      "metadata": {
        "colab": {
          "base_uri": "https://localhost:8080/"
        },
        "id": "-BlTwtokAAL0",
        "outputId": "09738dad-dcb8-4a2f-86c8-13f5a1e155dc"
      },
      "execution_count": null,
      "outputs": [
        {
          "output_type": "stream",
          "name": "stdout",
          "text": [
            "sarah's favorite language is C\n"
          ]
        }
      ]
    },
    {
      "cell_type": "code",
      "source": [
        "#try it 6-1\n",
        "person = {\n",
        "   'first_name': 'Nathan',\n",
        "   'last_name': 'Donton',\n",
        "   'age': '17',\n",
        "   'city': 'plattsburh',\n",
        "}\n",
        "print (person['first_name'])\n",
        "print (person['last_name'])\n",
        "print (person['age'])\n",
        "print (person['city'])\n"
      ],
      "metadata": {
        "colab": {
          "base_uri": "https://localhost:8080/"
        },
        "id": "yu3oo7X_B7f7",
        "outputId": "85bf6ada-7b1c-49d1-8acd-ee8496047f99"
      },
      "execution_count": null,
      "outputs": [
        {
          "output_type": "stream",
          "name": "stdout",
          "text": [
            "Nathan\n",
            "Donton\n",
            "17\n",
            "plattsburh\n"
          ]
        }
      ]
    },
    {
      "cell_type": "code",
      "source": [
        "#try it 6-2\n",
        "fav_num = {\n",
        "    'nate': '12',\n",
        "    'dylan': '23',\n",
        "    'thomas': '40',\n",
        "    'chase': '7',\n",
        "}\n",
        "print (f\"Nate: {fav_num['nate']}\")\n",
        "print (f\"Dylan: {fav_num['dylan']}\")\n",
        "print (f\"Thomas: {fav_num['thomas']}\")\n",
        "print (f\"Chase: {fav_num['chase']}\")\n",
        "\n"
      ],
      "metadata": {
        "colab": {
          "base_uri": "https://localhost:8080/"
        },
        "id": "CTZipNneGrlF",
        "outputId": "566d48be-bdf2-428d-be1d-7f3975cec21d"
      },
      "execution_count": null,
      "outputs": [
        {
          "output_type": "stream",
          "name": "stdout",
          "text": [
            "Nate: 12\n",
            "Dylan: 23\n",
            "Thomas: 40\n",
            "Chase: 7\n"
          ]
        }
      ]
    },
    {
      "cell_type": "code",
      "source": [
        "#try it 6-3  pg 99\n",
        "glossary = {\n",
        "    'list': 'makes a list into which objects can be added or removed',\n",
        "    'tuple': 'like a list but objects can not be added or removed',\n",
        "    'if': 'used to make a set of conditions hat when met will do somethng',\n",
        "    'for': 'iterates over the members of a sequence in order, executing the block each time.',\n",
        "    'print': 'prints out whatever you put in the parantheses',\n",
        "}\n",
        "\n",
        "print (f\"List: {glossary['list']}\")\n",
        "print (f\"Tuple: {glossary['tuple']}\")\n",
        "print (f\"If: {glossary['if']}\")\n",
        "print (f\"For: {glossary['for']}\")\n",
        "print (f\"Print: {glossary['print']}\")\n"
      ],
      "metadata": {
        "id": "YGUpcv-oIx9H",
        "colab": {
          "base_uri": "https://localhost:8080/"
        },
        "outputId": "97a58747-8aaa-453a-917e-c2bdf2776257"
      },
      "execution_count": 2,
      "outputs": [
        {
          "output_type": "stream",
          "name": "stdout",
          "text": [
            "List: makes a list into which objects can be added or removed\n",
            "Tuple: like a list but objects can not be added or removed\n",
            "If: used to make a set of conditions hat when met will do somethng\n",
            "For: iterates over the members of a sequence in order, executing the block each time.\n",
            "Print: prints out whatever you put in the parantheses\n"
          ]
        }
      ]
    },
    {
      "cell_type": "code",
      "source": [
        "user_0 = {\n",
        "    'username': 'efermi',\n",
        "    'first': 'enrico',\n",
        "    'last': 'fermi',\n",
        "}\n",
        "\n",
        "for key, value in user_0.items():\n",
        "  print (f\"\\nKey: {key}\")\n",
        "  print (f\"Value: {value}\")"
      ],
      "metadata": {
        "colab": {
          "base_uri": "https://localhost:8080/"
        },
        "id": "ygKX8Cj56uPL",
        "outputId": "cf4965a0-1c9d-4ad3-e3e6-5a26121ea034"
      },
      "execution_count": 3,
      "outputs": [
        {
          "output_type": "stream",
          "name": "stdout",
          "text": [
            "\n",
            "Key: username\n",
            "Value: efermi\n",
            "\n",
            "Key: first\n",
            "Value: enrico\n",
            "\n",
            "Key: last\n",
            "Value: fermi\n"
          ]
        }
      ]
    },
    {
      "cell_type": "code",
      "source": [
        "favorite_languages = {\n",
        "      'jen': 'python',\n",
        "      'sarah': \"c\",\n",
        "      'edward': 'rust',\n",
        "      'phil': 'python',\n",
        "}\n",
        "\n",
        "for name, language in favorite_languages.items():\n",
        "  print (f\"{name.title()}'s favorite language is {language.title()}.\")"
      ],
      "metadata": {
        "colab": {
          "base_uri": "https://localhost:8080/"
        },
        "id": "4xAAowzn7sl0",
        "outputId": "c243808d-8bf2-43a2-efd9-065ee948e3b1"
      },
      "execution_count": 4,
      "outputs": [
        {
          "output_type": "stream",
          "name": "stdout",
          "text": [
            "Jen's favorite language is Python.\n",
            "Sarah's favorite language is C.\n",
            "Edward's favorite language is Rust.\n",
            "Phil's favorite language is Python.\n"
          ]
        }
      ]
    },
    {
      "cell_type": "code",
      "source": [
        "#try it 6-4\n",
        "#try it 6-3  pg 99\n",
        "glossary = {\n",
        "    'list': 'makes a list into which objects can be added or removed',\n",
        "    'tuple': 'like a list but objects can not be added or removed',\n",
        "    'if': 'used to make a set of conditions hat when met will do somethng',\n",
        "    'for': 'iterates over the members of a sequence in order, executing the block each time.',\n",
        "    'print': 'prints out whatever you put in the parantheses',\n",
        "    'len': 'gets the length of a list or string',\n",
        "    'while': 'loops until a certain requirment is met',\n",
        "    'str': 'turns an object into a string',\n",
        "    'int': 'turns an object into a integer',\n",
        "    'class': 'tells you the class of an item',\n",
        "}\n",
        "\n",
        "for term, definition in glossary.items():\n",
        "  print (f\"{term.title()}:\\n {definition.title()}.\")\n"
      ],
      "metadata": {
        "colab": {
          "base_uri": "https://localhost:8080/"
        },
        "id": "BzGbc4u78ixF",
        "outputId": "a52509a0-3b9e-46d8-91e2-b1d710172589"
      },
      "execution_count": 6,
      "outputs": [
        {
          "output_type": "stream",
          "name": "stdout",
          "text": [
            "List:\n",
            " Makes A List Into Which Objects Can Be Added Or Removed.\n",
            "Tuple:\n",
            " Like A List But Objects Can Not Be Added Or Removed.\n",
            "If:\n",
            " Used To Make A Set Of Conditions Hat When Met Will Do Somethng.\n",
            "For:\n",
            " Iterates Over The Members Of A Sequence In Order, Executing The Block Each Time..\n",
            "Print:\n",
            " Prints Out Whatever You Put In The Parantheses.\n",
            "Len:\n",
            " Gets The Length Of A List Or String.\n",
            "While:\n",
            " Loops Until A Certain Requirment Is Met.\n",
            "Str:\n",
            " Turns An Object Into A String.\n",
            "Int:\n",
            " Turns An Object Into A Integer.\n",
            "Class:\n",
            " Tells You The Class Of An Item.\n"
          ]
        }
      ]
    },
    {
      "cell_type": "code",
      "source": [
        "alien_0 = {'color': 'green', 'points': 5}\n",
        "alien_1 = {'color': 'yellow', 'points': 10}\n",
        "alien_2 = {'color': 'red', 'points': 15}\n",
        "\n",
        "aliens = [alien_0, alien_1, alien_2]\n",
        "for alien in aliens:\n",
        "  print (alien)"
      ],
      "metadata": {
        "colab": {
          "base_uri": "https://localhost:8080/"
        },
        "id": "231w-CGnA3pn",
        "outputId": "0df79eaf-2fb1-4a7d-d803-12b6b9a601fb"
      },
      "execution_count": 7,
      "outputs": [
        {
          "output_type": "stream",
          "name": "stdout",
          "text": [
            "{'color': 'green', 'points': 5}\n",
            "{'color': 'yellow', 'points': 10}\n",
            "{'color': 'red', 'points': 15}\n"
          ]
        }
      ]
    },
    {
      "cell_type": "code",
      "source": [
        "users = {\n",
        "    'aeinstein': {\n",
        "        'first': 'albert',\n",
        "        'last': 'einstein',\n",
        "        'location': 'princeton',\n",
        "    },\n",
        "\n",
        "    'mcurie':  {\n",
        "        'first': 'marie',\n",
        "        'last': 'curie',\n",
        "        'location': 'paris',\n",
        "    },\n",
        "}\n",
        "\n",
        "for username, user_info in users.items():\n",
        "  print (f\"\\nUsername: {username}\")\n",
        "  full_name = f\"{user_info['first']} {user_info['last']}\"\n",
        "  location = user_info['location']\n",
        "\n",
        "  print (f\"\\tfull name: {full_name.title()}\")\n",
        "  print (f\"\\tLocation: {location.title()}\")\n"
      ],
      "metadata": {
        "colab": {
          "base_uri": "https://localhost:8080/"
        },
        "id": "isEH0bN0B4Gz",
        "outputId": "9cacf06b-a77c-4927-cb11-c69d3ce00b88"
      },
      "execution_count": 10,
      "outputs": [
        {
          "output_type": "stream",
          "name": "stdout",
          "text": [
            "\n",
            "Username: aeinstein\n",
            "\tfull name: Albert Einstein\n",
            "\tLocation: Princeton\n",
            "\n",
            "Username: mcurie\n",
            "\tfull name: Marie Curie\n",
            "\tLocation: Paris\n"
          ]
        }
      ]
    },
    {
      "cell_type": "code",
      "source": [
        "# try it 6-11\n",
        "cities = {\n",
        "\n",
        "    'plattsburgh': {\n",
        "        'location': 'New york',\n",
        "        'population': '19,909',\n",
        "        'fact': 'it is were the battle of plattsburgh took place.',\n",
        "    },\n",
        "\n",
        "    'austin': {\n",
        "        'location': 'texas',\n",
        "        'population': '964,177',\n",
        "        'fact': 'has the largest urban bat colony in north america',\n",
        "    },\n",
        "    'orlando': {\n",
        "        'location': 'florida',\n",
        "        'population': '304,154',\n",
        "        'fact': 'home to more than 100 lakes',\n",
        "    },\n",
        "\n",
        "\n",
        "  }\n",
        "\n",
        "for places, info in cities.items():\n",
        "  print (f\"City: {places.title()}\")\n",
        "  location = info['location']\n",
        "  population = info['population']\n",
        "  fact = info['fact']\n",
        "  print (f\"Location: {location.title()}\")\n",
        "  print (f\"population: {population.title()}\")\n",
        "  print (f\"Fact: {fact.title()}\")\n",
        "  print (\"--------------------------------------\")"
      ],
      "metadata": {
        "colab": {
          "base_uri": "https://localhost:8080/"
        },
        "id": "7Ukvc3-HFVKE",
        "outputId": "4316ef45-3f21-41ec-caff-08486847174f"
      },
      "execution_count": 14,
      "outputs": [
        {
          "output_type": "stream",
          "name": "stdout",
          "text": [
            "City: Plattsburgh\n",
            "Location: New York\n",
            "population: 19,909\n",
            "fact: It Is Were The Battle Of Plattsburgh Took Place.\n",
            "--------------------------------------\n",
            "City: Austin\n",
            "Location: Texas\n",
            "population: 964,177\n",
            "fact: Has The Largest Urban Bat Colony In North America\n",
            "--------------------------------------\n",
            "City: Orlando\n",
            "Location: Florida\n",
            "population: 304,154\n",
            "fact: Home To More Than 100 Lakes\n",
            "--------------------------------------\n"
          ]
        }
      ]
    },
    {
      "cell_type": "code",
      "source": [
        "#try it 6-12\n",
        "fav_thing = {\n",
        "    'nate': {\n",
        "        'num': '12',\n",
        "        'hobbie': 'watching anime',\n",
        "        'game': 'Destiny 2',\n",
        "    },\n",
        "    'dylan': {\n",
        "        'num': '23',\n",
        "        'hobbie': 'playing video games',\n",
        "        'game': 'Destiny 2',\n",
        "    },\n",
        "    'thomas': {\n",
        "        'num': '40',\n",
        "        'hobbie': 'vehicle mechanics',\n",
        "        'game': 'CSGO',\n",
        "    },\n",
        "    'chase': {\n",
        "        'num': '7',\n",
        "        'hobbie': 'cooking',\n",
        "        'game': 'Deep Rock Galactic'\n",
        "    },\n",
        "}\n",
        "for name, info in fav_thing.items():\n",
        "  print (f\"Name: {name.title()}\")\n",
        "  num = info['num']\n",
        "  hobbie = info['hobbie']\n",
        "  game = info['game']\n",
        "  print (f\"Favorite num: {num.title()}\")\n",
        "  print (f\"Favorite hobbie: {hobbie.title()}\")\n",
        "  print (f\"Favorite game: {game.title()}\")\n",
        "  print (\"------------------------------------\")"
      ],
      "metadata": {
        "colab": {
          "base_uri": "https://localhost:8080/"
        },
        "id": "XVJMPASHKRKm",
        "outputId": "3ed23f42-3723-4d88-9ac0-662018a16fd5"
      },
      "execution_count": 17,
      "outputs": [
        {
          "output_type": "stream",
          "name": "stdout",
          "text": [
            "Name: Nate\n",
            "Favorite num: 12\n",
            "Favorite hobbie: Watching Anime\n",
            "Favorite game: Destiny 2\n",
            "------------------------------------\n",
            "Name: Dylan\n",
            "Favorite num: 23\n",
            "Favorite hobbie: Playing Video Games\n",
            "Favorite game: Destiny 2\n",
            "------------------------------------\n",
            "Name: Thomas\n",
            "Favorite num: 40\n",
            "Favorite hobbie: Vehicle Mechanics\n",
            "Favorite game: Csgo\n",
            "------------------------------------\n",
            "Name: Chase\n",
            "Favorite num: 7\n",
            "Favorite hobbie: Cooking\n",
            "Favorite game: Deep Rock Galactic\n",
            "------------------------------------\n"
          ]
        }
      ]
    }
  ]
}