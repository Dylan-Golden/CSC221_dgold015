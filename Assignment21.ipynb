{
  "nbformat": 4,
  "nbformat_minor": 0,
  "metadata": {
    "colab": {
      "provenance": [],
      "include_colab_link": true
    },
    "kernelspec": {
      "name": "python3",
      "display_name": "Python 3"
    },
    "language_info": {
      "name": "python"
    }
  },
  "cells": [
    {
      "cell_type": "markdown",
      "metadata": {
        "id": "view-in-github",
        "colab_type": "text"
      },
      "source": [
        "<a href=\"https://colab.research.google.com/github/Dylan-Golden/CSC221_dgold015/blob/main/Assignment21.ipynb\" target=\"_parent\"><img src=\"https://colab.research.google.com/assets/colab-badge.svg\" alt=\"Open In Colab\"/></a>"
      ]
    },
    {
      "cell_type": "markdown",
      "source": [
        "# Assignment 21\n",
        "## CSC 221\n",
        "- PLEASE INSERT YOUR NAME HERE!\n",
        "\n",
        "### Instructions:\n",
        "Fill in each code cell below the question. We are following along in Chapter 4 of Python Distilled."
      ],
      "metadata": {
        "id": "IAOUzGWE1eDx"
      }
    },
    {
      "cell_type": "code",
      "execution_count": 8,
      "metadata": {
        "id": "Gnj3su7i5-lx",
        "colab": {
          "base_uri": "https://localhost:8080/"
        },
        "outputId": "48ea8405-5e83-48d6-e794-376be487fec5"
      },
      "outputs": [
        {
          "output_type": "stream",
          "name": "stdout",
          "text": [
            "hello, 123\n",
            "123, hello\n",
            "1 2\n",
            "hello,  hello\n"
          ]
        }
      ],
      "source": [
        "# 4.2 Object Identity and Type\n",
        "\n",
        "# Make a function that performs differently depending on the types of its inputs\n",
        "# cat(a, b) below will work if you pass in two numbers or two strings\n",
        "# Use isinstance to detect when you are getting a string and an int and\n",
        "# automatically convert the int to a string and return the string!\n",
        "\n",
        "def cat(a, b):\n",
        "    return a + b\n",
        "\n",
        "#print(cat(3, 5))\n",
        "#print(cat(\"Hello, \", \"World!\"))\n",
        "#print(cat(\"Hello, \", 123))  # FAILS: Should return 'Hello, 123'\n",
        "\n",
        "# INSERT YOUR CODE HERE\n",
        "def cat2(a, b):\n",
        "  if (isinstance(a, str) and isinstance(b, int)) or (isinstance(a, int) and isinstance(b, str)):\n",
        "    if type(b) == int:\n",
        "      b = str(b)\n",
        "    if type(a) == int:\n",
        "      a = str(a)\n",
        "\n",
        "  return a + b\n",
        "\n",
        "print (cat2('hello, ', 123))\n",
        "print (cat2(123, \", hello\"))\n",
        "print (1, 2)\n",
        "print ('hello, ', 'hello')"
      ]
    },
    {
      "cell_type": "code",
      "source": [
        "# Explain the output of the following code\n",
        "import sys\n",
        "\n",
        "class EmptyClass:\n",
        "    def __init__(self):\n",
        "        print('init')\n",
        "    def __del__(self):\n",
        "        print('del')\n",
        "\n",
        "def print_refcount(x):\n",
        "    print(sys.getrefcount(x))\n",
        "\n",
        "f1 = EmptyClass()\n",
        "print_refcount(f1)\n",
        "f2 = f1\n",
        "print_refcount(f1)\n",
        "f3 = f1\n",
        "print_refcount(f1)\n",
        "\n",
        "del f1\n",
        "print_refcount(f3)\n",
        "del f2\n",
        "print_refcount(f3)\n",
        "del f3\n",
        "\n",
        "# INSERT YOUR EXPLANATION HERE\n",
        "# first line is Empty class being initalized/calle for the first time # the second line is that f1 has been referneced 4 times\n",
        "# the next two are after f1 is referenced again when f1 was coppied to make f2 and f3\n",
        "#then f1 is deleted and f3 is used instead, but since f3 is a copy of f1, f3 will have the same refcount -1 since f1 was deleted\n",
        "# then since f2 is dleted the refcount drops again\n",
        "# since their are no more refrences del is printed?"
      ],
      "metadata": {
        "colab": {
          "base_uri": "https://localhost:8080/"
        },
        "id": "DKFgqiK-jlZg",
        "outputId": "08bac36d-8d05-48a4-cada-717028bb2894"
      },
      "execution_count": null,
      "outputs": [
        {
          "output_type": "stream",
          "name": "stdout",
          "text": [
            "init\n",
            "4\n",
            "5\n",
            "6\n",
            "5\n",
            "4\n",
            "del\n"
          ]
        }
      ]
    },
    {
      "cell_type": "code",
      "source": [
        "# Section 4.4, Part 1\n",
        "# Explain this output. Why does it seem odd?\n",
        "a = [1, 2, 3]\n",
        "b = a\n",
        "b[1] = 99\n",
        "print(a)\n",
        "print(b)\n",
        "\n",
        "# INSERT YOUR EXPLANATION HERE\n",
        "# it seems odd because you only told it to change b but it chnaged both a and b\n",
        "# but since a and be reference the same object then when changing one both are changed"
      ],
      "metadata": {
        "colab": {
          "base_uri": "https://localhost:8080/"
        },
        "id": "-pBk9F45ke-W",
        "outputId": "f4bad81e-6c8a-4039-b904-703eef679d7a"
      },
      "execution_count": null,
      "outputs": [
        {
          "output_type": "stream",
          "name": "stdout",
          "text": [
            "[1, 99, 3]\n",
            "[1, 99, 3]\n"
          ]
        }
      ]
    },
    {
      "cell_type": "code",
      "source": [
        "# Section 4.4, Part 2\n",
        "# Explain this output. Why is it from Part 1?\n",
        "a = [1, 2, 3]\n",
        "b = a[:]\n",
        "b[1] = 99\n",
        "print(a)\n",
        "print(b)\n",
        "\n",
        "# INSERT YOUR EXPLANATION HERE\n",
        "# this time be was set equal to a clone of a so it refrences a differnet thing"
      ],
      "metadata": {
        "colab": {
          "base_uri": "https://localhost:8080/"
        },
        "id": "PFG-FWuUnmM6",
        "outputId": "f4ccf08c-e2ba-4bac-d5e4-e91c1d431899"
      },
      "execution_count": null,
      "outputs": [
        {
          "output_type": "stream",
          "name": "stdout",
          "text": [
            "[1, 2, 3]\n",
            "[1, 99, 3]\n"
          ]
        }
      ]
    },
    {
      "cell_type": "code",
      "source": [
        "# Section 4.4, Part 3\n",
        "# Explain this output. Why is it from Part 1?\n",
        "a = [1, 2, 3]\n",
        "b = list(a)\n",
        "b[1] = 99\n",
        "print(a)\n",
        "print(b)\n",
        "\n",
        "# INSERT YOUR EXPLANATION HERE\n",
        "# in this you also create a copy of a for b to copy"
      ],
      "metadata": {
        "colab": {
          "base_uri": "https://localhost:8080/"
        },
        "id": "gYLWsIv0n1uR",
        "outputId": "73cbb7b6-1d9a-4a32-820d-ee12946641f1"
      },
      "execution_count": 10,
      "outputs": [
        {
          "output_type": "stream",
          "name": "stdout",
          "text": [
            "[2, 3, 1]\n",
            "[1, 99, 3]\n"
          ]
        }
      ]
    },
    {
      "cell_type": "code",
      "source": [
        "# Section 4.4, Part 4\n",
        "# Now we understand copy vs. reference. What about shallow vs. deep copy?\n",
        "# Here's a shoolow copy. Why are a and b the same?\n",
        "a = [1, [100, 101], 3]\n",
        "b = list(a)\n",
        "b[1][1] = 900\n",
        "print(a)\n",
        "print(b)\n",
        "\n",
        "# INSERT YOUR EXPLANATION HERE\n",
        "# the elemnts in and b are still shared thus a can be modified"
      ],
      "metadata": {
        "colab": {
          "base_uri": "https://localhost:8080/"
        },
        "id": "8qAscig2oA7D",
        "outputId": "e9e4e832-9aa6-477f-dda6-61a6403e883c"
      },
      "execution_count": null,
      "outputs": [
        {
          "output_type": "stream",
          "name": "stdout",
          "text": [
            "[1, [100, 900], 3]\n",
            "[1, [100, 900], 3]\n"
          ]
        }
      ]
    },
    {
      "cell_type": "code",
      "source": [
        "# Section 4.4, Part 5\n",
        "# Modify the code from the cell above (repeated here) to perform a deepcopy of a\n",
        "# Explain how that is different.\n",
        "import copy\n",
        "a = [1, [100, 101], 3]\n",
        "b = copy.deepcopy(a) # Must be modified to do a deepcopy of a! (See text).\n",
        "b[1][1] = 900\n",
        "print(a)\n",
        "print(b)\n",
        "\n",
        "# INSERT YOUR EXPLANATION HERE\n",
        "#deepcopy creates a new object and copies all of the stuff inside the original\n",
        "#since deepcopy makes a new object they are no longer conected to the original"
      ],
      "metadata": {
        "colab": {
          "base_uri": "https://localhost:8080/"
        },
        "id": "Mc2xAGC-oU3C",
        "outputId": "b6601806-fbdd-48f7-a35e-0aff0793f805"
      },
      "execution_count": 11,
      "outputs": [
        {
          "output_type": "stream",
          "name": "stdout",
          "text": [
            "[1, [100, 101], 3]\n",
            "[1, [100, 900], 3]\n"
          ]
        }
      ]
    }
  ]
}