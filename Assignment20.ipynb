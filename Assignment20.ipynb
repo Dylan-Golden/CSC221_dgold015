{
  "nbformat": 4,
  "nbformat_minor": 0,
  "metadata": {
    "colab": {
      "provenance": [],
      "include_colab_link": true
    },
    "kernelspec": {
      "name": "python3",
      "display_name": "Python 3"
    },
    "language_info": {
      "name": "python"
    }
  },
  "cells": [
    {
      "cell_type": "markdown",
      "metadata": {
        "id": "view-in-github",
        "colab_type": "text"
      },
      "source": [
        "<a href=\"https://colab.research.google.com/github/Dylan-Golden/CSC221_dgold015/blob/main/Assignment20.ipynb\" target=\"_parent\"><img src=\"https://colab.research.google.com/assets/colab-badge.svg\" alt=\"Open In Colab\"/></a>"
      ]
    },
    {
      "cell_type": "markdown",
      "source": [
        "# Assignment 20\n",
        "## CSC 221\n",
        "- PLEASE INSERT YOUR NAME HERE!\n",
        "\n",
        "### Instructions:\n",
        "Fill in each code cell below the question. We are following along in Chapter 4 of Python Distilled."
      ],
      "metadata": {
        "id": "IAOUzGWE1eDx"
      }
    },
    {
      "cell_type": "code",
      "execution_count": null,
      "metadata": {
        "id": "Gnj3su7i5-lx",
        "colab": {
          "base_uri": "https://localhost:8080/"
        },
        "outputId": "873cd682-013a-40ad-c966-8609abe2aafb"
      },
      "outputs": [
        {
          "output_type": "stream",
          "name": "stdout",
          "text": [
            "19\n",
            "44.5\n",
            "asdfg13\n"
          ]
        }
      ],
      "source": [
        "# 4.1 Essential Concepts\n",
        "\n",
        "# When we write \"a + b\" in Python, the interpreter tries to execute a.__add__(b)\n",
        "\n",
        "# Show that this is true by trying the following:\n",
        "a = 6\n",
        "b = 31.5\n",
        "c = 'asdfg'\n",
        "a1 = a.__add__(13)\n",
        "b1 = b.__add__(13)\n",
        "c1 = c.__add__('13')\n",
        "print(a1)\n",
        "print(b1)\n",
        "print(c1)\n",
        "\n",
        "# What are the types of a, b, and c?\n",
        "\n",
        "# a is an int\n",
        "#b is a float\n",
        "#c is a string\n",
        "\n",
        "# Explain the results\n",
        "\n",
        "#a1 is standars math with two integers, a2 is math with a float and int so the output is a float aswell,  a3 is a string and a string being added so they are just stuck together"
      ]
    },
    {
      "cell_type": "code",
      "source": [
        "# 4.2 through 4.4 will be covered in the next assignment\n"
      ],
      "metadata": {
        "id": "w2uYd3DO2do6"
      },
      "execution_count": null,
      "outputs": []
    },
    {
      "cell_type": "code",
      "source": [
        "# 4.5 str and repr\n",
        "# How many categpries of printing are shown below for a datetime object?\n",
        "# What in the Pythion code makes each one get callled?\n",
        "\n",
        "from datetime import date\n",
        "d = date(2023, 11, 7)\n",
        "\n",
        "#print(d)\n",
        "#print(f'{d}')\n",
        "#print(f'{d!s}')\n",
        "#print(f'{d!r}')\n",
        "#print(str(d))\n",
        "#print(repr(d))\n",
        "#print(d.__str__())\n",
        "#print(d.__repr__())\n",
        "\n",
        "#2? str and repr\n",
        "#the print statement?"
      ],
      "metadata": {
        "id": "Aa3ylzmV2wNF"
      },
      "execution_count": null,
      "outputs": []
    },
    {
      "cell_type": "code",
      "source": [
        "# 4.6 First-Class Objects\n",
        "import math\n",
        "# What is the significance of all objects being \"first-class\" in Python?\n",
        "\n",
        "#they can be treated as data\n",
        "\n",
        "# Explain by typing in the code to create and use the 'items' dictionary shown in section 4.6.\n",
        "# Explain each of the lines starting with '>>>' in the section.\n",
        "items = {\n",
        "    'number': 42,\n",
        "    'text': \"hello world\"\n",
        "\n",
        "}\n",
        "\n",
        "items['func'] = abs\n",
        "items['mod'] = math\n",
        "items['error'] = ValueError\n",
        "nums = [1, 2, 3, 4]\n",
        "items['append'] = nums.append\n",
        "\n",
        "#uses the func object in the dictionary to get the absolute value of -45\n",
        "#uses the mod object to get the sqrt function from the math module and use it on 4\n",
        "#does the same thing as using value error\n",
        "#appends 100 to nums list"
      ],
      "metadata": {
        "id": "9LRpP06Vsw6n"
      },
      "execution_count": null,
      "outputs": []
    },
    {
      "cell_type": "code",
      "source": [
        "# 4.7 Using None\n",
        "# Write a function that takes two parameters and returns their sum if they are\n",
        "#  integers or returns None if either one is not.\n",
        "\n",
        "# Put in some test code to show that your function works\n",
        "\n",
        "# INSERT YOUR CODE HERE\n",
        "def sum(first, second):\n",
        "  if (type(first) == int and type(second) == int):\n",
        "    return first + second\n",
        "  else:\n",
        "    return None\n",
        "\n",
        "print (sum(1, 2))\n",
        "print (sum(1, 'f'))\n",
        "print (sum(1, 1.1))"
      ],
      "metadata": {
        "id": "dUhRWGnCtewU",
        "colab": {
          "base_uri": "https://localhost:8080/"
        },
        "outputId": "2e0900a2-3e04-4337-f0ed-6f76dba01bee"
      },
      "execution_count": 5,
      "outputs": [
        {
          "output_type": "stream",
          "name": "stdout",
          "text": [
            "3\n",
            "None\n",
            "None\n"
          ]
        }
      ]
    },
    {
      "cell_type": "code",
      "source": [
        "# 4.9 Object Protocol\n",
        "# Create a simple object that has methods for:\n",
        "#  __new__\n",
        "#  __init__\n",
        "#  __del__\n",
        "#  __repr__\n",
        "#  __str__\n",
        "\n",
        "# Put in some test code to show how and when each of these 'magic' functions gets called.\n",
        "\n",
        "# INSERT YOUR CODE HERE\n",
        "class Simple:\n",
        "  def __init__(self, msg, name):\n",
        "    self.msg = msg\n",
        "    self.name = name\n",
        "\n",
        "  def __repr__(self):\n",
        "    return \"calling repr\"\n",
        "\n",
        "  def __str__(self):\n",
        "    return \"calling str\"\n",
        "\n",
        "  def __del__(self, name):\n",
        "    print (f\"deleting. {self.name}\")\n",
        "\n",
        "s1 = Simple(\"hello\", \"test\")\n",
        "\n",
        "print (s1)\n",
        "# I dont understand why del isnt showing\n",
        "# I also dont understand how to use new\n",
        "# I dont know why only str is showing"
      ],
      "metadata": {
        "id": "4M-CQevEt2xQ",
        "colab": {
          "base_uri": "https://localhost:8080/"
        },
        "outputId": "8987c558-173c-46fd-c6ab-b19fbf9091f0"
      },
      "execution_count": 34,
      "outputs": [
        {
          "output_type": "stream",
          "name": "stdout",
          "text": [
            "calling str\n"
          ]
        },
        {
          "output_type": "stream",
          "name": "stderr",
          "text": [
            "Exception ignored in: <function Simple.__del__ at 0x7aec376df6d0>\n",
            "Traceback (most recent call last):\n",
            "  File \"/usr/local/lib/python3.10/dist-packages/google/colab/_variable_inspector.py\", line 27, in run\n",
            "TypeError: Simple.__del__() missing 1 required positional argument: 'name'\n"
          ]
        }
      ]
    },
    {
      "cell_type": "code",
      "source": [],
      "metadata": {
        "id": "hnSuapb3cXjV"
      },
      "execution_count": null,
      "outputs": []
    }
  ]
}