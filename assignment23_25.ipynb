{
  "nbformat": 4,
  "nbformat_minor": 0,
  "metadata": {
    "colab": {
      "provenance": [],
      "authorship_tag": "ABX9TyPJi2E2fQX07Bu4UYgxmBUc",
      "include_colab_link": true
    },
    "kernelspec": {
      "name": "python3",
      "display_name": "Python 3"
    },
    "language_info": {
      "name": "python"
    }
  },
  "cells": [
    {
      "cell_type": "markdown",
      "metadata": {
        "id": "view-in-github",
        "colab_type": "text"
      },
      "source": [
        "<a href=\"https://colab.research.google.com/github/Dylan-Golden/CSC221_dgold015/blob/main/assignment23_25.ipynb\" target=\"_parent\"><img src=\"https://colab.research.google.com/assets/colab-badge.svg\" alt=\"Open In Colab\"/></a>"
      ]
    },
    {
      "cell_type": "code",
      "execution_count": null,
      "metadata": {
        "colab": {
          "base_uri": "https://localhost:8080/"
        },
        "id": "biU7I0aOpDsT",
        "outputId": "0437bbf7-1e7a-4be7-90ff-e3a2ef7a2e70"
      },
      "outputs": [
        {
          "output_type": "stream",
          "name": "stdout",
          "text": [
            "their are two arguments 2, and 4.\n",
            "6\n"
          ]
        }
      ],
      "source": [
        "def first(x, y):\n",
        "  print (f\"their are two arguments {x}, and {y}.\")\n",
        "  return x + y\n",
        "\n",
        "test1 = first(2, 4)\n",
        "print (test1)"
      ]
    },
    {
      "cell_type": "code",
      "source": [
        "def second(*args):\n",
        "  if 1 in args:\n",
        "    print (\"True\")\n",
        "  if 2 in args:\n",
        "    print (\"True\")\n",
        "  if 3 in args:\n",
        "    print (\"True\")\n",
        "  if 4 in args:\n",
        "    print (\"False\")\n",
        "\n",
        "test2 = second(1, 2, 3, 4)\n",
        "\n",
        "test2"
      ],
      "metadata": {
        "colab": {
          "base_uri": "https://localhost:8080/"
        },
        "id": "XdPd7UPUpkia",
        "outputId": "ee53737e-c37c-40d3-bb1f-1cf290a67b0f"
      },
      "execution_count": null,
      "outputs": [
        {
          "output_type": "stream",
          "name": "stdout",
          "text": [
            "True\n",
            "True\n",
            "True\n",
            "False\n"
          ]
        }
      ]
    },
    {
      "cell_type": "code",
      "source": [
        "def third(**kwargs):\n",
        "  if 'debug' in kwargs:\n",
        "    if kwargs['debug']:\n",
        "      print ('debuging')\n",
        "  if 'something' in kwargs:\n",
        "    print (f\"something is specified as {kwargs['something']}\")\n",
        "\n",
        "test3 = third(debug = False, something = 'food')\n",
        "test4 = third(debug = True, something = 123)\n",
        "\n",
        "test3\n",
        "test4"
      ],
      "metadata": {
        "colab": {
          "base_uri": "https://localhost:8080/"
        },
        "id": "NKWtG8OlsTum",
        "outputId": "c2903f16-2adf-45cf-aa75-66b642d343b1"
      },
      "execution_count": null,
      "outputs": [
        {
          "output_type": "stream",
          "name": "stdout",
          "text": [
            "something is specified as food\n",
            "debuging\n",
            "something is specified as 123\n"
          ]
        }
      ]
    },
    {
      "cell_type": "code",
      "source": [
        "def fourth(*args, **kwargs):\n",
        "  if 'operator' in kwargs:\n",
        "    if kwargs['operator'] == '+':\n",
        "      x = 0\n",
        "      for arg in args:\n",
        "        x += arg\n",
        "\n",
        "    if kwargs['operator'] == '-':\n",
        "      x = 0\n",
        "      for arg in args:\n",
        "        x += -arg\n",
        "\n",
        "    return x\n",
        "\n",
        "\n",
        "test5 = fourth(5, 5, 10, 20, operator = '+')\n",
        "test6 = fourth(5, 5, 10,  operator = '-')\n",
        "\n",
        "print(test5)\n",
        "print(test6)"
      ],
      "metadata": {
        "colab": {
          "base_uri": "https://localhost:8080/"
        },
        "id": "103ki4_CumFm",
        "outputId": "f01a3a11-b08a-4026-9f32-e8d47f5bc64f"
      },
      "execution_count": 1,
      "outputs": [
        {
          "output_type": "stream",
          "name": "stdout",
          "text": [
            "40\n",
            "-20\n"
          ]
        }
      ]
    },
    {
      "cell_type": "code",
      "source": [
        "var = \"test\"\n",
        "def change(n):\n",
        "  global var\n",
        "  print (var)\n",
        "  var = n\n",
        "  print (var)\n",
        "\n",
        "test7 = change(\"changed\")"
      ],
      "metadata": {
        "id": "FaOVVPg50QXk",
        "colab": {
          "base_uri": "https://localhost:8080/"
        },
        "outputId": "2cfa2db7-544c-4ac4-f139-9db57501a709"
      },
      "execution_count": 3,
      "outputs": [
        {
          "output_type": "stream",
          "name": "stdout",
          "text": [
            "test\n",
            "changed\n"
          ]
        }
      ]
    },
    {
      "cell_type": "code",
      "source": [
        "words = [\"word\", \"bed\", \"tired\", \"sleep\", \"zzzzz\"]\n",
        "Sort = lambda list: sorted(list,key=lambda word: sum(1 for char in word if char.lower() in 'aeiou'))\n",
        "\n",
        "Sort(words)"
      ],
      "metadata": {
        "colab": {
          "base_uri": "https://localhost:8080/"
        },
        "id": "grW2SPK4SysR",
        "outputId": "e0b0255e-6801-4f72-b633-88f4539995c4"
      },
      "execution_count": 4,
      "outputs": [
        {
          "output_type": "execute_result",
          "data": {
            "text/plain": [
              "['zzzzz', 'word', 'bed', 'tired', 'sleep']"
            ]
          },
          "metadata": {},
          "execution_count": 4
        }
      ]
    },
    {
      "cell_type": "code",
      "source": [
        "def logger(func):\n",
        "  def wrapper(*args, **kwargs):\n",
        "    logfile = (\"log.txt\", \"w\")\n",
        "    logfile = open(\"log.txt\",mode=\"w\")\n",
        "    logfile.write(f\"Calling: {func.__name__}()\\n\")\n",
        "    value = func(*args,**kwargs)\n",
        "    logfile.write(f'Output is: {value}')\n",
        "    logfile.close()\n",
        "  return wrapper\n",
        "\n",
        "@logger\n",
        "def test8():\n",
        "  return \"testing\"\n",
        "\n",
        "@logger\n",
        "def something(*args):\n",
        "  string = \"\"\n",
        "  for arg in args:\n",
        "    string += str(arg)\n",
        "  return string\n",
        "\n",
        "\n",
        "test8\n",
        "something(\"Idk\", \"brain\", \"not\", \"work\")"
      ],
      "metadata": {
        "id": "WcSEZEzgUVge"
      },
      "execution_count": 11,
      "outputs": []
    },
    {
      "cell_type": "code",
      "source": [
        "# not sure on how to do 8"
      ],
      "metadata": {
        "id": "x_MwqqaHWGJ-"
      },
      "execution_count": 41,
      "outputs": []
    },
    {
      "cell_type": "code",
      "source": [
        "while True:\n",
        "    user = input(\"What do you wnat to calculate: \")\n",
        "    if user == 'b': break\n",
        "    try:\n",
        "        result = None\n",
        "        exec(\"result = \" + user)\n",
        "        print(\"Result:\", result)\n",
        "    except Exception as e:\n",
        "        print(\"Error:\", e)"
      ],
      "metadata": {
        "colab": {
          "base_uri": "https://localhost:8080/"
        },
        "id": "w1xP7OqhazOP",
        "outputId": "dbaaf008-cc68-4b49-894c-14e82ef83af9"
      },
      "execution_count": 45,
      "outputs": [
        {
          "name": "stdout",
          "output_type": "stream",
          "text": [
            "What do you wnat to calculate: b\n"
          ]
        }
      ]
    }
  ]
}