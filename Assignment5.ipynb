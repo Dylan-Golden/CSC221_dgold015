{
  "nbformat": 4,
  "nbformat_minor": 0,
  "metadata": {
    "colab": {
      "provenance": [],
      "authorship_tag": "ABX9TyMEfh0hv5hJ+RW4hk/+1E2C",
      "include_colab_link": true
    },
    "kernelspec": {
      "name": "python3",
      "display_name": "Python 3"
    },
    "language_info": {
      "name": "python"
    }
  },
  "cells": [
    {
      "cell_type": "markdown",
      "metadata": {
        "id": "view-in-github",
        "colab_type": "text"
      },
      "source": [
        "<a href=\"https://colab.research.google.com/github/Dylan-Golden/CSC221_dgold015/blob/main/Assignment5.ipynb\" target=\"_parent\"><img src=\"https://colab.research.google.com/assets/colab-badge.svg\" alt=\"Open In Colab\"/></a>"
      ]
    },
    {
      "cell_type": "code",
      "execution_count": null,
      "metadata": {
        "colab": {
          "base_uri": "https://localhost:8080/"
        },
        "id": "AhO_5vu73hhl",
        "outputId": "59b29955-9b77-4906-e1bc-d5eb7dc44228"
      },
      "outputs": [
        {
          "output_type": "stream",
          "name": "stdout",
          "text": [
            "alice\n",
            "david\n",
            "carolina\n"
          ]
        }
      ],
      "source": [
        "magicians = ['alice', 'david', 'carolina']\n",
        "for magician in magicians:\n",
        "    print (magician)"
      ]
    },
    {
      "cell_type": "code",
      "source": [],
      "metadata": {
        "id": "ntDplfaMjMtd"
      },
      "execution_count": null,
      "outputs": []
    },
    {
      "cell_type": "code",
      "execution_count": null,
      "metadata": {
        "colab": {
          "base_uri": "https://localhost:8080/"
        },
        "outputId": "c56a6d6b-9326-4812-efb3-d7bf4914d078",
        "id": "hS5js67u4P1I"
      },
      "outputs": [
        {
          "output_type": "stream",
          "name": "stdout",
          "text": [
            "Alice, that was a great trick!\n",
            "I can't wait to see your next trick, Alice.\n",
            "\n",
            "David, that was a great trick!\n",
            "I can't wait to see your next trick, David.\n",
            "\n",
            "Carolina, that was a great trick!\n",
            "I can't wait to see your next trick, Carolina.\n",
            "\n",
            "thank you, everyone. That was a great magic show!\n"
          ]
        }
      ],
      "source": [
        "magicians = ['alice', 'david', 'carolina']\n",
        "for magician in magicians:\n",
        "    print (f\"{magician.title()}, that was a great trick!\")\n",
        "    print (f\"I can't wait to see your next trick, {magician.title()}.\\n\")\n",
        "\n",
        "print (\"thank you, everyone. That was a great magic show!\")"
      ]
    },
    {
      "cell_type": "code",
      "source": [
        "# I read through the error message part and I do not feel it is nessecary for me to write them in here"
      ],
      "metadata": {
        "id": "qI0PMBO84Kcg"
      },
      "execution_count": null,
      "outputs": []
    },
    {
      "cell_type": "code",
      "source": [
        "#Try it\n",
        "pizzas = ['hawaiian', 'meat lovers', 'cheese', 'pepporoni']\n",
        "for pizza in pizzas:\n",
        "  print (f\"I love {pizza.title()} pizza so much.\")\n",
        "\n",
        "print (\"I really like all of these pizzas.\\nI really want to try more types of pizza.\\nI like hawaiian the most.\")\n",
        "print (\"I eally love pizza\")\n",
        "print (\" the rest of this try it seems redundent to do\")\n",
        "\n",
        "\n"
      ],
      "metadata": {
        "colab": {
          "base_uri": "https://localhost:8080/"
        },
        "id": "81INju1s5rfY",
        "outputId": "989c5cf0-8121-4bd2-ff6e-599a38d39fd7"
      },
      "execution_count": null,
      "outputs": [
        {
          "output_type": "stream",
          "name": "stdout",
          "text": [
            "I love Hawaiian pizza so much.\n",
            "I love Meat Lovers pizza so much.\n",
            "I love Cheese pizza so much.\n",
            "I love Pepporoni pizza so much.\n",
            "I really like all of these pizzas.\n",
            "I really want to try more types of pizza.\n",
            "I like hawaiian the most.\n",
            "I eally love pizza\n",
            " the rest of this try it seems redundent to do\n"
          ]
        }
      ]
    },
    {
      "cell_type": "code",
      "source": [
        "for value in range (1, 5):\n",
        "  print (value)"
      ],
      "metadata": {
        "colab": {
          "base_uri": "https://localhost:8080/"
        },
        "id": "HF0E7apK9PnD",
        "outputId": "7278d053-00d4-46cf-e4bb-e1be0b7e5c53"
      },
      "execution_count": null,
      "outputs": [
        {
          "output_type": "stream",
          "name": "stdout",
          "text": [
            "1\n",
            "2\n",
            "3\n",
            "4\n"
          ]
        }
      ]
    },
    {
      "cell_type": "code",
      "source": [
        "numbers = list(range(1, 5))\n",
        "print (numbers)"
      ],
      "metadata": {
        "colab": {
          "base_uri": "https://localhost:8080/"
        },
        "outputId": "8cc83aea-6899-4625-bffa-2ea19104ab7a",
        "id": "1AgIka7z95A2"
      },
      "execution_count": null,
      "outputs": [
        {
          "output_type": "stream",
          "name": "stdout",
          "text": [
            "[1, 2, 3, 4]\n"
          ]
        }
      ]
    },
    {
      "cell_type": "code",
      "source": [
        "even_numbers = list(range(2, 11, 2))\n",
        "print (even_numbers)"
      ],
      "metadata": {
        "colab": {
          "base_uri": "https://localhost:8080/"
        },
        "id": "1slLAAuK-Gux",
        "outputId": "31ab0705-a05f-4390-d65d-543fbaeb5d9b"
      },
      "execution_count": null,
      "outputs": [
        {
          "output_type": "stream",
          "name": "stdout",
          "text": [
            "[2, 4, 6, 8, 10]\n"
          ]
        }
      ]
    },
    {
      "cell_type": "code",
      "source": [
        "squares = []\n",
        "for value in range(1, 11):\n",
        "  squares.append(value ** 2)\n",
        "\n",
        "print (squares)"
      ],
      "metadata": {
        "colab": {
          "base_uri": "https://localhost:8080/"
        },
        "id": "c3hXTqP--QCf",
        "outputId": "611e9661-9091-44e3-b33c-179e9612e183"
      },
      "execution_count": null,
      "outputs": [
        {
          "output_type": "stream",
          "name": "stdout",
          "text": [
            "[1, 4, 9, 16, 25, 36, 49, 64, 81, 100]\n"
          ]
        }
      ]
    },
    {
      "cell_type": "code",
      "source": [
        "digits = [1, 2, 3, 4, 5, 6, 7, 8, 9, 0]\n",
        "min(digits)\n",
        "max(digits)\n",
        "sum(digits)"
      ],
      "metadata": {
        "colab": {
          "base_uri": "https://localhost:8080/"
        },
        "id": "Z-p-Aeiq_t4q",
        "outputId": "e3ed91e5-d73d-4083-8a3f-dfb623c26d0e"
      },
      "execution_count": null,
      "outputs": [
        {
          "output_type": "execute_result",
          "data": {
            "text/plain": [
              "45"
            ]
          },
          "metadata": {},
          "execution_count": 18
        }
      ]
    },
    {
      "cell_type": "code",
      "source": [
        "squares = [value**2 for value in range(1, 11)]\n",
        "print (squares)"
      ],
      "metadata": {
        "colab": {
          "base_uri": "https://localhost:8080/"
        },
        "id": "mAfYJ2BO__W-",
        "outputId": "668e2952-2b2a-48e0-e8f7-4117e3450ea5"
      },
      "execution_count": null,
      "outputs": [
        {
          "output_type": "stream",
          "name": "stdout",
          "text": [
            "[1, 4, 9, 16, 25, 36, 49, 64, 81, 100]\n"
          ]
        }
      ]
    },
    {
      "cell_type": "code",
      "source": [
        "#try it\n",
        "for i in range(1,21):\n",
        "  print (i)"
      ],
      "metadata": {
        "colab": {
          "base_uri": "https://localhost:8080/"
        },
        "id": "toysXi5zARi8",
        "outputId": "912ccc2c-95bb-42af-d675-cef745d8ced0"
      },
      "execution_count": null,
      "outputs": [
        {
          "output_type": "stream",
          "name": "stdout",
          "text": [
            "1\n",
            "2\n",
            "3\n",
            "4\n",
            "5\n",
            "6\n",
            "7\n",
            "8\n",
            "9\n",
            "10\n",
            "11\n",
            "12\n",
            "13\n",
            "14\n",
            "15\n",
            "16\n",
            "17\n",
            "18\n",
            "19\n",
            "20\n"
          ]
        }
      ]
    },
    {
      "cell_type": "code",
      "source": [
        "#try it\n",
        "million = []\n",
        "for i in range(1, 100000000):\n",
        "  million.append(i)\n",
        "\n",
        "print (million)\n",
        "\n"
      ],
      "metadata": {
        "id": "TU8zNqXuA-pf"
      },
      "execution_count": null,
      "outputs": []
    },
    {
      "cell_type": "code",
      "source": [
        "#try it\n",
        "million = list(range(1, 100000001))\n",
        "print (min(million))\n",
        "print (max(million))\n",
        "print (sum(million))\n",
        "\n"
      ],
      "metadata": {
        "colab": {
          "base_uri": "https://localhost:8080/"
        },
        "id": "OERyJtu1ClDH",
        "outputId": "cd68cb52-48d9-4876-9c7b-d42736ffb10d"
      },
      "execution_count": null,
      "outputs": [
        {
          "output_type": "stream",
          "name": "stdout",
          "text": [
            "1\n",
            "100000000\n",
            "5000000050000000\n"
          ]
        }
      ]
    },
    {
      "cell_type": "code",
      "source": [
        "#try it\n",
        "odd = list(range(1,20,2))\n",
        "for i in odd:\n",
        "  print (i)\n",
        "  None\n",
        "\n",
        "three = list(range(3, 31, 3))\n",
        "for i in three:\n",
        "  print (i)\n",
        "  None"
      ],
      "metadata": {
        "id": "IlCOowSdFdOU"
      },
      "execution_count": null,
      "outputs": []
    },
    {
      "cell_type": "code",
      "source": [
        "cubes = []\n",
        "for i in range(1, 11):\n",
        "    cube = i ** 3\n",
        "    cubes.append(cube)\n",
        "print (cubes)"
      ],
      "metadata": {
        "id": "PMbNlEoSHiSl",
        "colab": {
          "base_uri": "https://localhost:8080/"
        },
        "outputId": "66702ec4-f4c8-473e-9c35-6edc877b5a87"
      },
      "execution_count": null,
      "outputs": [
        {
          "output_type": "stream",
          "name": "stdout",
          "text": [
            "[1, 8, 27, 64, 125, 216, 343, 512, 729, 1000]\n"
          ]
        }
      ]
    },
    {
      "cell_type": "code",
      "source": [
        "players = ['charles', 'martina', 'micheal', 'florence', 'eli']\n",
        "print (players[0:3])"
      ],
      "metadata": {
        "colab": {
          "base_uri": "https://localhost:8080/"
        },
        "id": "WRWMpap2oCtb",
        "outputId": "95c3b8a3-5e3b-432b-801d-280410d05d1a"
      },
      "execution_count": null,
      "outputs": [
        {
          "output_type": "stream",
          "name": "stdout",
          "text": [
            "['charles', 'martina', 'micheal']\n"
          ]
        }
      ]
    },
    {
      "cell_type": "code",
      "source": [
        "#the nest couple examples do not change much so i woll skip them\n",
        "\n"
      ],
      "metadata": {
        "id": "BKWT5whEoUTl"
      },
      "execution_count": null,
      "outputs": []
    },
    {
      "cell_type": "code",
      "source": [
        "players = ['charles', 'martina', 'micheal', 'florence', 'eli']\n",
        "print (\"here are the first three players on my team.\")\n",
        "for player in players[:3]:\n",
        "  print (player.title())"
      ],
      "metadata": {
        "colab": {
          "base_uri": "https://localhost:8080/"
        },
        "id": "B10l46vEon03",
        "outputId": "518712a7-bff3-4eda-9c1b-5e789c5736f3"
      },
      "execution_count": null,
      "outputs": [
        {
          "output_type": "stream",
          "name": "stdout",
          "text": [
            "here are the first three players on my team.\n",
            "Charles\n",
            "Martina\n",
            "Micheal\n"
          ]
        }
      ]
    },
    {
      "cell_type": "code",
      "source": [
        "my_foods = ['pizza', 'falafel', 'carrot cake']\n",
        "friends_foods = my_foods[:]\n",
        "\n",
        "print (\"my favorite foods are:\")\n",
        "print (my_foods)\n",
        "\n",
        "print (\"\\nmy friends favorite foods are:\")\n",
        "print (friends_foods)"
      ],
      "metadata": {
        "colab": {
          "base_uri": "https://localhost:8080/"
        },
        "id": "X9uRDFL-o6yz",
        "outputId": "9a194f0a-9e39-4250-aff4-f188ac1d0fed"
      },
      "execution_count": null,
      "outputs": [
        {
          "output_type": "stream",
          "name": "stdout",
          "text": [
            "my favorite foods are:\n",
            "['pizza', 'falafel', 'carrot cake']\n",
            "\n",
            "my friends favorite foods are:\n",
            "['pizza', 'falafel', 'carrot cake']\n"
          ]
        }
      ]
    },
    {
      "cell_type": "code",
      "source": [
        "my_foods = ['pizza', 'falafel', 'carrot cake']\n",
        "friends_foods = my_foods[:]\n",
        "\n",
        "my_foods.append('cannoli')\n",
        "friends_foods.append('ice cream')\n",
        "\n",
        "print (\"my favorite foods are:\")\n",
        "print (my_foods)\n",
        "\n",
        "print (\"\\nmy friends favorite foods are:\")\n",
        "print (friends_foods)"
      ],
      "metadata": {
        "colab": {
          "base_uri": "https://localhost:8080/"
        },
        "outputId": "e3ffee9e-71e0-4795-95ff-4154cf346463",
        "id": "Q2qFoC6pplwB"
      },
      "execution_count": null,
      "outputs": [
        {
          "output_type": "stream",
          "name": "stdout",
          "text": [
            "my favorite foods are:\n",
            "['pizza', 'falafel', 'carrot cake', 'cannoli']\n",
            "\n",
            "my friends favorite foods are:\n",
            "['pizza', 'falafel', 'carrot cake', 'ice cream']\n"
          ]
        }
      ]
    },
    {
      "cell_type": "code",
      "source": [
        "#try it\n",
        "pizzas = ['hawaiian', 'meat lovers', 'cheese', 'extra cheese', 'pepperoni']\n",
        "for pizza in pizzas:\n",
        "  print (f\"I love {pizza.title()} pizza so much.\")\n",
        "\n",
        "print (\"\\nthe first 3 items in the list are:\")\n",
        "for pizza in pizzas[:3]:\n",
        "  print (pizza.title())\n",
        "\n",
        "print (\"\\n3 items form the middle of the list are:\")\n",
        "for pizza in pizzas[1:4]:\n",
        "  print (pizza.title())\n",
        "\n",
        "print (\"\\nthe last 3 items in the list are:\")\n",
        "for pizza in pizzas[-3:]:\n",
        "  print (pizza.title())\n"
      ],
      "metadata": {
        "colab": {
          "base_uri": "https://localhost:8080/"
        },
        "id": "-guZe783p3BI",
        "outputId": "f65941e2-b692-455f-8189-7df9432649cd"
      },
      "execution_count": null,
      "outputs": [
        {
          "output_type": "stream",
          "name": "stdout",
          "text": [
            "I love Hawaiian pizza so much.\n",
            "I love Meat Lovers pizza so much.\n",
            "I love Cheese pizza so much.\n",
            "I love Extra Cheese pizza so much.\n",
            "I love Pepperoni pizza so much.\n",
            "\n",
            "the first 3 items in the list are:\n",
            "Hawaiian\n",
            "Meat Lovers\n",
            "Cheese\n",
            "\n",
            "3 items form the middle of the list are:\n",
            "Meat Lovers\n",
            "Cheese\n",
            "Extra Cheese\n",
            "\n",
            "the last 3 items in the list are:\n",
            "Cheese\n",
            "Extra Cheese\n",
            "Pepperoni\n"
          ]
        }
      ]
    },
    {
      "cell_type": "code",
      "source": [
        "#try it\n",
        "my_pizzas = ['hawaiian', 'meat lovers', 'cheese', 'extra cheese', 'pepperoni', 'left beef']\n",
        "\n",
        "friend_pizzas = my_pizzas[:]\n",
        "friend_pizzas.append('Supreme')\n",
        "\n",
        "print (\"my favorite pizzas are:\")\n",
        "for pizza in my_pizzas:\n",
        "  print (pizza)\n",
        "\n",
        "print (\"my friends favorite pizzas are:\")\n",
        "for pizza in friend_pizzas:\n",
        "  print (pizza)\n"
      ],
      "metadata": {
        "colab": {
          "base_uri": "https://localhost:8080/"
        },
        "id": "zgffUZPfr-s4",
        "outputId": "8ff88835-015a-40a6-cc55-4cb757e7626f"
      },
      "execution_count": null,
      "outputs": [
        {
          "output_type": "stream",
          "name": "stdout",
          "text": [
            "my favorite pizzas are:\n",
            "hawaiian\n",
            "meat lovers\n",
            "cheese\n",
            "extra cheese\n",
            "pepperoni\n",
            "left beef\n",
            "my friends favorite pizzas are:\n",
            "hawaiian\n",
            "meat lovers\n",
            "cheese\n",
            "extra cheese\n",
            "pepperoni\n",
            "left beef\n",
            "Supreme\n"
          ]
        }
      ]
    },
    {
      "cell_type": "code",
      "source": [
        "#im pretty sure I already accidentaly did 4-12"
      ],
      "metadata": {
        "id": "bYCqv09rw6KD"
      },
      "execution_count": null,
      "outputs": []
    },
    {
      "cell_type": "code",
      "source": [
        "dimmensions = (200, 50)\n",
        "print (dimmensions [0])\n",
        "print (dimmensions [1])\n",
        "dimmensions[0] = 250"
      ],
      "metadata": {
        "colab": {
          "base_uri": "https://localhost:8080/",
          "height": 245
        },
        "id": "zje2yR4rxORe",
        "outputId": "872fe784-1278-4f13-d89b-10aa20197144"
      },
      "execution_count": null,
      "outputs": [
        {
          "output_type": "stream",
          "name": "stdout",
          "text": [
            "200\n",
            "50\n"
          ]
        },
        {
          "output_type": "error",
          "ename": "TypeError",
          "evalue": "ignored",
          "traceback": [
            "\u001b[0;31m---------------------------------------------------------------------------\u001b[0m",
            "\u001b[0;31mTypeError\u001b[0m                                 Traceback (most recent call last)",
            "\u001b[0;32m<ipython-input-20-18e7d0c8185d>\u001b[0m in \u001b[0;36m<cell line: 4>\u001b[0;34m()\u001b[0m\n\u001b[1;32m      2\u001b[0m \u001b[0mprint\u001b[0m \u001b[0;34m(\u001b[0m\u001b[0mdimmensions\u001b[0m \u001b[0;34m[\u001b[0m\u001b[0;36m0\u001b[0m\u001b[0;34m]\u001b[0m\u001b[0;34m)\u001b[0m\u001b[0;34m\u001b[0m\u001b[0;34m\u001b[0m\u001b[0m\n\u001b[1;32m      3\u001b[0m \u001b[0mprint\u001b[0m \u001b[0;34m(\u001b[0m\u001b[0mdimmensions\u001b[0m \u001b[0;34m[\u001b[0m\u001b[0;36m1\u001b[0m\u001b[0;34m]\u001b[0m\u001b[0;34m)\u001b[0m\u001b[0;34m\u001b[0m\u001b[0;34m\u001b[0m\u001b[0m\n\u001b[0;32m----> 4\u001b[0;31m \u001b[0mdimmensions\u001b[0m\u001b[0;34m[\u001b[0m\u001b[0;36m0\u001b[0m\u001b[0;34m]\u001b[0m \u001b[0;34m=\u001b[0m \u001b[0;36m250\u001b[0m\u001b[0;34m\u001b[0m\u001b[0;34m\u001b[0m\u001b[0m\n\u001b[0m",
            "\u001b[0;31mTypeError\u001b[0m: 'tuple' object does not support item assignment"
          ]
        }
      ]
    },
    {
      "cell_type": "code",
      "source": [
        "dimmensions = (200, 50)\n",
        "for dimmension in dimmensions:\n",
        "  print (dimmension)"
      ],
      "metadata": {
        "colab": {
          "base_uri": "https://localhost:8080/"
        },
        "id": "6A0J1EvjxlOo",
        "outputId": "fcaca4a0-7044-418e-e24c-10e3df60e05b"
      },
      "execution_count": null,
      "outputs": [
        {
          "output_type": "stream",
          "name": "stdout",
          "text": [
            "200\n",
            "50\n"
          ]
        }
      ]
    },
    {
      "cell_type": "code",
      "source": [
        "dimensions = (200, 50)\n",
        "print (\"original dimensions:\")\n",
        "for dimension in dimensions:\n",
        "  print (dimension)\n",
        "\n",
        "dimensions = (400, 100)\n",
        "print (\"\\nmodified dimensions:\")\n",
        "for dimension in dimensions:\n",
        "  print (dimension)"
      ],
      "metadata": {
        "colab": {
          "base_uri": "https://localhost:8080/"
        },
        "id": "FHW_klQ8xx75",
        "outputId": "37cfc9fd-d18d-4270-a535-850dced0f1da"
      },
      "execution_count": null,
      "outputs": [
        {
          "output_type": "stream",
          "name": "stdout",
          "text": [
            "original dimensions:\n",
            "200\n",
            "50\n",
            "\n",
            "modified dimensions:\n",
            "400\n",
            "100\n"
          ]
        }
      ]
    },
    {
      "cell_type": "code",
      "source": [
        "#try it\n",
        "foods = ('chicken', 'steak', 'corn', 'mashed potato', 'pork')\n",
        "for food in foods:\n",
        "  print (food)\n",
        "\n",
        "#foods[0] = ('salmon')\n",
        "\n",
        "foods = ('chicken', 'steak', 'hotdogs', 'mashed potato', 'salad')\n",
        "for food in foods:\n",
        "  print (food)"
      ],
      "metadata": {
        "colab": {
          "base_uri": "https://localhost:8080/"
        },
        "id": "ZkOrhcOxyZ3U",
        "outputId": "5c4dba7e-0513-4d47-ee96-dba002c60bf6"
      },
      "execution_count": null,
      "outputs": [
        {
          "output_type": "stream",
          "name": "stdout",
          "text": [
            "chicken\n",
            "steak\n",
            "corn\n",
            "mashed potato\n",
            "pork\n",
            "chicken\n",
            "steak\n",
            "hotdogs\n",
            "mashed potato\n",
            "salad\n"
          ]
        }
      ]
    },
    {
      "cell_type": "code",
      "source": [
        "#try it\n",
        "# i am only going to do one because I understand what it is saying and i value my time\n",
        "# this line has 84 but i dont see how i can shorten it in any way\n",
        "my_pizzas=['hawaiian','meat lovers','cheese','extra cheese','pepperoni','left beef']\n",
        "\n",
        "friend_pizzas=my_pizzas[:]\n",
        "friend_pizzas.append('Supreme')\n",
        "\n",
        "print(\"my favorite pizzas are:\")\n",
        "for pizza in my_pizzas:\n",
        "  print (pizza)\n",
        "\n",
        "print(\"my friends favorite pizzas are:\")\n",
        "for pizza in friend_pizzas:\n",
        "  print(pizza)"
      ],
      "metadata": {
        "id": "YlCPTYE9z1WR",
        "colab": {
          "base_uri": "https://localhost:8080/"
        },
        "outputId": "f18f7781-61c5-4126-aebe-24a55cd42ba8"
      },
      "execution_count": 1,
      "outputs": [
        {
          "output_type": "stream",
          "name": "stdout",
          "text": [
            "my favorite pizzas are:\n",
            "hawaiian\n",
            "meat lovers\n",
            "cheese\n",
            "extra cheese\n",
            "pepperoni\n",
            "left beef\n",
            "my friends favorite pizzas are:\n",
            "hawaiian\n",
            "meat lovers\n",
            "cheese\n",
            "extra cheese\n",
            "pepperoni\n",
            "left beef\n",
            "Supreme\n"
          ]
        }
      ]
    },
    {
      "cell_type": "code",
      "source": [
        "\n",
        "def factorial(n):\n",
        "  nums = [i for i in range(1, n+1)]\n",
        "  fact = 1\n",
        "  for num in nums:\n",
        "    fact *= num\n",
        "  return (fact)\n",
        "\n",
        "\n",
        "\n",
        "print (factorial(5))\n",
        "print (factorial(10))\n",
        "print (factorial(20))\n",
        "print (factorial(50))\n"
      ],
      "metadata": {
        "colab": {
          "base_uri": "https://localhost:8080/"
        },
        "id": "myl6BIxWjPB_",
        "outputId": "3d8d08c6-c722-4baa-cab0-0b9e4fe77461"
      },
      "execution_count": 53,
      "outputs": [
        {
          "output_type": "stream",
          "name": "stdout",
          "text": [
            "120\n",
            "3628800\n",
            "2432902008176640000\n",
            "30414093201713378043612608166064768844377641568960512000000000000\n"
          ]
        }
      ]
    },
    {
      "cell_type": "code",
      "source": [],
      "metadata": {
        "id": "0DkBw0p32Ao-"
      },
      "execution_count": null,
      "outputs": []
    },
    {
      "cell_type": "code",
      "source": [
        "\n",
        "def special_factorial(n):\n",
        "  nums = [i for i in range(1, n+1)]\n",
        "  fact = 1\n",
        "  for num in nums:\n",
        "    if num == 4 or num == 13 or num == 22:\n",
        "      None\n",
        "    else:\n",
        "      fact *= num\n",
        "\n",
        "  return (fact)\n",
        "\n",
        "\n",
        "\n",
        "print (special_factorial(5))\n",
        "print (special_factorial(10))\n",
        "print (special_factorial(20))\n",
        "print (special_factorial(50))\n"
      ],
      "metadata": {
        "colab": {
          "base_uri": "https://localhost:8080/"
        },
        "outputId": "abde0756-8f39-4cfa-9c44-f56c916da1e3",
        "id": "-9Uq8ZkZ2A5s"
      },
      "execution_count": 68,
      "outputs": [
        {
          "output_type": "stream",
          "name": "stdout",
          "text": [
            "30\n",
            "907200\n",
            "46786577080320000\n",
            "26585745805693512275885146998308364374455980392448000000000000\n"
          ]
        }
      ]
    }
  ]
}