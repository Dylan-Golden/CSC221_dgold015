{
  "nbformat": 4,
  "nbformat_minor": 0,
  "metadata": {
    "colab": {
      "provenance": [],
      "authorship_tag": "ABX9TyMECp9xUAzs7DdbyVuOJYPA",
      "include_colab_link": true
    },
    "kernelspec": {
      "name": "python3",
      "display_name": "Python 3"
    },
    "language_info": {
      "name": "python"
    }
  },
  "cells": [
    {
      "cell_type": "markdown",
      "metadata": {
        "id": "view-in-github",
        "colab_type": "text"
      },
      "source": [
        "<a href=\"https://colab.research.google.com/github/Dylan-Golden/CSC221_dgold015/blob/main/assignment16.ipynb\" target=\"_parent\"><img src=\"https://colab.research.google.com/assets/colab-badge.svg\" alt=\"Open In Colab\"/></a>"
      ]
    },
    {
      "cell_type": "code",
      "execution_count": null,
      "metadata": {
        "colab": {
          "base_uri": "https://localhost:8080/"
        },
        "id": "LLEtD9oQLJtf",
        "outputId": "314f0f32-20c6-4384-b6fb-c237103440cf"
      },
      "outputs": [
        {
          "output_type": "stream",
          "name": "stdout",
          "text": [
            "hello world\n"
          ]
        },
        {
          "output_type": "execute_result",
          "data": {
            "text/plain": [
              "24578.25"
            ]
          },
          "metadata": {},
          "execution_count": 6
        }
      ],
      "source": [
        "#1.1\n",
        "print (\"hello world\")\n",
        "6000 + 4523.50 + 134.25\n",
        "_+ 8192.75"
      ]
    },
    {
      "cell_type": "code",
      "source": [],
      "metadata": {
        "id": "VOXRf9-rQdBK"
      },
      "execution_count": null,
      "outputs": []
    },
    {
      "cell_type": "code",
      "source": [],
      "metadata": {
        "id": "whfQ3EFsQ11C"
      },
      "execution_count": null,
      "outputs": []
    },
    {
      "cell_type": "code",
      "source": [
        "#1.2\n",
        "%%file hello.py\n",
        "print ('hello world')\n"
      ],
      "metadata": {
        "colab": {
          "base_uri": "https://localhost:8080/"
        },
        "id": "MIAu6cuzMLui",
        "outputId": "edfec175-a1e6-4d8e-bf1b-2e2493fe1b7f"
      },
      "execution_count": null,
      "outputs": [
        {
          "output_type": "stream",
          "name": "stdout",
          "text": [
            "Writing hello.py\n"
          ]
        }
      ]
    },
    {
      "cell_type": "code",
      "source": [
        "#1.3\n",
        "x: int =42\n",
        "2 + 3 * 4"
      ],
      "metadata": {
        "colab": {
          "base_uri": "https://localhost:8080/"
        },
        "id": "s8R9ysaCNaQ6",
        "outputId": "c810a058-28c1-41df-d581-8578d43bdc10"
      },
      "execution_count": null,
      "outputs": [
        {
          "output_type": "execute_result",
          "data": {
            "text/plain": [
              "14"
            ]
          },
          "metadata": {},
          "execution_count": 15
        }
      ]
    },
    {
      "cell_type": "code",
      "source": [
        "principal = 1000\n",
        "rate = 0.05\n",
        "numyears = 5\n",
        "year = 1\n",
        "while year <= numyears:\n",
        "  principal = principal * (1+rate)\n",
        "  print (f'{year:>3d} {principal:0.2f}')\n",
        "  year += 1"
      ],
      "metadata": {
        "colab": {
          "base_uri": "https://localhost:8080/"
        },
        "id": "q6W4wkBBQ3BR",
        "outputId": "5dc4ffa2-7be8-40f0-af8d-cf4bb5bfa698"
      },
      "execution_count": null,
      "outputs": [
        {
          "output_type": "stream",
          "name": "stdout",
          "text": [
            "  1 1050.00\n",
            "  2 1102.50\n",
            "  3 1157.62\n",
            "  4 1215.51\n",
            "  5 1276.28\n"
          ]
        }
      ]
    },
    {
      "cell_type": "code",
      "source": [
        "#1.4\n",
        "x = 1000\n",
        "y = 500\n",
        "\n",
        "print (x+y)\n",
        "print (x-y)\n",
        "print (x*y)\n",
        "print (x/y)\n",
        "print (x//y)\n",
        "print (x**y)\n",
        "print (x%y)\n",
        "\n",
        "print (abs(x))\n",
        "\n",
        "a = 0b11001001\n",
        "mask = 0b11110000\n",
        "x = (a & mask) >> 4\n",
        "print (x)"
      ],
      "metadata": {
        "colab": {
          "base_uri": "https://localhost:8080/"
        },
        "id": "79DZvLxnS2C1",
        "outputId": "3bfc35ce-8f64-4b48-9190-fd57a98213c8"
      },
      "execution_count": null,
      "outputs": [
        {
          "output_type": "stream",
          "name": "stdout",
          "text": [
            "1500\n",
            "500\n",
            "500000\n",
            "2.0\n",
            "2\n",
            "1000000000000000000000000000000000000000000000000000000000000000000000000000000000000000000000000000000000000000000000000000000000000000000000000000000000000000000000000000000000000000000000000000000000000000000000000000000000000000000000000000000000000000000000000000000000000000000000000000000000000000000000000000000000000000000000000000000000000000000000000000000000000000000000000000000000000000000000000000000000000000000000000000000000000000000000000000000000000000000000000000000000000000000000000000000000000000000000000000000000000000000000000000000000000000000000000000000000000000000000000000000000000000000000000000000000000000000000000000000000000000000000000000000000000000000000000000000000000000000000000000000000000000000000000000000000000000000000000000000000000000000000000000000000000000000000000000000000000000000000000000000000000000000000000000000000000000000000000000000000000000000000000000000000000000000000000000000000000000000000000000000000000000000000000000000000000000000000000000000000000000000000000000000000000000000000000000000000000000000000000000000000000000000000000000000000000000000000000000000000000000000000000000000000000000000000000000000000000000000000000000000000000000000000000000000000000000000000000000000000000000000000000000000000000000000000000000000000000000000000000000000000000000000000000000000000000000000000000000000000000000000000000000000000000000000000000000000000000000000000000000000000000000000000000000000000000000000000000000000000000\n",
            "0\n",
            "1000\n",
            "12\n"
          ]
        }
      ]
    },
    {
      "cell_type": "code",
      "source": [
        "#1.5\n",
        "a = 10\n",
        "b =20\n",
        "if a < b:\n",
        "  print ('computer says yes')\n",
        "else:\n",
        "  print ('computer says no')\n",
        "\n",
        "if a < b:\n",
        "  pass\n",
        "else:\n",
        "  print ('computer says no')\n",
        "\n",
        "\n",
        "x = 0\n",
        "while x < 10:\n",
        "  if x == 5:\n",
        "    break\n",
        "  print (x)\n",
        "  x+=1\n",
        "\n",
        "print ('Done')"
      ],
      "metadata": {
        "colab": {
          "base_uri": "https://localhost:8080/"
        },
        "id": "ddfr474wUZLN",
        "outputId": "a68d26a1-0cb8-4c48-adee-c83372db01f1"
      },
      "execution_count": null,
      "outputs": [
        {
          "output_type": "stream",
          "name": "stdout",
          "text": [
            "computer says yes\n",
            "0\n",
            "1\n",
            "2\n",
            "3\n",
            "4\n",
            "Done\n"
          ]
        }
      ]
    },
    {
      "cell_type": "code",
      "source": [
        "#1.6\n",
        "\n",
        "a = 'hello world'\n",
        "b = \"python is groovy\"\n",
        "c = '''computer says no.'''\n",
        "d = \"\"\"computer still says no.\"\"\"\n",
        "\n",
        "print(len(a))\n",
        "b = a[4]\n",
        "c = a[-1]\n",
        "print (b)\n",
        "print (c)\n",
        "c = a[:5]\n",
        "d = a[6:]\n",
        "e = a[3:8]\n",
        "f = a[-5:]\n",
        "print (c, d, e, f)"
      ],
      "metadata": {
        "colab": {
          "base_uri": "https://localhost:8080/"
        },
        "id": "cLjg7uAdVsLh",
        "outputId": "bbe33b08-e361-48fd-8199-31bb6f00340a"
      },
      "execution_count": null,
      "outputs": [
        {
          "output_type": "stream",
          "name": "stdout",
          "text": [
            "11\n",
            "o\n",
            "d\n",
            "hello world lo wo world\n"
          ]
        }
      ]
    },
    {
      "cell_type": "code",
      "source": [
        "%%file data.txt\n",
        "test1\n",
        "test2\n",
        "test3\n",
        "test4\n",
        "test5\n",
        "this file is not big enough for this"
      ],
      "metadata": {
        "colab": {
          "base_uri": "https://localhost:8080/"
        },
        "id": "QxOSmTb8TeRR",
        "outputId": "be1e5487-770f-42a2-a6da-25a517ec3b63"
      },
      "execution_count": null,
      "outputs": [
        {
          "output_type": "stream",
          "name": "stdout",
          "text": [
            "Overwriting data.txt\n"
          ]
        }
      ]
    },
    {
      "cell_type": "code",
      "source": [
        "#1.7\n",
        "with open('data.txt') as f1:\n",
        "  while True:\n",
        "    chunk = f1.read(1)\n",
        "    if not chunk:\n",
        "      break\n",
        "    print (chunk, end='')"
      ],
      "metadata": {
        "colab": {
          "base_uri": "https://localhost:8080/"
        },
        "id": "d93izrf2XMed",
        "outputId": "320e01e7-9e51-4413-d381-5b2fdb8065d2"
      },
      "execution_count": null,
      "outputs": [
        {
          "output_type": "stream",
          "name": "stdout",
          "text": [
            "test1\n",
            "test2\n",
            "test3\n",
            "test4\n",
            "test5\n",
            "this file is not big enough for this\n"
          ]
        }
      ]
    },
    {
      "cell_type": "code",
      "source": [
        "#1.8\n",
        "name = ['dave', 'paula', 'thomas', 'lewis']\n",
        "a = name[2]\n",
        "name[2] = 'tom'\n",
        "print(name[-1])\n",
        "\n",
        "a = [1, 'dave', 3.14, ['mark', 7, 9, [100,101]], 10]\n",
        "print (a[1], a[3][2], a[3][3][1])"
      ],
      "metadata": {
        "colab": {
          "base_uri": "https://localhost:8080/"
        },
        "id": "iz8bwhITY7H-",
        "outputId": "04b8564b-d850-495d-d7ef-3a54c2671d85"
      },
      "execution_count": null,
      "outputs": [
        {
          "output_type": "stream",
          "name": "stdout",
          "text": [
            "lewis\n",
            "dave 9 101\n"
          ]
        }
      ]
    },
    {
      "cell_type": "code",
      "source": [
        "#1.9\n",
        "holding = ('GOOG', 100, 490.10)\n",
        "address = ('www.python.org', 80)\n",
        "\n",
        "a = ()\n",
        "b = ('item',)\n",
        "\n",
        "print (holding, address)"
      ],
      "metadata": {
        "id": "9maa6-jLaZY7",
        "colab": {
          "base_uri": "https://localhost:8080/"
        },
        "outputId": "34936431-01b6-46f2-bd00-4af75dbe908b"
      },
      "execution_count": null,
      "outputs": [
        {
          "output_type": "stream",
          "name": "stdout",
          "text": [
            "('GOOG', 100, 490.1) ('www.python.org', 80)\n"
          ]
        }
      ]
    },
    {
      "cell_type": "code",
      "source": [
        "#1.10\n",
        "names1 = {'IBM', 'MSFT', 'AA'}\n",
        "names2 = set(['IBM', 'MSFT', 'HPE', 'IBM', 'CAT'])\n",
        "\n",
        "print (names1)\n",
        "print (names2)"
      ],
      "metadata": {
        "colab": {
          "base_uri": "https://localhost:8080/"
        },
        "id": "OP07-ZDkhcOa",
        "outputId": "89a43ce1-67c8-4c40-a8fa-4dc7f2b00ac7"
      },
      "execution_count": null,
      "outputs": [
        {
          "output_type": "stream",
          "name": "stdout",
          "text": [
            "{'MSFT', 'IBM', 'AA'}\n",
            "{'CAT', 'MSFT', 'HPE', 'IBM'}\n"
          ]
        }
      ]
    },
    {
      "cell_type": "code",
      "source": [
        "#1.11\n",
        "s = {\n",
        "    'name' : 'GOOG',\n",
        "    'shares' : 100,\n",
        "    'price' : 490.10\n",
        "}\n",
        "name = s['name']\n",
        "cost = s['shares'] * s['price']\n",
        "\n",
        "print (name, cost)\n",
        "s['shares'] = 75\n",
        "s['date'] = '2007-06-07'\n",
        "\n",
        "print (s)"
      ],
      "metadata": {
        "colab": {
          "base_uri": "https://localhost:8080/"
        },
        "id": "h-H4olYkiD6Z",
        "outputId": "63c681b5-ac11-43ce-843a-8c4c082107b4"
      },
      "execution_count": null,
      "outputs": [
        {
          "output_type": "stream",
          "name": "stdout",
          "text": [
            "GOOG 49010.0\n",
            "{'name': 'GOOG', 'shares': 75, 'price': 490.1, 'date': '2007-06-07'}\n"
          ]
        }
      ]
    },
    {
      "cell_type": "code",
      "source": [
        "#1.12\n",
        "#for n in [1, 2, 3, 4, 5, 6, 7, 8, 9]:\n",
        "  #print (f'2 to the {n} power is {2**n}')\n",
        "\n",
        "for n in range(1,10):\n",
        "  print (f'2 to the {n} power is {2**n}')\n",
        "\n",
        "prices = {'GOOG' : 490.10, 'IBM' : 91.50, 'AAPL' : 123.15}\n",
        "for key in prices:\n",
        "  print (key, '=', prices[key])"
      ],
      "metadata": {
        "colab": {
          "base_uri": "https://localhost:8080/"
        },
        "id": "0ROeJ5nDi42s",
        "outputId": "8ee9409d-c1ff-4086-d05c-e265d7cc43b2"
      },
      "execution_count": null,
      "outputs": [
        {
          "output_type": "stream",
          "name": "stdout",
          "text": [
            "2 to the 1 power is 2\n",
            "2 to the 2 power is 4\n",
            "2 to the 3 power is 8\n",
            "2 to the 4 power is 16\n",
            "2 to the 5 power is 32\n",
            "2 to the 6 power is 64\n",
            "2 to the 7 power is 128\n",
            "2 to the 8 power is 256\n",
            "2 to the 9 power is 512\n",
            "GOOG = 490.1\n",
            "IBM = 91.5\n",
            "AAPL = 123.15\n"
          ]
        }
      ]
    },
    {
      "cell_type": "code",
      "source": [
        "#1.13\n",
        "def remainder(a, b):\n",
        "  q = a//b\n",
        "  r = a-q*b\n",
        "  return r\n",
        "print (remainder(37,15))\n",
        "\n",
        "debug = True\n",
        "def read_data(filename):\n",
        "  if debug:\n",
        "    print ('reading', filename)"
      ],
      "metadata": {
        "colab": {
          "base_uri": "https://localhost:8080/"
        },
        "id": "PHpRUWknjF43",
        "outputId": "edafee58-e53e-426b-d74b-10345a255a9e"
      },
      "execution_count": null,
      "outputs": [
        {
          "output_type": "stream",
          "name": "stdout",
          "text": [
            "7\n"
          ]
        }
      ]
    },
    {
      "cell_type": "code",
      "source": [
        "#1.14\n",
        "import threading\n",
        "lock = threading.Lock()\n",
        "lock.acquire()\n",
        "try:\n",
        "  print (\"thing\")\n",
        "finally:\n",
        "  lock.release()\n",
        "\n",
        "\n"
      ],
      "metadata": {
        "colab": {
          "base_uri": "https://localhost:8080/"
        },
        "id": "3L3MF72qksHi",
        "outputId": "b1357858-807b-4059-b6d6-52ebca4b44d7"
      },
      "execution_count": null,
      "outputs": [
        {
          "output_type": "stream",
          "name": "stdout",
          "text": [
            "thing\n"
          ]
        }
      ]
    },
    {
      "cell_type": "code",
      "source": [
        "#1.15\n",
        "raise SystemExit()\n",
        "raise SystemExit(\"Something is wrong\")\n",
        "\n",
        "import atexit\n",
        "\n",
        "connection = open_connection(\"deaddot.com\")\n",
        "\n",
        "def cleanup():\n",
        "  print (\"going away\")\n",
        "  close_connection(connection)\n",
        "\n",
        "atexit.register(cleanup)"
      ],
      "metadata": {
        "colab": {
          "base_uri": "https://localhost:8080/",
          "height": 124
        },
        "id": "btrCXROKlnO4",
        "outputId": "975d25cf-39f0-4978-db1f-6861119e5de5"
      },
      "execution_count": null,
      "outputs": [
        {
          "output_type": "error",
          "ename": "SystemExit",
          "evalue": "ignored",
          "traceback": [
            "An exception has occurred, use %tb to see the full traceback.\n",
            "\u001b[0;31mSystemExit\u001b[0m\n"
          ]
        }
      ]
    },
    {
      "cell_type": "code",
      "source": [
        "#1.16\n",
        "items = [37,42]\n",
        "items.append(73)\n",
        "print (items)\n",
        "\n",
        "items = [37,42]\n",
        "items.__add__([73,101])\n",
        "print (items)\n",
        "\n",
        "class Stack:\n",
        "  def __init__(self):\n",
        "    self._items = [ ]\n",
        "  def push(self, item):\n",
        "    self._items.append(item)\n",
        "  def pop(self):\n",
        "    return self._items.pop()\n",
        "  def __repr__(self):\n",
        "    return f'<{type(self).__name__} at ox{id(self):x}, size={len(self)}>'\n",
        "  def __len__(self):\n",
        "    return len(self._items)\n",
        "\n",
        "s = Stack()\n",
        "s.push('dave')\n",
        "s.push(42)\n",
        "s.push([3, 4, 5])\n",
        "x = s.pop()\n",
        "y = s.pop()\n"
      ],
      "metadata": {
        "colab": {
          "base_uri": "https://localhost:8080/"
        },
        "id": "5ukI9QNsoGk5",
        "outputId": "3531d97a-9fa4-475f-fa67-2d704d9afc6d"
      },
      "execution_count": null,
      "outputs": [
        {
          "output_type": "stream",
          "name": "stdout",
          "text": [
            "[37, 42, 73]\n",
            "[37, 42]\n"
          ]
        }
      ]
    },
    {
      "cell_type": "code",
      "source": [
        "#1.17\n",
        "import csv\n",
        "\n",
        "def read_portfolio(filename):\n",
        "  portfolio = []\n",
        "  with open(filename) as file:\n",
        "    rows = csv.reader(file)\n",
        "    for row in rows:\n",
        "      try:\n",
        "        name = row[0]\n",
        "        shares = int(row[1])\n",
        "        price = float(row[2])\n",
        "        holding = (name, shares, price)\n",
        "        portfolio.append(holding)\n",
        "      except  ValueError as err:\n",
        "        print ('Bad row', row)\n",
        "        print ('reason', err)\n",
        "  return portfolio\n"
      ],
      "metadata": {
        "id": "a0oS4fqnrsDO"
      },
      "execution_count": null,
      "outputs": []
    },
    {
      "cell_type": "code",
      "source": [
        "#1.18\n",
        "def main(argv):\n",
        "  if len(argv) == 1:\n",
        "    filename = input('enter filename: ')\n",
        "  elif len(argv) == 2:\n",
        "    filename = argv[1]\n",
        "  else:\n",
        "    raise SystemExit(f'usage: {argv[0]} [filename]')\n",
        "  portfolio = read_portfolio(filename)\n",
        "  for name, shares, price in portfolio:\n",
        "    print (f'{name:>10s} {shares:>10d} {price:10.2f}')\n",
        "\n",
        "if __name__ == '__main__':\n",
        "  import sys\n",
        "  main(sys.argv)"
      ],
      "metadata": {
        "colab": {
          "base_uri": "https://localhost:8080/",
          "height": 159
        },
        "id": "9Ds6Prw-slsz",
        "outputId": "6ebdcd45-6b15-4138-dcc2-877a99b71a78"
      },
      "execution_count": null,
      "outputs": [
        {
          "output_type": "error",
          "ename": "SystemExit",
          "evalue": "ignored",
          "traceback": [
            "An exception has occurred, use %tb to see the full traceback.\n",
            "\u001b[0;31mSystemExit\u001b[0m\u001b[0;31m:\u001b[0m usage: /usr/local/lib/python3.10/dist-packages/colab_kernel_launcher.py [filename]\n"
          ]
        },
        {
          "output_type": "stream",
          "name": "stderr",
          "text": [
            "/usr/local/lib/python3.10/dist-packages/IPython/core/interactiveshell.py:3561: UserWarning: To exit: use 'exit', 'quit', or Ctrl-D.\n",
            "  warn(\"To exit: use 'exit', 'quit', or Ctrl-D.\", stacklevel=1)\n"
          ]
        }
      ]
    },
    {
      "cell_type": "code",
      "source": [
        "#1.19\n",
        "# i dont think 1.19 cant be done in a colab"
      ],
      "metadata": {
        "id": "qXbYcJ4eQfoG"
      },
      "execution_count": null,
      "outputs": []
    },
    {
      "cell_type": "code",
      "source": [
        "#1.20\n",
        "# I understand what 1.20 is saying"
      ],
      "metadata": {
        "id": "cQ3mPQLkQrAN"
      },
      "execution_count": null,
      "outputs": []
    },
    {
      "cell_type": "code",
      "source": [
        "#1.21\n",
        "import pandas\n",
        "pandas.__file__\n"
      ],
      "metadata": {
        "colab": {
          "base_uri": "https://localhost:8080/",
          "height": 35
        },
        "id": "CyjO6SmzQy3Q",
        "outputId": "e91a08d8-5307-47c2-e5ad-f474b3bd4228"
      },
      "execution_count": 1,
      "outputs": [
        {
          "output_type": "execute_result",
          "data": {
            "text/plain": [
              "'/usr/local/lib/python3.10/dist-packages/pandas/__init__.py'"
            ],
            "application/vnd.google.colaboratory.intrinsic+json": {
              "type": "string"
            }
          },
          "metadata": {},
          "execution_count": 1
        }
      ]
    }
  ]
}