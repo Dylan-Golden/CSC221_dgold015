{
  "nbformat": 4,
  "nbformat_minor": 0,
  "metadata": {
    "colab": {
      "provenance": [],
      "authorship_tag": "ABX9TyPuWTlycRvNuTOm3XB/bA8t",
      "include_colab_link": true
    },
    "kernelspec": {
      "name": "python3",
      "display_name": "Python 3"
    },
    "language_info": {
      "name": "python"
    }
  },
  "cells": [
    {
      "cell_type": "markdown",
      "metadata": {
        "id": "view-in-github",
        "colab_type": "text"
      },
      "source": [
        "<a href=\"https://colab.research.google.com/github/Dylan-Golden/CSC221_dgold015/blob/main/Assgnment4.ipynb\" target=\"_parent\"><img src=\"https://colab.research.google.com/assets/colab-badge.svg\" alt=\"Open In Colab\"/></a>"
      ]
    },
    {
      "cell_type": "code",
      "execution_count": null,
      "metadata": {
        "colab": {
          "base_uri": "https://localhost:8080/"
        },
        "id": "Kv60bGVxkb0h",
        "outputId": "ba1a3af5-a9bf-4f7e-986a-18ad6ab31aac"
      },
      "outputs": [
        {
          "output_type": "stream",
          "name": "stdout",
          "text": [
            "['trek', 'cannondale', 'redline', 'specialized']\n",
            "trek\n",
            "Trek\n",
            "cannondale\n",
            "specialized\n",
            "specialized\n",
            "My first bicycle was a Trek\n"
          ]
        }
      ],
      "source": [
        "bicycles = ['trek','cannondale', 'redline', 'specialized']\n",
        "print (bicycles)\n",
        "print (bicycles[0])\n",
        "print (bicycles[0].title())\n",
        "print (bicycles[1])\n",
        "print (bicycles[3])\n",
        "print (bicycles[-1])\n",
        "message = f\"My first bicycle was a {bicycles[0].title()}\"\n",
        "print (message)"
      ]
    },
    {
      "cell_type": "code",
      "source": [
        "motorcycles = ['honda', 'yamaha', 'suzuki']\n",
        "print (motorcycles)\n",
        "motorcycles[0] = 'ducati'\n",
        "print (motorcycles)\n",
        "motorcycles.append('ducati')\n",
        "print (motorcycles)"
      ],
      "metadata": {
        "colab": {
          "base_uri": "https://localhost:8080/"
        },
        "id": "4jlQnd5ol1uE",
        "outputId": "43abb6e0-e622-4a77-94a8-614f10764a99"
      },
      "execution_count": null,
      "outputs": [
        {
          "output_type": "stream",
          "name": "stdout",
          "text": [
            "['honda', 'yamaha', 'suzuki']\n",
            "['ducati', 'yamaha', 'suzuki']\n",
            "['ducati', 'yamaha', 'suzuki', 'ducati']\n"
          ]
        }
      ]
    },
    {
      "cell_type": "code",
      "source": [
        "motorcycles = []\n",
        "motorcycles.append('honda')\n",
        "motorcycles.append('yamaha')\n",
        "motorcycles.append('suzuki')\n",
        "print (motorcycles)"
      ],
      "metadata": {
        "colab": {
          "base_uri": "https://localhost:8080/"
        },
        "id": "TJoe6ulemdvq",
        "outputId": "bf629716-2070-4338-f10b-eab48e33514f"
      },
      "execution_count": null,
      "outputs": [
        {
          "output_type": "stream",
          "name": "stdout",
          "text": [
            "['honda', 'yamaha', 'suzuki']\n"
          ]
        }
      ]
    },
    {
      "cell_type": "code",
      "source": [
        "motorcycles = ['honda', 'yamaha', 'suzuki']\n",
        "motorcycles.insert(0, 'ducati')\n",
        "print (motorcycles)"
      ],
      "metadata": {
        "colab": {
          "base_uri": "https://localhost:8080/"
        },
        "id": "BcOXJST7m378",
        "outputId": "e5dacdbc-cd1e-4407-9178-ef84f7388027"
      },
      "execution_count": null,
      "outputs": [
        {
          "output_type": "stream",
          "name": "stdout",
          "text": [
            "['ducati', 'honda', 'yamaha', 'suzuki']\n"
          ]
        }
      ]
    },
    {
      "cell_type": "code",
      "source": [
        "motorcycles = ['honda', 'yamaha', 'suzuki']\n",
        "print (motorcycles)\n",
        "del motorcycles[1]\n",
        "print (motorcycles)"
      ],
      "metadata": {
        "colab": {
          "base_uri": "https://localhost:8080/"
        },
        "id": "jAQxHxXknFKW",
        "outputId": "a7d14136-4106-48fa-bcba-2b2d26256f80"
      },
      "execution_count": null,
      "outputs": [
        {
          "output_type": "stream",
          "name": "stdout",
          "text": [
            "['honda', 'yamaha', 'suzuki']\n",
            "['honda', 'suzuki']\n"
          ]
        }
      ]
    },
    {
      "cell_type": "code",
      "source": [
        "motorcycles = ['honda', 'yamaha', 'suzuki']\n",
        "print (motorcycles)\n",
        "\n",
        "popped_motorcycle = motorcycles.pop()\n",
        "print (motorcycles)\n",
        "print (popped_motorcycle)"
      ],
      "metadata": {
        "colab": {
          "base_uri": "https://localhost:8080/"
        },
        "id": "23LfsrDRnYz7",
        "outputId": "b1838c0a-1adf-4895-8566-b9521c1de47b"
      },
      "execution_count": null,
      "outputs": [
        {
          "output_type": "stream",
          "name": "stdout",
          "text": [
            "['honda', 'yamaha', 'suzuki']\n",
            "['honda', 'yamaha']\n",
            "suzuki\n"
          ]
        }
      ]
    },
    {
      "cell_type": "code",
      "source": [
        "motorcycles = ['honda', 'yamaha', 'suzuki']\n",
        "last_owned = motorcycles.pop()\n",
        "print (f\"the last motorcycle I owned was a {last_owned.title()}.\")\n"
      ],
      "metadata": {
        "colab": {
          "base_uri": "https://localhost:8080/"
        },
        "id": "JgjQXFowoTzt",
        "outputId": "364b4911-57e7-4f23-fde7-d52d392a3dcb"
      },
      "execution_count": null,
      "outputs": [
        {
          "output_type": "stream",
          "name": "stdout",
          "text": [
            "the last motorcycle I owned was a Suzuki.\n"
          ]
        }
      ]
    },
    {
      "cell_type": "code",
      "source": [
        "motorcycles = ['honda', 'yamaha', 'suzuki']\n",
        "first_owned = motorcycles.pop(0)\n",
        "print (f\"the first motorcycle I owned was a {first_owned.title()}\")"
      ],
      "metadata": {
        "colab": {
          "base_uri": "https://localhost:8080/"
        },
        "id": "9ydnD6e6qBhN",
        "outputId": "0ec77700-8000-43f6-9dbf-4f08ac209f38"
      },
      "execution_count": null,
      "outputs": [
        {
          "output_type": "stream",
          "name": "stdout",
          "text": [
            "the first motorcycle I owned was a Honda\n"
          ]
        }
      ]
    },
    {
      "cell_type": "code",
      "source": [
        "motorcycles = ['honda', 'yamaha', 'suzuki', 'ducati']\n",
        "print (motorcycles)\n",
        "motorcycles.remove('ducati')\n",
        "print (motorcycles)"
      ],
      "metadata": {
        "colab": {
          "base_uri": "https://localhost:8080/"
        },
        "id": "hpw3N4J_qhhO",
        "outputId": "b1712315-7653-4333-89e2-80f3eab0cece"
      },
      "execution_count": null,
      "outputs": [
        {
          "output_type": "stream",
          "name": "stdout",
          "text": [
            "['honda', 'yamaha', 'suzuki', 'ducati']\n",
            "['honda', 'yamaha', 'suzuki']\n"
          ]
        }
      ]
    },
    {
      "cell_type": "code",
      "source": [
        "motorcycles = ['honda', 'yamaha', 'suzuki', 'ducati']\n",
        "print (motorcycles)\n",
        "\n",
        "too_expensive = \"ducati\"\n",
        "motorcycles.remove(too_expensive)\n",
        "print (motorcycles)\n",
        "print (f\"\\n A {too_expensive.title()} is to expenive for me.\")"
      ],
      "metadata": {
        "colab": {
          "base_uri": "https://localhost:8080/"
        },
        "id": "0zgI4h-pqvqd",
        "outputId": "2b547777-9c9b-48b6-9941-de501f3ec26c"
      },
      "execution_count": null,
      "outputs": [
        {
          "output_type": "stream",
          "name": "stdout",
          "text": [
            "['honda', 'yamaha', 'suzuki', 'ducati']\n",
            "['honda', 'yamaha', 'suzuki']\n",
            "\n",
            " A Ducati is to expenive for me.\n"
          ]
        }
      ]
    },
    {
      "cell_type": "code",
      "source": [
        "#Try it\n",
        "invite = ['Teddy Roosevelt', 'Ned Lecky', 'Paul Golden', 'JFK']\n",
        "print (f\"{invite[0]} would you like to go to dinner?\")\n",
        "print (f\"{invite[1]} would you like to go to dinner?\")\n",
        "print (f\"{invite[2]} would you like to go to dinner?\")\n",
        "print (f\"{invite[3]} would you like to go to dinner?\")\n",
        "print (f\"{invite[3]} will no longer be able to come.\")\n",
        "print (\"---------------------------------------------------\")\n",
        "del invite[3]\n",
        "invite.append('Nicola Tesla')\n",
        "print (f\"{invite[0]} would you like to go to dinner?\")\n",
        "print (f\"{invite[1]} would you like to go to dinner?\")\n",
        "print (f\"{invite[2]} would you like to go to dinner?\")\n",
        "print (f\"{invite[3]} would you like to go to dinner?\")\n",
        "print (\"---------------------------------------------------\")\n",
        "\n",
        "\n"
      ],
      "metadata": {
        "colab": {
          "base_uri": "https://localhost:8080/"
        },
        "id": "sOsE97S7rL3d",
        "outputId": "56270d97-f2a4-47d3-d061-001730aeb33c"
      },
      "execution_count": null,
      "outputs": [
        {
          "output_type": "stream",
          "name": "stdout",
          "text": [
            "Teddy Roosevelt would you like to go to dinner?\n",
            "Ned Lecky would you like to go to dinner?\n",
            "Paul Golden would you like to go to dinner?\n",
            "JFK would you like to go to dinner?\n",
            "JFK will no longer be able to come.\n",
            "--------------------------------------------------\n",
            "Teddy Roosevelt would you like to go to dinner?\n",
            "Ned Lecky would you like to go to dinner?\n",
            "Paul Golden would you like to go to dinner?\n",
            "Nicola Tesla would you like to go to dinner?\n",
            "---------------------------------------------------\n"
          ]
        }
      ]
    },
    {
      "cell_type": "code",
      "source": [
        "#Try it\n",
        "invite = ['Teddy Roosevelt', 'Ned Lecky', 'Paul Golden', 'JFK']\n",
        "print (f\"{invite[0]} would you like to go to dinner?\")\n",
        "print (f\"{invite[1]} would you like to go to dinner?\")\n",
        "print (f\"{invite[2]} would you like to go to dinner?\")\n",
        "print (f\"{invite[3]} would you like to go to dinner?\")\n",
        "print (\"I have found a bigger table\")\n",
        "print (\"----------------------------------------------------------\")\n",
        "invite.insert(0, 'Buggs bunny')\n",
        "invite.insert(3, 'Daffy Duck')\n",
        "invite.insert(6, 'Road Runner')\n",
        "print (f\"{invite[0]} would you like to go to dinner?\")\n",
        "print (f\"{invite[1]} would you like to go to dinner?\")\n",
        "print (f\"{invite[2]} would you like to go to dinner?\")\n",
        "print (f\"{invite[3]} would you like to go to dinner?\")\n",
        "print (f\"{invite[4]} would you like to go to dinner?\")\n",
        "print (f\"{invite[5]} would you like to go to dinner?\")\n",
        "print (f\"{invite[6]} would you like to go to dinner?\")\n",
        "print (\"----------------------------------------------------------\")\n",
        "print (\"sadly the new table will not be available in time, and I will now only be able to invite 2 people.\")\n",
        "Gone = invite.pop()\n",
        "print (f\"Sorry {Gone.title()} you are no longer invited\")\n",
        "Gone = invite.pop()\n",
        "print (f\"Sorry {Gone.title()} you are no longer invited\")\n",
        "Gone = invite.pop(0)\n",
        "print (f\"Sorry {Gone.title()} you are no longer invited\")\n",
        "Gone = invite.pop(0)\n",
        "print (f\"Sorry {Gone.title()} you are no longer invited\")\n",
        "Gone = invite.pop(0)\n",
        "print (f\"Sorry {Gone.title()} you are no longer invited\")\n",
        "print (f\"{invite[0]} you are still invited\")\n",
        "print (f\"{invite[1]} you are still invited\")\n",
        "del invite [0]\n",
        "del invite [0]\n",
        "print (invite)\n"
      ],
      "metadata": {
        "colab": {
          "base_uri": "https://localhost:8080/"
        },
        "id": "nZnP2mWtjLDN",
        "outputId": "809e01ac-6ddf-4b6d-ba18-3b01b4e281b1"
      },
      "execution_count": 28,
      "outputs": [
        {
          "output_type": "stream",
          "name": "stdout",
          "text": [
            "Teddy Roosevelt would you like to go to dinner?\n",
            "Ned Lecky would you like to go to dinner?\n",
            "Paul Golden would you like to go to dinner?\n",
            "JFK would you like to go to dinner?\n",
            "I have found a bigger table\n",
            "----------------------------------------------------------\n",
            "Buggs bunny would you like to go to dinner?\n",
            "Teddy Roosevelt would you like to go to dinner?\n",
            "Ned Lecky would you like to go to dinner?\n",
            "Daffy Duck would you like to go to dinner?\n",
            "Paul Golden would you like to go to dinner?\n",
            "JFK would you like to go to dinner?\n",
            "Road Runner would you like to go to dinner?\n",
            "----------------------------------------------------------\n",
            "sadly the new table will not be available in time, and I will now only be able to invite 2 people.\n",
            "Sorry Road Runner you are no longer invited\n",
            "Sorry Jfk you are no longer invited\n",
            "Sorry Buggs Bunny you are no longer invited\n",
            "Sorry Teddy Roosevelt you are no longer invited\n",
            "Sorry Ned Lecky you are no longer invited\n",
            "Daffy Duck you are still invited\n",
            "Paul Golden you are still invited\n",
            "[]\n"
          ]
        }
      ]
    },
    {
      "cell_type": "code",
      "source": [
        "cars = ['bmw', 'audi', 'toyota', 'subaru']\n",
        "cars.sort()\n",
        "print (cars)"
      ],
      "metadata": {
        "id": "WDyJOWMptLz3",
        "colab": {
          "base_uri": "https://localhost:8080/"
        },
        "outputId": "fc3d2f89-b0b8-4234-d1fe-00718f3d0313"
      },
      "execution_count": 29,
      "outputs": [
        {
          "output_type": "stream",
          "name": "stdout",
          "text": [
            "['audi', 'bmw', 'subaru', 'toyota']\n"
          ]
        }
      ]
    },
    {
      "cell_type": "code",
      "source": [],
      "metadata": {
        "id": "YDKSlrKkw3tS"
      },
      "execution_count": null,
      "outputs": []
    },
    {
      "cell_type": "code",
      "source": [
        "cars = ['bmw', 'audi', 'toyota', 'subaru']\n",
        "cars.sort(reverse=True)\n",
        "print (cars)"
      ],
      "metadata": {
        "colab": {
          "base_uri": "https://localhost:8080/"
        },
        "outputId": "a0f0654d-92dd-4829-cbea-6d264c53d8c8",
        "id": "yE3iMyQAw5Cf"
      },
      "execution_count": 31,
      "outputs": [
        {
          "output_type": "stream",
          "name": "stdout",
          "text": [
            "['toyota', 'subaru', 'bmw', 'audi']\n"
          ]
        }
      ]
    },
    {
      "cell_type": "code",
      "source": [],
      "metadata": {
        "id": "L-_xDGOXw_bk"
      },
      "execution_count": null,
      "outputs": []
    },
    {
      "cell_type": "code",
      "source": [
        "cars = ['bmw', 'audi', 'toyota', 'subaru']\n",
        "\n",
        "print (\"here id the oriinal list:\")\n",
        "print (cars)\n",
        "\n",
        "print (\"\\nhere is the sorted list:\")\n",
        "print (sorted(cars))\n",
        "\n",
        "print (\"\\nhere is the original list again\")\n",
        "print (cars)"
      ],
      "metadata": {
        "colab": {
          "base_uri": "https://localhost:8080/"
        },
        "outputId": "4ba23c9c-a691-4241-be9a-2c20ea84ddb5",
        "id": "b5H77KgqxCBu"
      },
      "execution_count": 32,
      "outputs": [
        {
          "output_type": "stream",
          "name": "stdout",
          "text": [
            "here id the oriinal list:\n",
            "['bmw', 'audi', 'toyota', 'subaru']\n",
            "\n",
            "here is the sorted list:\n",
            "['audi', 'bmw', 'subaru', 'toyota']\n",
            "\n",
            "here is the original list again\n",
            "['bmw', 'audi', 'toyota', 'subaru']\n"
          ]
        }
      ]
    },
    {
      "cell_type": "code",
      "source": [
        "cars = ['bmw', 'audi', 'toyota', 'subaru']\n",
        "print (cars)\n",
        "\n",
        "cars.reverse()\n",
        "print (cars)"
      ],
      "metadata": {
        "colab": {
          "base_uri": "https://localhost:8080/"
        },
        "outputId": "a548f663-34d8-441b-bc1e-b8f500a44e9a",
        "id": "CJ6_mCemxlzA"
      },
      "execution_count": 33,
      "outputs": [
        {
          "output_type": "stream",
          "name": "stdout",
          "text": [
            "['bmw', 'audi', 'toyota', 'subaru']\n",
            "['subaru', 'toyota', 'audi', 'bmw']\n"
          ]
        }
      ]
    },
    {
      "cell_type": "code",
      "source": [
        "cars = ['bmw', 'audi', 'toyota', 'subaru']\n",
        "len(cars)"
      ],
      "metadata": {
        "colab": {
          "base_uri": "https://localhost:8080/"
        },
        "outputId": "1b74c178-66f2-4d1d-92ae-b5a8b9b8daa7",
        "id": "hP1VHIoIxush"
      },
      "execution_count": 34,
      "outputs": [
        {
          "output_type": "execute_result",
          "data": {
            "text/plain": [
              "4"
            ]
          },
          "metadata": {},
          "execution_count": 34
        }
      ]
    },
    {
      "cell_type": "code",
      "source": [
        "#Try it\n",
        "\n",
        "places = ['japan', 'france', 'germany', 'italy', 'hawaii']\n",
        "\n",
        "print (places)\n",
        "print (sorted(places))\n",
        "print (places)\n",
        "print (sorted(places, reverse=True))\n",
        "print (places)\n",
        "places.reverse()\n",
        "print (places)\n",
        "places.reverse()\n",
        "print (places)\n",
        "places.sort()\n",
        "print (places)\n",
        "places.sort(reverse=True)\n",
        "print (places)\n",
        "print (\"---------------------------------------------\")\n",
        "invite = ['Teddy Roosevelt', 'Ned Lecky', 'Paul Golden', 'JFK']\n",
        "invite.insert(0, 'Buggs bunny')\n",
        "invite.insert(3, 'Daffy Duck')\n",
        "invite.insert(6, 'Road Runner')\n",
        "len (invite)\n",
        "print (\"---------------------------------------------\")\n",
        "states = ['new york', 'texas', 'florida', 'california']\n",
        "len (states)\n",
        "print (states)\n",
        "print (sorted(states))\n",
        "states.reverse()\n",
        "print (states)\n",
        "states.sort()\n",
        "print (states)\n",
        "states.sort(reverse=True)\n",
        "print (states)\n",
        "\n"
      ],
      "metadata": {
        "colab": {
          "base_uri": "https://localhost:8080/"
        },
        "id": "ox9usCiDxzBE",
        "outputId": "3e64ed7c-7bfa-456c-e5c2-80b2976b4a1b"
      },
      "execution_count": 46,
      "outputs": [
        {
          "output_type": "stream",
          "name": "stdout",
          "text": [
            "['japan', 'france', 'germany', 'italy', 'hawaii']\n",
            "['france', 'germany', 'hawaii', 'italy', 'japan']\n",
            "['japan', 'france', 'germany', 'italy', 'hawaii']\n",
            "['japan', 'italy', 'hawaii', 'germany', 'france']\n",
            "['japan', 'france', 'germany', 'italy', 'hawaii']\n",
            "['hawaii', 'italy', 'germany', 'france', 'japan']\n",
            "['japan', 'france', 'germany', 'italy', 'hawaii']\n",
            "['france', 'germany', 'hawaii', 'italy', 'japan']\n",
            "['japan', 'italy', 'hawaii', 'germany', 'france']\n",
            "---------------------------------------------\n",
            "---------------------------------------------\n",
            "['new york', 'texas', 'florida', 'california']\n",
            "['california', 'florida', 'new york', 'texas']\n",
            "['california', 'florida', 'texas', 'new york']\n",
            "['california', 'florida', 'new york', 'texas']\n",
            "['texas', 'new york', 'florida', 'california']\n"
          ]
        }
      ]
    },
    {
      "cell_type": "code",
      "source": [
        "motorcycles = ['honda', 'yamaha', 'suzuki']\n",
        "print (motorcycles[-1])"
      ],
      "metadata": {
        "colab": {
          "base_uri": "https://localhost:8080/"
        },
        "id": "_z7Pcl-Q7IHs",
        "outputId": "e866744b-c60e-47a7-8718-bd6b176d1baa"
      },
      "execution_count": 48,
      "outputs": [
        {
          "output_type": "stream",
          "name": "stdout",
          "text": [
            "suzuki\n"
          ]
        }
      ]
    },
    {
      "cell_type": "code",
      "source": [
        "#Try it\n",
        "cars = ['bmw', 'audi', 'toyota', 'subaru']\n",
        "print (cars[4])"
      ],
      "metadata": {
        "colab": {
          "base_uri": "https://localhost:8080/",
          "height": 211
        },
        "id": "V5uThOj17ceG",
        "outputId": "b7d65f4b-47b6-4754-b68d-885b1bf6beb0"
      },
      "execution_count": 50,
      "outputs": [
        {
          "output_type": "error",
          "ename": "IndexError",
          "evalue": "ignored",
          "traceback": [
            "\u001b[0;31m---------------------------------------------------------------------------\u001b[0m",
            "\u001b[0;31mIndexError\u001b[0m                                Traceback (most recent call last)",
            "\u001b[0;32m<ipython-input-50-85ee40573f6b>\u001b[0m in \u001b[0;36m<cell line: 3>\u001b[0;34m()\u001b[0m\n\u001b[1;32m      1\u001b[0m \u001b[0;31m#Try it\u001b[0m\u001b[0;34m\u001b[0m\u001b[0;34m\u001b[0m\u001b[0m\n\u001b[1;32m      2\u001b[0m \u001b[0mcars\u001b[0m \u001b[0;34m=\u001b[0m \u001b[0;34m[\u001b[0m\u001b[0;34m'bmw'\u001b[0m\u001b[0;34m,\u001b[0m \u001b[0;34m'audi'\u001b[0m\u001b[0;34m,\u001b[0m \u001b[0;34m'toyota'\u001b[0m\u001b[0;34m,\u001b[0m \u001b[0;34m'subaru'\u001b[0m\u001b[0;34m]\u001b[0m\u001b[0;34m\u001b[0m\u001b[0;34m\u001b[0m\u001b[0m\n\u001b[0;32m----> 3\u001b[0;31m \u001b[0mprint\u001b[0m \u001b[0;34m(\u001b[0m\u001b[0mcars\u001b[0m\u001b[0;34m[\u001b[0m\u001b[0;36m4\u001b[0m\u001b[0;34m]\u001b[0m\u001b[0;34m)\u001b[0m\u001b[0;34m\u001b[0m\u001b[0;34m\u001b[0m\u001b[0m\n\u001b[0m",
            "\u001b[0;31mIndexError\u001b[0m: list index out of range"
          ]
        }
      ]
    },
    {
      "cell_type": "code",
      "source": [
        "sq3 =[]\n",
        "for x in range(60, 85):\n",
        "  #this is checking which numbers are divisible by 7\n",
        "  if (x % 7 == 0):\n",
        "    sq3.append (x**3)\n",
        "\n",
        "print (sq3)"
      ],
      "metadata": {
        "colab": {
          "base_uri": "https://localhost:8080/"
        },
        "id": "2GJrXs3X-IoQ",
        "outputId": "1bc3ac5d-6da3-42b0-ad74-a09184bcfa10"
      },
      "execution_count": 61,
      "outputs": [
        {
          "output_type": "stream",
          "name": "stdout",
          "text": [
            "[250047, 343000, 456533, 592704]\n"
          ]
        }
      ]
    },
    {
      "cell_type": "code",
      "source": [
        "# I trid to do the last question but I can not figure ot how to do it\n",
        "\n",
        ""
      ],
      "metadata": {
        "id": "kpK0dFNy_Thu"
      },
      "execution_count": 79,
      "outputs": []
    }
  ]
}