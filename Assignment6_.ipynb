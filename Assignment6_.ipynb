{
  "nbformat": 4,
  "nbformat_minor": 0,
  "metadata": {
    "colab": {
      "provenance": [],
      "authorship_tag": "ABX9TyPcJC31svyDNL4t+VBZt5Qr",
      "include_colab_link": true
    },
    "kernelspec": {
      "name": "python3",
      "display_name": "Python 3"
    },
    "language_info": {
      "name": "python"
    }
  },
  "cells": [
    {
      "cell_type": "markdown",
      "metadata": {
        "id": "view-in-github",
        "colab_type": "text"
      },
      "source": [
        "<a href=\"https://colab.research.google.com/github/Dylan-Golden/CSC221_dgold015/blob/main/Assignment6_.ipynb\" target=\"_parent\"><img src=\"https://colab.research.google.com/assets/colab-badge.svg\" alt=\"Open In Colab\"/></a>"
      ]
    },
    {
      "cell_type": "code",
      "execution_count": null,
      "metadata": {
        "colab": {
          "base_uri": "https://localhost:8080/"
        },
        "id": "p6gMOBsVmu8k",
        "outputId": "0f4641a4-60ad-4524-98ee-d8137e90c0bc"
      },
      "outputs": [
        {
          "output_type": "stream",
          "name": "stdout",
          "text": [
            "Audi\n",
            "BMW\n",
            "Subaru\n",
            "Toyota\n"
          ]
        }
      ],
      "source": [
        "cars = ['audi', 'bmw', 'subaru', 'toyota']\n",
        "\n",
        "for car in cars:\n",
        "  if car == 'bmw':\n",
        "    print (car.upper())\n",
        "  else:\n",
        "    print (car.title())\n"
      ]
    },
    {
      "cell_type": "code",
      "source": [],
      "metadata": {
        "id": "ukg_hiaenZ1T"
      },
      "execution_count": null,
      "outputs": []
    },
    {
      "cell_type": "code",
      "source": [
        "car = 'bmw'\n",
        "car == 'bmw'"
      ],
      "metadata": {
        "colab": {
          "base_uri": "https://localhost:8080/"
        },
        "id": "mpsbzqrnnS5t",
        "outputId": "709792ae-3223-42fe-d922-c7924999e2e2"
      },
      "execution_count": null,
      "outputs": [
        {
          "output_type": "execute_result",
          "data": {
            "text/plain": [
              "True"
            ]
          },
          "metadata": {},
          "execution_count": 3
        }
      ]
    },
    {
      "cell_type": "code",
      "source": [
        "car = 'audi'\n",
        "car == 'bmw'"
      ],
      "metadata": {
        "colab": {
          "base_uri": "https://localhost:8080/"
        },
        "id": "VdOoE6sYnY7G",
        "outputId": "4b43532b-467d-494d-b0bb-ef4daa4dd2c8"
      },
      "execution_count": null,
      "outputs": [
        {
          "output_type": "execute_result",
          "data": {
            "text/plain": [
              "False"
            ]
          },
          "metadata": {},
          "execution_count": 4
        }
      ]
    },
    {
      "cell_type": "code",
      "source": [
        "car = 'Audi'\n",
        "car.lower() == 'audi'\n",
        "\n"
      ],
      "metadata": {
        "colab": {
          "base_uri": "https://localhost:8080/"
        },
        "id": "nTkCPZSqnglO",
        "outputId": "2d967aa5-05ee-4d7d-ccd3-184ba16f5d4b"
      },
      "execution_count": null,
      "outputs": [
        {
          "output_type": "execute_result",
          "data": {
            "text/plain": [
              "True"
            ]
          },
          "metadata": {},
          "execution_count": 6
        }
      ]
    },
    {
      "cell_type": "code",
      "source": [
        "requested_topping = 'mushrooms'\n",
        "\n",
        "if requested_topping != 'anchovies':\n",
        "  print (\"Hold the anchovies!\")"
      ],
      "metadata": {
        "colab": {
          "base_uri": "https://localhost:8080/"
        },
        "id": "2hcA8n8un9wo",
        "outputId": "ba06d143-55c1-4a15-cd1f-4867501fe423"
      },
      "execution_count": null,
      "outputs": [
        {
          "output_type": "stream",
          "name": "stdout",
          "text": [
            "Hold the anchovies!\n"
          ]
        }
      ]
    },
    {
      "cell_type": "code",
      "source": [
        "age = 18\n",
        "age == 18"
      ],
      "metadata": {
        "colab": {
          "base_uri": "https://localhost:8080/"
        },
        "id": "Inj6J1JLoMZj",
        "outputId": "b9d978e1-e9cb-4669-a104-9094128fd724"
      },
      "execution_count": null,
      "outputs": [
        {
          "output_type": "execute_result",
          "data": {
            "text/plain": [
              "True"
            ]
          },
          "metadata": {},
          "execution_count": 8
        }
      ]
    },
    {
      "cell_type": "code",
      "source": [
        "answer = 17\n",
        "if answer != 42:\n",
        "  print (\"that is not the correct answer. please try again!\")"
      ],
      "metadata": {
        "colab": {
          "base_uri": "https://localhost:8080/"
        },
        "id": "8-8fl89moQEP",
        "outputId": "0b71eb04-1ae3-472c-caef-024170b6adbc"
      },
      "execution_count": null,
      "outputs": [
        {
          "output_type": "stream",
          "name": "stdout",
          "text": [
            "that is not the correct answer. please try again!\n"
          ]
        }
      ]
    },
    {
      "cell_type": "code",
      "source": [
        "age_0 = 22\n",
        "age_1 = 18\n",
        "age_0 >=21 and age_1 >= 21"
      ],
      "metadata": {
        "colab": {
          "base_uri": "https://localhost:8080/"
        },
        "id": "9NDlE_OLocyS",
        "outputId": "4e8d9f35-1f2a-43a6-ae51-82f06c59c6cb"
      },
      "execution_count": null,
      "outputs": [
        {
          "output_type": "execute_result",
          "data": {
            "text/plain": [
              "False"
            ]
          },
          "metadata": {},
          "execution_count": 10
        }
      ]
    },
    {
      "cell_type": "code",
      "source": [
        "requested_topping = ['mushrooms', 'onions', 'pineapple']\n",
        "'mushrooms' in requested_topping"
      ],
      "metadata": {
        "colab": {
          "base_uri": "https://localhost:8080/"
        },
        "id": "ildk1Ehvor0k",
        "outputId": "53a3cdf4-ee51-48cf-ecb1-bdfed8119280"
      },
      "execution_count": null,
      "outputs": [
        {
          "output_type": "execute_result",
          "data": {
            "text/plain": [
              "True"
            ]
          },
          "metadata": {},
          "execution_count": 11
        }
      ]
    },
    {
      "cell_type": "code",
      "source": [
        "banned_users = ['andrew', 'carolina', 'david']\n",
        "user = 'marie'\n",
        "if user not in banned_users:\n",
        "  print (f\"{user.title()}, you can post a response if you wish.\")"
      ],
      "metadata": {
        "colab": {
          "base_uri": "https://localhost:8080/"
        },
        "id": "Yq4Tslt_pJoJ",
        "outputId": "d8f7ab64-09d3-4805-a4f0-d39aa76d6adc"
      },
      "execution_count": null,
      "outputs": [
        {
          "output_type": "stream",
          "name": "stdout",
          "text": [
            "Marie, you can post a response if you wish.\n"
          ]
        }
      ]
    },
    {
      "cell_type": "code",
      "source": [
        "# I am only going to do 6 because making 10 of these doesnt do much to help me\n",
        "food = ['pizza', 'ramen', 'cereal']\n",
        "print (\"Is food == 'pizza'? I predict true.\")\n",
        "print ('pizza' in food)\n",
        "\n",
        "print (\"\\nIs food == 'taco'? I predict false.\")\n",
        "print ('taco' in food)\n",
        "\n",
        "print (\"\\nIs food == 'ramen'? I predict true.\")\n",
        "print ('ramen' in food)\n",
        "\n",
        "print (\"\\nIs food == 'sushi'? I predict false.\")\n",
        "print ('sushi' in food)\n",
        "\n",
        "print (\"\\nIs food == 'cereal'? I predict true.\")\n",
        "print ('cereal' in food)\n",
        "\n",
        "print (\"\\nIs food == 'dumpling'? I predict false.\")\n",
        "print ('dumpling' in food)"
      ],
      "metadata": {
        "colab": {
          "base_uri": "https://localhost:8080/"
        },
        "id": "qTDUecIlpyrm",
        "outputId": "a533ecea-b089-4703-e736-439055df4a64"
      },
      "execution_count": null,
      "outputs": [
        {
          "output_type": "stream",
          "name": "stdout",
          "text": [
            "Is food == 'pizza'? I predict true.\n",
            "True\n",
            "\n",
            "Is food == 'taco'? I predict false.\n",
            "False\n",
            "\n",
            "Is food == 'ramen'? I predict true.\n",
            "True\n",
            "\n",
            "Is food == 'sushi'? I predict false.\n",
            "False\n",
            "\n",
            "Is food == 'cereal'? I predict true.\n",
            "True\n",
            "\n",
            "Is food == 'dumpling'? I predict false.\n",
            "False\n"
          ]
        }
      ]
    },
    {
      "cell_type": "code",
      "source": [
        "test = 'International'\n",
        "test_num = 23\n",
        "test_list = ['hungry']\n",
        "print (test == 'International')\n",
        "print (test == 'Ford')\n",
        "\n",
        "print (test.lower() == 'international')\n",
        "print (test.lower() == 'International')\n",
        "\n",
        "print (test_num == 23)\n",
        "print (test_num == 22)\n",
        "\n",
        "print (test_num > 18)\n",
        "print (test_num > 24)\n",
        "\n",
        "print (test_num < 50)\n",
        "print (test_num < 10)\n",
        "\n",
        "print (test_num >= 12)\n",
        "print (test_num >= 100)\n",
        "\n",
        "print (test_num <= 60)\n",
        "print (test_num <= 12)\n",
        "\n",
        "print ('hungry' in test_list)\n",
        "print ('sated' in test_list)"
      ],
      "metadata": {
        "colab": {
          "base_uri": "https://localhost:8080/"
        },
        "id": "W-8Q_xDntoFX",
        "outputId": "cee96d4c-1412-43c5-9d3c-28d4a2263d44"
      },
      "execution_count": null,
      "outputs": [
        {
          "output_type": "stream",
          "name": "stdout",
          "text": [
            "True\n",
            "False\n",
            "True\n",
            "False\n",
            "True\n",
            "False\n",
            "True\n",
            "False\n",
            "True\n",
            "False\n",
            "True\n",
            "False\n",
            "True\n",
            "False\n",
            "True\n",
            "False\n"
          ]
        }
      ]
    },
    {
      "cell_type": "code",
      "source": [
        "age = 19\n",
        "if age >= 18:\n",
        "  print (\"you are old enough to vote!\")\n",
        "  print (\"have you registered to vote yet?\")\n",
        "else:\n",
        "  print (\"sorry, you are to young to vote.\")\n",
        "  print (\"please register to vote as soon as you turn 18!\")"
      ],
      "metadata": {
        "colab": {
          "base_uri": "https://localhost:8080/"
        },
        "id": "H_CsAXAd0gGl",
        "outputId": "7a1e5b73-5645-49ef-8db5-6b6367e1ceee"
      },
      "execution_count": null,
      "outputs": [
        {
          "output_type": "stream",
          "name": "stdout",
          "text": [
            "you are old enough to vote!\n",
            "have you registered to vote yet?\n"
          ]
        }
      ]
    },
    {
      "cell_type": "code",
      "source": [
        "age = 12\n",
        "if age < 4:\n",
        "  print (\"your admission cost is $0.\")\n",
        "elif age < 18:\n",
        "  print (\"your admission fee is $25.\")\n",
        "else:\n",
        "  print (\"your admission fee is $40.\")"
      ],
      "metadata": {
        "colab": {
          "base_uri": "https://localhost:8080/"
        },
        "id": "qkYfVMBx2vl6",
        "outputId": "cb5589cf-f5c5-42f0-c243-771564fe0131"
      },
      "execution_count": null,
      "outputs": [
        {
          "output_type": "stream",
          "name": "stdout",
          "text": [
            "your admission fee is $25.\n"
          ]
        }
      ]
    },
    {
      "cell_type": "code",
      "source": [
        "age = 12\n",
        "if age < 4:\n",
        "  price = 0\n",
        "elif age < 18:\n",
        "  price = 25\n",
        "elif age < 65:\n",
        "  price = 40\n",
        "elif age >= 65:\n",
        "  price = 20\n",
        "\n",
        "print (f\"your admission cost is ${price}.\")"
      ],
      "metadata": {
        "colab": {
          "base_uri": "https://localhost:8080/"
        },
        "outputId": "a863a1d4-af82-41ba-fc98-3085aec63b91",
        "id": "fqm8xEI-3Lum"
      },
      "execution_count": null,
      "outputs": [
        {
          "output_type": "stream",
          "name": "stdout",
          "text": [
            "your admission cost is $25.\n"
          ]
        }
      ]
    },
    {
      "cell_type": "code",
      "source": [
        "# I understand the testing multiple conditions part so i will skip it\n",
        "\n"
      ],
      "metadata": {
        "id": "D97SOT0H1p0u"
      },
      "execution_count": null,
      "outputs": []
    },
    {
      "cell_type": "code",
      "source": [
        "#try it 5-3\n",
        "alien_color = 'red'\n",
        "if alien_color == 'green':\n",
        "  None\n",
        "if alien_color == 'red':\n",
        "  print (\"you got 5 points!\")\n"
      ],
      "metadata": {
        "id": "8iweE0bc44Xw",
        "colab": {
          "base_uri": "https://localhost:8080/"
        },
        "outputId": "215036c2-cc43-48f0-86c4-954ed30eb903"
      },
      "execution_count": null,
      "outputs": [
        {
          "output_type": "stream",
          "name": "stdout",
          "text": [
            "you got 5 points!\n"
          ]
        }
      ]
    },
    {
      "cell_type": "code",
      "source": [
        "#try it 5-6\n",
        "age = int(input(\"please enter your age. \"))\n",
        "if (age < 2):\n",
        "  print (\"you are a baby.\")\n",
        "elif (age >= 2 and age < 4):\n",
        "  print (\"you are a toddler\")\n",
        "elif (age >= 4 and age < 13):\n",
        "  print (\"you are a kid\")\n",
        "elif (age >= 13 and age < 20):\n",
        "  print (\"you are a teen\")\n",
        "elif (age >= 13 and age < 65):\n",
        "  print (\"you are an adult\")\n",
        "else:\n",
        "  print (\"you are an elder\")"
      ],
      "metadata": {
        "colab": {
          "base_uri": "https://localhost:8080/"
        },
        "id": "hiA0lH_87lvS",
        "outputId": "aef4c444-3c46-4529-c5d7-5df22c69350a"
      },
      "execution_count": null,
      "outputs": [
        {
          "output_type": "stream",
          "name": "stdout",
          "text": [
            "please enter your age. 65\n",
            "you are an elder\n"
          ]
        }
      ]
    },
    {
      "cell_type": "code",
      "source": [
        "requested_toppings = ['mushroom', 'green peppers', 'extra cheese']\n",
        "\n",
        "for requested_topping in requested_toppings:\n",
        "  if requested_topping == 'green peppers':\n",
        "    print (\"sorry we are out of green peppers right now.\")\n",
        "  else:\n",
        "    print (f\"adding {requested_topping}.\")\n",
        "\n",
        "print (\"\\nfinished making your pizza!\")"
      ],
      "metadata": {
        "colab": {
          "base_uri": "https://localhost:8080/"
        },
        "id": "LYYnRN2E7wTw",
        "outputId": "6087e5d9-0f64-4de3-cbb4-ce1aaabfd4fd"
      },
      "execution_count": null,
      "outputs": [
        {
          "output_type": "stream",
          "name": "stdout",
          "text": [
            "adding mushroom.\n",
            "sorry we are out of green peppers right now.\n",
            "adding extra cheese.\n",
            "\n",
            "finished making your pizza!\n"
          ]
        }
      ]
    },
    {
      "cell_type": "code",
      "source": [
        "available_toppings = ['mushrooms', 'olives', 'green peppers', 'pepperoni', 'pineapple', 'extra cheese']\n",
        "\n",
        "requested_toppings = ['mushrooms', 'french fries', 'extra cheese']\n",
        "for requested_topping in requested_toppings:\n",
        "  if requested_topping in available_toppings:\n",
        "    print (f\"adding {requested_topping}.\")\n",
        "  else:\n",
        "    print (f\"sorry, we don't have {requested_topping}.\")\n",
        "\n",
        "print (\"\\nfinished making your pizza\")"
      ],
      "metadata": {
        "colab": {
          "base_uri": "https://localhost:8080/"
        },
        "id": "EkpseCeg-qom",
        "outputId": "0ac38d69-7fe5-409e-b39f-e412c5341f0d"
      },
      "execution_count": null,
      "outputs": [
        {
          "output_type": "stream",
          "name": "stdout",
          "text": [
            "adding mushrooms.\n",
            "sorry, we don't have french fries.\n",
            "adding extra cheese.\n",
            "\n",
            "finished making your pizza\n"
          ]
        }
      ]
    },
    {
      "cell_type": "code",
      "source": [
        "# try it 5-13\n",
        "fav_generes = ['sci-fi', 'looter shooter', 'action']\n",
        "user_guesses = []\n",
        "print (\"please type all asnwers exactly as they are dispayed\")\n",
        "\n",
        "print (\"book types:\\n-mystery\\n-fiction\\n-sci-fi\\n-thriller\\n-fantasy\")\n",
        "book_genre = str(input(\"What is my favorite genre of book? \"))\n",
        "user_guesses.append(book_genre)\n",
        "\n",
        "print (\"-----------------------------------------------------------\")\n",
        "\n",
        "print (\"video game types:\\n-fps\\n-looter shooter\\n-platformer\\n-rpg\\n-mmo\")\n",
        "game_genre = str(input(\"What is my favorite genre of video game? \"))\n",
        "user_guesses.insert(1, game_genre)\n",
        "\n",
        "print (\"-----------------------------------------------------------\")\n",
        "\n",
        "print (\"movie types:\\n-drama\\n-action\\n-comedy\\n-horror\\n-romance\")\n",
        "movie_genre = str(input(\"What is my favorite genre of movie? \"))\n",
        "user_guesses.insert(2, movie_genre)\n",
        "\n",
        "\n",
        "\n",
        "if user_guesses == fav_generes:\n",
        "  print (\"Congratulations you have guessed correctly and win!\")\n",
        "else:\n",
        "  print (\"Sorry you did not guess correctly\")\n",
        "\n"
      ],
      "metadata": {
        "id": "02au8LSR_zlp",
        "colab": {
          "base_uri": "https://localhost:8080/"
        },
        "outputId": "248ccdc3-8785-41bb-a003-b918de4b2464"
      },
      "execution_count": 45,
      "outputs": [
        {
          "output_type": "stream",
          "name": "stdout",
          "text": [
            "please type all asnwers exactly as they are dispayed\n",
            "book types:\n",
            "-mystery\n",
            "-fiction\n",
            "-sci-fi\n",
            "-thriller\n",
            "-fantasy\n",
            "What is my favorite genre of book? n\n",
            "-----------------------------------------------------------\n",
            "video game types:\n",
            "-fps\n",
            "-looter shooter\n",
            "-platformer\n",
            "-rpg\n",
            "-mmo\n",
            "What is my favorite genre of video game? n\n",
            "-----------------------------------------------------------\n",
            "movie types:\n",
            "-drama\n",
            "-action\n",
            "-comedy\n",
            "-horror\n",
            "-romance\n",
            "What is my favorite genre of movie? n\n",
            "Sorry you did not guess correctly\n"
          ]
        }
      ]
    },
    {
      "cell_type": "code",
      "source": [],
      "metadata": {
        "colab": {
          "base_uri": "https://localhost:8080/"
        },
        "id": "Vcx0Jrcaf9yU",
        "outputId": "42a0072f-fa5b-40b6-d6ff-45e9429e7cbb"
      },
      "execution_count": 20,
      "outputs": [
        {
          "output_type": "stream",
          "name": "stdout",
          "text": [
            "13\n"
          ]
        }
      ]
    }
  ]
}