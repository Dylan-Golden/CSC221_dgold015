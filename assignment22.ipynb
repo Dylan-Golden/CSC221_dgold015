{
  "nbformat": 4,
  "nbformat_minor": 0,
  "metadata": {
    "colab": {
      "provenance": [],
      "authorship_tag": "ABX9TyMjnuyZCsLt0tPT/72V7ZnV",
      "include_colab_link": true
    },
    "kernelspec": {
      "name": "python3",
      "display_name": "Python 3"
    },
    "language_info": {
      "name": "python"
    }
  },
  "cells": [
    {
      "cell_type": "markdown",
      "metadata": {
        "id": "view-in-github",
        "colab_type": "text"
      },
      "source": [
        "<a href=\"https://colab.research.google.com/github/Dylan-Golden/CSC221_dgold015/blob/main/assignment22.ipynb\" target=\"_parent\"><img src=\"https://colab.research.google.com/assets/colab-badge.svg\" alt=\"Open In Colab\"/></a>"
      ]
    },
    {
      "cell_type": "code",
      "source": [
        "import math\n",
        "#I asked ChatGPT to \"Make a class Vector2D that stores a 2D vector (x,y) and allows me to print them and sort them by length in python\" and this is what I got\n",
        "class Vector2D:\n",
        "    def __init__(self, x, y):\n",
        "        self.x = x\n",
        "        self.y = y\n",
        "\n",
        "    def __repr__(self):\n",
        "        return f\"Vector2D({self.x}, {self.y})\"\n",
        "\n",
        "    def __str__(self):\n",
        "        return f\"({self.x}, {self.y})\"\n",
        "\n",
        "    def __lt__(self, other):\n",
        "        return self.length() < other.length()\n",
        "\n",
        "    def length(self):\n",
        "        return math.sqrt(self.x**2 + self.y**2)\n",
        "\n",
        "# Example usage:\n",
        "v1 = Vector2D(3, 4)\n",
        "v2 = Vector2D(-1, 2)\n",
        "v3 = Vector2D(5, -2)\n",
        "\n",
        "vectors = [v1, v2, v3]\n",
        "\n",
        "sorted_vectors = sorted(vectors)\n",
        "print(\"\\nSorted vectors by length:\")\n",
        "for vector in sorted_vectors:\n",
        "    print(vector)\n"
      ],
      "metadata": {
        "colab": {
          "base_uri": "https://localhost:8080/"
        },
        "id": "gfyePwA3KlQV",
        "outputId": "1f486997-4f05-48b3-baa6-790fa7930cd8"
      },
      "execution_count": 2,
      "outputs": [
        {
          "output_type": "stream",
          "name": "stdout",
          "text": [
            "\n",
            "Sorted vectors by length:\n",
            "(-1, 2)\n",
            "(3, 4)\n",
            "(5, -2)\n"
          ]
        }
      ]
    },
    {
      "cell_type": "code",
      "source": [
        "import math\n",
        "class Vector2D:\n",
        "    def __init__(self, x, y):\n",
        "        self.x = x\n",
        "        self.y = y\n",
        "\n",
        "    def __repr__(self):\n",
        "        return f\"Vector2D({self.x}, {self.y})\"\n",
        "\n",
        "    def __str__(self):\n",
        "        return f\"({self.x}, {self.y})\"\n",
        "\n",
        "    def __lt__(self, other):\n",
        "        return (self.x + self.y) < (other.x + other.y)\n",
        "\n",
        "\n",
        "\n",
        "# Example usage:\n",
        "v1 = Vector2D(3, 4)\n",
        "v2 = Vector2D(-1, 2)\n",
        "v3 = Vector2D(5, -2)\n",
        "\n",
        "vectors = [v1, v2, v3]\n",
        "\n",
        "sorted_vectors = sorted(vectors)\n",
        "print(\"\\nSorted vectors by Euclidian length:\")\n",
        "for vector in sorted_vectors:\n",
        "    print(vector)\n"
      ],
      "metadata": {
        "colab": {
          "base_uri": "https://localhost:8080/"
        },
        "id": "SK2YD0y8Lhhd",
        "outputId": "c1b7cbde-2a0c-4587-b26c-53b74a4ed9f6"
      },
      "execution_count": 8,
      "outputs": [
        {
          "output_type": "stream",
          "name": "stdout",
          "text": [
            "\n",
            "Sorted vectors by Euclidian length:\n",
            "(-1, 2)\n",
            "(5, -2)\n",
            "(3, 4)\n"
          ]
        }
      ]
    },
    {
      "cell_type": "code",
      "source": [
        "class Special():\n",
        "  def __getitem__(slef, key):\n",
        "    return len(key)\n",
        "\n",
        "s1 = Special()\n",
        "\n",
        "print (s1[\"test\"])\n",
        "print (s1[\"tierd\"])\n",
        "print (s1['sleep'*5])"
      ],
      "metadata": {
        "colab": {
          "base_uri": "https://localhost:8080/"
        },
        "id": "1Rkqw3wDOaLi",
        "outputId": "49558535-4af2-4cee-9194-595e95382b30"
      },
      "execution_count": 14,
      "outputs": [
        {
          "output_type": "stream",
          "name": "stdout",
          "text": [
            "4\n",
            "5\n",
            "25\n"
          ]
        }
      ]
    }
  ]
}