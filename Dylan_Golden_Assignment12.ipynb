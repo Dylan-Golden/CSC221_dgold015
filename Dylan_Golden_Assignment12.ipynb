{
  "nbformat": 4,
  "nbformat_minor": 0,
  "metadata": {
    "colab": {
      "provenance": [],
      "authorship_tag": "ABX9TyPB/oRt5wiDw3TcMR/R1iJG",
      "include_colab_link": true
    },
    "kernelspec": {
      "name": "python3",
      "display_name": "Python 3"
    },
    "language_info": {
      "name": "python"
    }
  },
  "cells": [
    {
      "cell_type": "markdown",
      "metadata": {
        "id": "view-in-github",
        "colab_type": "text"
      },
      "source": [
        "<a href=\"https://colab.research.google.com/github/Dylan-Golden/CSC221_dgold015/blob/main/Dylan_Golden_Assignment12.ipynb\" target=\"_parent\"><img src=\"https://colab.research.google.com/assets/colab-badge.svg\" alt=\"Open In Colab\"/></a>"
      ]
    },
    {
      "cell_type": "code",
      "execution_count": 29,
      "metadata": {
        "id": "JT39ai0XEz3Z",
        "colab": {
          "base_uri": "https://localhost:8080/"
        },
        "outputId": "99b795fb-b088-4e19-c11e-ff08b9ed0fff"
      },
      "outputs": [
        {
          "output_type": "stream",
          "name": "stdout",
          "text": [
            "<__main__.Bills object at 0x78fa6d3e7d00>\n"
          ]
        }
      ],
      "source": [
        "#I tried for a long time to figure out how to do this but I cannot figure out how to.\n",
        "class Money:\n",
        "  def __init__(self, value):\n",
        "    self.value = value\n",
        "  def add(self, value):\n",
        "    return (self.inside + self.value)\n",
        "\n",
        "class Bills(Money):\n",
        "  def __init__(self, value):\n",
        "    super().__init__(value)\n",
        "    self.name = 'bills'\n",
        "\n",
        "  def bill_types(self,value):\n",
        "    if self.value == 1:\n",
        "      return 'one dollar bill'\n",
        "    elif self.value == 5:\n",
        "      return 'five dollar bill'\n",
        "    elif self.value == 10:\n",
        "      return 'ten dollar bill'\n",
        "    elif self.value == 20:\n",
        "      return 'twenty dollar bill'\n",
        "    elif self.value == 50:\n",
        "      return 'fifty dollar bill'\n",
        "    elif self.value == 100:\n",
        "      return 'hundred dollar bill'\n",
        "\n",
        "class Coins(Money):\n",
        "  def __init__(self,value):\n",
        "    super().__init__(value)\n",
        "    self.name = 'coins'\n",
        "\n",
        "  def coin_types(self, value):\n",
        "    if self.value == .01:\n",
        "      return 'penny'\n",
        "    if self.value == .05:\n",
        "      return 'nickel'\n",
        "    if self.value == .10:\n",
        "      return 'dime'\n",
        "    if self.value == .25:\n",
        "      return 'quarter'\n",
        "\n",
        "\n",
        "class Wallet(Money):\n",
        "  def __init__(self,inside):\n",
        "    self.value = 0\n",
        "    self.inside = inside\n",
        "  def inside_val(self):\n",
        "    for i in self.inside:\n",
        "      return self.value + i\n",
        "\n",
        "bills1 = Bills(20)\n",
        "bills2 = Bills(50)\n",
        "wallet1 = Wallet([bills1, bills2])\n",
        "print (bills1)"
      ]
    }
  ]
}