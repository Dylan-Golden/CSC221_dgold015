{
  "nbformat": 4,
  "nbformat_minor": 0,
  "metadata": {
    "colab": {
      "provenance": [],
      "authorship_tag": "ABX9TyNe8vVit2vkAe5UYct7oc6p",
      "include_colab_link": true
    },
    "kernelspec": {
      "name": "python3",
      "display_name": "Python 3"
    },
    "language_info": {
      "name": "python"
    }
  },
  "cells": [
    {
      "cell_type": "markdown",
      "metadata": {
        "id": "view-in-github",
        "colab_type": "text"
      },
      "source": [
        "<a href=\"https://colab.research.google.com/github/Dylan-Golden/CSC221_dgold015/blob/main/Dylan_Golden_Assigment11.ipynb\" target=\"_parent\"><img src=\"https://colab.research.google.com/assets/colab-badge.svg\" alt=\"Open In Colab\"/></a>"
      ]
    },
    {
      "cell_type": "code",
      "execution_count": null,
      "metadata": {
        "colab": {
          "base_uri": "https://localhost:8080/"
        },
        "id": "9N7QBOC1DdBo",
        "outputId": "d0f24b1d-1a4e-4672-cdbf-efaa8c4c2cf1"
      },
      "outputs": [
        {
          "output_type": "stream",
          "name": "stdout",
          "text": [
            "My dog's name in Willie.\n",
            "My dog is 6 years old.\n",
            "Willie is now sitting.\n",
            "Your dog's name in Lucy.\n",
            "Your dog is 3 years old.\n",
            "Lucy is now sitting.\n"
          ]
        }
      ],
      "source": [
        "class dog:\n",
        "  def __init__(self, name, age):\n",
        "    self.name = name\n",
        "    self.age = age\n",
        "\n",
        "  def sit(self):\n",
        "    print (f\"{self.name} is now sitting.\")\n",
        "\n",
        "  def roll_over(self):\n",
        "    print (f\"{self.name} rolled over!\")\n",
        "\n",
        "my_dog = dog('Willie', 6)\n",
        "your_dog = dog('Lucy', 3)\n",
        "\n",
        "print (f\"My dog's name in {my_dog.name}.\")\n",
        "print (f\"My dog is {my_dog.age} years old.\")\n",
        "my_dog.sit()\n",
        "\n",
        "print (f\"Your dog's name in {your_dog.name}.\")\n",
        "print (f\"Your dog is {your_dog.age} years old.\")\n",
        "your_dog.sit()"
      ]
    },
    {
      "cell_type": "code",
      "source": [
        "#try it 9-1\n",
        "class Restraunt:\n",
        "  def __init__(self, restraunt_name, cuisine_type):\n",
        "    self.restraunt_name = restraunt_name\n",
        "    self.cuisine_type = cuisine_type\n",
        "\n",
        "  def describe_restraunt(self):\n",
        "    print (f\"We are called {self.restraunt_name}.\")\n",
        "    print (f\"We sell {self.cuisine_type}.\")\n",
        "\n",
        "  def restraunt_open(self):\n",
        "    print (f\"{self.restraunt_name} is now open.\")\n",
        "\n",
        "restraunt = Restraunt('Big Sals', 'pizza')\n",
        "restraunt.restraunt_open()\n",
        "restraunt.describe_restraunt()\n"
      ],
      "metadata": {
        "colab": {
          "base_uri": "https://localhost:8080/"
        },
        "id": "VJImnVKOGod_",
        "outputId": "45290144-3617-494e-f36f-7086e750ae7a"
      },
      "execution_count": null,
      "outputs": [
        {
          "output_type": "stream",
          "name": "stdout",
          "text": [
            "Big Sals is now open.\n",
            "We are called Big Sals.\n",
            "We sell pizza.\n"
          ]
        }
      ]
    },
    {
      "cell_type": "code",
      "source": [
        "#try it 9-2\n",
        "class Restraunt:\n",
        "  def __init__(self, restraunt_name, cuisine_type):\n",
        "    self.restraunt_name = restraunt_name\n",
        "    self.cuisine_type = cuisine_type\n",
        "\n",
        "  def describe_restraunt(self):\n",
        "    print (f\"We are called {self.restraunt_name}.\")\n",
        "    print (f\"We sell {self.cuisine_type}.\")\n",
        "\n",
        "  def restraunt_open(self):\n",
        "    print (f\"{self.restraunt_name} is now open.\")\n",
        "\n",
        "restraunt1 = Restraunt('Big Sals', 'pizza')\n",
        "restraunt2 = Restraunt('Tower North Food District', 'Ramen')\n",
        "restraunt3 = Restraunt('Kodos', 'Japanese food')\n",
        "\n",
        "restraunt1.describe_restraunt()\n",
        "restraunt2.describe_restraunt()\n",
        "restraunt3.describe_restraunt()"
      ],
      "metadata": {
        "colab": {
          "base_uri": "https://localhost:8080/"
        },
        "id": "r2rCZUrgJKPR",
        "outputId": "0e2f48fc-5e64-47e3-8e27-56dcd1ac0867"
      },
      "execution_count": null,
      "outputs": [
        {
          "output_type": "stream",
          "name": "stdout",
          "text": [
            "We are called Big Sals.\n",
            "We sell pizza.\n",
            "We are called Tower North Food District.\n",
            "We sell Ramen.\n",
            "We are called Kodos.\n",
            "We sell Japanese food.\n"
          ]
        }
      ]
    },
    {
      "cell_type": "code",
      "source": [
        "#try it 9-3\n",
        "class User:\n",
        "  def __init__(self, first_name, last_name, height, age):\n",
        "    self.first_name = first_name\n",
        "    self.last_name = last_name\n",
        "    self.height = height\n",
        "    self.age = age\n",
        "\n",
        "  def describe_user(self):\n",
        "    print (f\"Your first name is {self.first_name} {self.last_name}.\")\n",
        "    print (f\"Your height is {self.height}.\")\n",
        "    print (f\"You are {self.age} years old.\")\n",
        "\n",
        "\n",
        "  def greet_user(self):\n",
        "    print (f\"Hello {self.first_name} {self.last_name} you are {self.age} and your height is {self.height}\")\n",
        "\n",
        "user1 = User('Dylan', 'Golden', \"5'11\", '17')\n",
        "user2 = User('Thomas', 'Malinak', \"5'10\", '18')\n",
        "user1.describe_user()\n",
        "user1.greet_user()\n",
        "user2.describe_user()\n",
        "user2.greet_user()"
      ],
      "metadata": {
        "colab": {
          "base_uri": "https://localhost:8080/"
        },
        "id": "0pdXBUi4LvDV",
        "outputId": "203059d0-8149-43d3-ee02-0502c21e3054"
      },
      "execution_count": null,
      "outputs": [
        {
          "output_type": "stream",
          "name": "stdout",
          "text": [
            "Your first name is Dylan Golden.\n",
            "Your height is 5'11.\n",
            "You are 17 years old.\n",
            "Hello Dylan Golden you are 17 and your height is 5'11\n",
            "Your first name is Thomas Malinak.\n",
            "Your height is 5'10.\n",
            "You are 18 years old.\n",
            "Hello Thomas Malinak you are 18 and your height is 5'10\n"
          ]
        }
      ]
    },
    {
      "cell_type": "code",
      "source": [
        "class Car:\n",
        "  def __init__(self, make, model, year):\n",
        "    self.make = make\n",
        "    self.model = model\n",
        "    self.year = year\n",
        "\n",
        "  def get_descriptive_name(self):\n",
        "    long_name = f\"{self.year} {self.make} {self.model}\"\n",
        "    return long_name.title()\n",
        "\n",
        "my_car = Car('International', 'Scout 2', 1973)\n",
        "print (my_car.get_descriptive_name())"
      ],
      "metadata": {
        "colab": {
          "base_uri": "https://localhost:8080/"
        },
        "id": "8uoPjNEYQ_FA",
        "outputId": "a637fe10-f2e9-443f-8624-e3fed4c86cac"
      },
      "execution_count": null,
      "outputs": [
        {
          "output_type": "stream",
          "name": "stdout",
          "text": [
            "1973 International Scout 2\n"
          ]
        }
      ]
    },
    {
      "cell_type": "code",
      "source": [],
      "metadata": {
        "id": "8pS_5pgmSmq7"
      },
      "execution_count": null,
      "outputs": []
    },
    {
      "cell_type": "code",
      "source": [
        "class Car:\n",
        "  def __init__(self, make, model, year):\n",
        "    self.make = make\n",
        "    self.model = model\n",
        "    self.year = year\n",
        "    self.odometer_reading = 0\n",
        "\n",
        "  def get_descriptive_name(self):\n",
        "    long_name = f\"{self.year} {self.make} {self.model}\"\n",
        "    return long_name.title()\n",
        "\n",
        "  def read_odometer(self):\n",
        "    print (f\"This car has {self.odometer_reading} miles on it\")\n",
        "\n",
        "  def update_odometer(self, mileage):\n",
        "    self.odometer_reading = mileage\n",
        "\n",
        "my_car = Car('International', 'Scout 2', 1973)\n",
        "print (my_car.get_descriptive_name())\n",
        "my_car.update_odometer(200000)\n",
        "my_car.read_odometer()"
      ],
      "metadata": {
        "colab": {
          "base_uri": "https://localhost:8080/"
        },
        "outputId": "5fcc09f5-524a-4b35-d71f-4cdd58f271e4",
        "id": "SU7ej_AaRx7M"
      },
      "execution_count": null,
      "outputs": [
        {
          "output_type": "stream",
          "name": "stdout",
          "text": [
            "1973 International Scout 2\n",
            "This car has 200000 miles on it\n"
          ]
        }
      ]
    },
    {
      "cell_type": "code",
      "source": [
        "class Car:\n",
        "  def __init__(self, make, model, year):\n",
        "    self.make = make\n",
        "    self.model = model\n",
        "    self.year = year\n",
        "    self.odometer_reading = 0\n",
        "\n",
        "  def get_descriptive_name(self):\n",
        "    long_name = f\"{self.year} {self.make} {self.model}\"\n",
        "    return long_name.title()\n",
        "\n",
        "  def read_odometer(self):\n",
        "    print (f\"This car has {self.odometer_reading} miles on it\")\n",
        "\n",
        "  def update_odometer(self, mileage):\n",
        "    if mileage >= self.odometer_reading:\n",
        "      self.odometer_reading = mileage\n",
        "    else:\n",
        "      print (\"you cant roll back an odometer\")\n",
        "\n",
        "  def increment_odometer(self, miles):\n",
        "    self.odometer_reading += miles\n",
        "\n",
        "my_car = Car('International', 'Scout 2', 1973)\n",
        "print (my_car.get_descriptive_name())\n",
        "\n",
        "my_car.update_odometer(200_000)\n",
        "my_car.read_odometer()\n",
        "\n",
        "my_car.increment_odometer(30000)\n",
        "my_car.read_odometer()"
      ],
      "metadata": {
        "colab": {
          "base_uri": "https://localhost:8080/"
        },
        "outputId": "852b5353-42f5-46df-c5fe-2f057a37ca9f",
        "id": "Dnbw4ucsU9y1"
      },
      "execution_count": null,
      "outputs": [
        {
          "output_type": "stream",
          "name": "stdout",
          "text": [
            "1973 International Scout 2\n",
            "This car has 200000 miles on it\n",
            "This car has 230000 miles on it\n"
          ]
        }
      ]
    },
    {
      "cell_type": "code",
      "source": [
        "class Car:\n",
        "  def __init__(self, make, model, year):\n",
        "    self.make = make\n",
        "    self.model = model\n",
        "    self.year = year\n",
        "    self.odometer_reading = 0\n",
        "\n",
        "  def get_descriptive_name(self):\n",
        "    long_name = f\"{self.year} {self.make} {self.model}\"\n",
        "    return long_name.title()\n",
        "\n",
        "  def read_odometer(self):\n",
        "    print (f\"This car has {self.odometer_reading} miles on it\")\n",
        "\n",
        "  def update_odometer(self, mileage):\n",
        "    if mileage >= self.odometer_reading:\n",
        "      self.odometer_reading = mileage\n",
        "    else:\n",
        "      print (\"you cant roll back an odometer\")\n",
        "\n",
        "  def increment_odometer(self, miles):\n",
        "    self.odometer_reading += miles\n",
        "\n",
        "class ElectricCar(Car):\n",
        "  def __init__(self, make, model, year):\n",
        "    super().__init__(make, model, year)\n",
        "\n",
        "my_leaf = ElectricCar('nissan', 'leaf', 2024)\n",
        "print (my_leaf.get_descriptive_name())"
      ],
      "metadata": {
        "colab": {
          "base_uri": "https://localhost:8080/"
        },
        "outputId": "6333c5a0-d4b1-4711-8a57-28ec73c026a5",
        "id": "f_ZkuHzzWHtE"
      },
      "execution_count": null,
      "outputs": [
        {
          "output_type": "stream",
          "name": "stdout",
          "text": [
            "2024 Nissan Leaf\n"
          ]
        }
      ]
    },
    {
      "cell_type": "code",
      "source": [
        "class Car:\n",
        "  def __init__(self, make, model, year):\n",
        "    self.make = make\n",
        "    self.model = model\n",
        "    self.year = year\n",
        "    self.odometer_reading = 0\n",
        "\n",
        "  def get_descriptive_name(self):\n",
        "    long_name = f\"{self.year} {self.make} {self.model}\"\n",
        "    return long_name.title()\n",
        "\n",
        "  def read_odometer(self):\n",
        "    print (f\"This car has {self.odometer_reading} miles on it\")\n",
        "\n",
        "  def update_odometer(self, mileage):\n",
        "    if mileage >= self.odometer_reading:\n",
        "      self.odometer_reading = mileage\n",
        "    else:\n",
        "      print (\"you cant roll back an odometer\")\n",
        "\n",
        "  def increment_odometer(self, miles):\n",
        "    self.odometer_reading += miles\n",
        "\n",
        "class ElectricCar(Car):\n",
        "  def __init__(self, make, model, year):\n",
        "    super().__init__(make, model, year)\n",
        "    self.battery_size = 40\n",
        "\n",
        "  def describe_battery(self):\n",
        "    print (f\"This car has a {self.battery_size}-kWh battery\")\n",
        "my_leaf = ElectricCar('nissan', 'leaf', 2024)\n",
        "print (my_leaf.get_descriptive_name())\n",
        "my_leaf.describe_battery()"
      ],
      "metadata": {
        "colab": {
          "base_uri": "https://localhost:8080/"
        },
        "outputId": "30838029-76cb-4b7d-eecc-a7408b597564",
        "id": "KTTNlUKVWvrJ"
      },
      "execution_count": null,
      "outputs": [
        {
          "output_type": "stream",
          "name": "stdout",
          "text": [
            "2024 Nissan Leaf\n",
            "This car has a 40-kWh battery\n"
          ]
        }
      ]
    },
    {
      "cell_type": "code",
      "source": [
        "class Car:\n",
        "  def __init__(self, make, model, year):\n",
        "    self.make = make\n",
        "    self.model = model\n",
        "    self.year = year\n",
        "    self.odometer_reading = 0\n",
        "\n",
        "  def get_descriptive_name(self):\n",
        "    long_name = f\"{self.year} {self.make} {self.model}\"\n",
        "    return long_name.title()\n",
        "\n",
        "  def read_odometer(self):\n",
        "    print (f\"This car has {self.odometer_reading} miles on it\")\n",
        "\n",
        "  def update_odometer(self, mileage):\n",
        "    if mileage >= self.odometer_reading:\n",
        "      self.odometer_reading = mileage\n",
        "    else:\n",
        "      print (\"you cant roll back an odometer\")\n",
        "\n",
        "  def increment_odometer(self, miles):\n",
        "    self.odometer_reading += miles\n",
        "\n",
        "class Battery:\n",
        "  def __init__(self, battery_size = 40):\n",
        "    self.battery_size = battery_size\n",
        "\n",
        "  def describe_battery(self):\n",
        "    print (f\"This car has a {self.battery_size}-kWh battery.\")\n",
        "\n",
        "class ElectricCar(Car):\n",
        "  def __init__(self, make, model, year):\n",
        "    super().__init__(make, model, year)\n",
        "    self.battery = Battery()\n",
        "\n",
        "  def describe_battery(self):\n",
        "    print (f\"This car has a {self.battery_size}-kWh battery\")\n",
        "\n",
        "\n",
        "\n",
        "my_leaf = ElectricCar('nissan', 'leaf', 2024)\n",
        "print (my_leaf.get_descriptive_name())\n",
        "my_leaf.battery.describe_battery()"
      ],
      "metadata": {
        "colab": {
          "base_uri": "https://localhost:8080/"
        },
        "outputId": "7ad54d7b-ebaa-4d3c-d058-a616723f3719",
        "id": "2KIB13wdXG_n"
      },
      "execution_count": null,
      "outputs": [
        {
          "output_type": "stream",
          "name": "stdout",
          "text": [
            "2024 Nissan Leaf\n",
            "This car has a 40-kWh battery.\n"
          ]
        }
      ]
    },
    {
      "cell_type": "code",
      "source": [
        "class Car:\n",
        "  def __init__(self, make, model, year):\n",
        "    self.make = make\n",
        "    self.model = model\n",
        "    self.year = year\n",
        "    self.odometer_reading = 0\n",
        "\n",
        "  def get_descriptive_name(self):\n",
        "    long_name = f\"{self.year} {self.make} {self.model}\"\n",
        "    return long_name.title()\n",
        "\n",
        "  def read_odometer(self):\n",
        "    print (f\"This car has {self.odometer_reading} miles on it\")\n",
        "\n",
        "  def update_odometer(self, mileage):\n",
        "    if mileage >= self.odometer_reading:\n",
        "      self.odometer_reading = mileage\n",
        "    else:\n",
        "      print (\"you cant roll back an odometer\")\n",
        "\n",
        "  def increment_odometer(self, miles):\n",
        "    self.odometer_reading += miles\n",
        "\n",
        "class Battery:\n",
        "  def __init__(self, battery_size = 40):\n",
        "    self.battery_size = battery_size\n",
        "\n",
        "  def get_range(self):\n",
        "    if self.battery_size == 40:\n",
        "      range = 150\n",
        "    elif self.battery_size == 65:\n",
        "      range = 225\n",
        "\n",
        "    print (f\"This car can go about {range} miles on a full charge\")\n",
        "\n",
        "  def describe_battery(self):\n",
        "    print (f\"This car has a {self.battery_size}-kWh battery.\")\n",
        "\n",
        "class ElectricCar(Car):\n",
        "  def __init__(self, make, model, year):\n",
        "    super().__init__(make, model, year)\n",
        "    self.battery = Battery()\n",
        "\n",
        "  def describe_battery(self):\n",
        "    print (f\"This car has a {self.battery_size}-kWh battery\")\n",
        "\n",
        "\n",
        "\n",
        "my_leaf = ElectricCar('nissan', 'leaf', 2024)\n",
        "print (my_leaf.get_descriptive_name())\n",
        "my_leaf.battery.describe_battery()\n",
        "my_leaf.battery.get_range()"
      ],
      "metadata": {
        "colab": {
          "base_uri": "https://localhost:8080/"
        },
        "outputId": "964d24ab-9880-4eec-ee13-b80402548e17",
        "id": "NT2HQPvyYTb5"
      },
      "execution_count": null,
      "outputs": [
        {
          "output_type": "stream",
          "name": "stdout",
          "text": [
            "2024 Nissan Leaf\n",
            "This car has a 40-kWh battery.\n",
            "This car can go about 150 miles on a full charge\n"
          ]
        }
      ]
    },
    {
      "cell_type": "code",
      "source": [
        "#try it 9-6\n",
        "class Restraunt:\n",
        "  def __init__(self, restraunt_name, cuisine_type):\n",
        "    self.restraunt_name = restraunt_name\n",
        "    self.cuisine_type = cuisine_type\n",
        "\n",
        "  def describe_restraunt(self):\n",
        "    print (f\"We are called {self.restraunt_name}.\")\n",
        "    print (f\"We sell {self.cuisine_type}.\")\n",
        "\n",
        "  def restraunt_open(self):\n",
        "    print (f\"{self.restraunt_name} is now open.\")\n",
        "\n",
        "class IceCreamStand(Restraunt):\n",
        "  def __init__(self, restraunt_name, cuisine_type):\n",
        "    super().__init__(restraunt_name, cuisine_type)\n",
        "    self.flavors = ['chocolate', 'vanilla', 'strawberry', 'chocolate + vanilla']\n",
        "\n",
        "  def get_flavors(self):\n",
        "    for flavor in self.flavors:\n",
        "      print (f\"We have {flavor} ice cream!\")\n",
        "\n",
        "icecreamstand = IceCreamStand('Tasty freeze', 'ice cream')\n",
        "icecreamstand.get_flavors()"
      ],
      "metadata": {
        "id": "KhSx3d37Umky",
        "colab": {
          "base_uri": "https://localhost:8080/"
        },
        "outputId": "5757b913-ab1e-4756-8cd7-0cc6d7995841"
      },
      "execution_count": 15,
      "outputs": [
        {
          "output_type": "stream",
          "name": "stdout",
          "text": [
            "We have chocolate ice cream!\n",
            "We have vanilla ice cream!\n",
            "We have strawberry ice cream!\n",
            "We have chocolate + vanilla ice cream!\n"
          ]
        }
      ]
    },
    {
      "cell_type": "code",
      "source": [
        "#try it 9-7\n",
        "class User:\n",
        "  def __init__(self, first_name, last_name, height, age):\n",
        "    self.first_name = first_name\n",
        "    self.last_name = last_name\n",
        "    self.height = height\n",
        "    self.age = age\n",
        "\n",
        "  def describe_user(self):\n",
        "    print (f\"Your first name is {self.first_name} {self.last_name}.\")\n",
        "    print (f\"Your height is {self.height}.\")\n",
        "    print (f\"You are {self.age} years old.\")\n",
        "\n",
        "\n",
        "  def greet_user(self):\n",
        "    print (f\"Hello {self.first_name} {self.last_name} you are {self.age} and your height is {self.height}\")\n",
        "\n",
        "\n",
        "class Admin(User):\n",
        "  def __init__(self, first_name, last_name, height, age):\n",
        "    super().__init__(first_name, last_name, height, age)\n",
        "    self.privileges = ['can add post', 'can delete post', 'can ban user']\n",
        "\n",
        "  def show_privileges(self):\n",
        "    for privilege in self.privileges:\n",
        "      print (f\"Administrators {privilege}.\")\n",
        "\n",
        "admin = Admin('Dylan', 'Golden', \"5'11\", '17')\n",
        "admin.show_privileges()\n"
      ],
      "metadata": {
        "id": "sD3G0MBUURdG",
        "colab": {
          "base_uri": "https://localhost:8080/"
        },
        "outputId": "bfe0cace-2d62-4974-9d74-eaf5fdc6c80e"
      },
      "execution_count": 16,
      "outputs": [
        {
          "output_type": "stream",
          "name": "stdout",
          "text": [
            "Administrators can add post.\n",
            "Administrators can delete post.\n",
            "Administrators can ban user.\n"
          ]
        }
      ]
    },
    {
      "cell_type": "code",
      "source": [
        "#I understand how to import classes so i will skip those examples"
      ],
      "metadata": {
        "id": "13V8skGQcO5r"
      },
      "execution_count": null,
      "outputs": []
    },
    {
      "cell_type": "code",
      "source": [],
      "metadata": {
        "id": "Hho7uI97d-dS"
      },
      "execution_count": null,
      "outputs": []
    }
  ]
}