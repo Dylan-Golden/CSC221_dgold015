{
  "nbformat": 4,
  "nbformat_minor": 0,
  "metadata": {
    "colab": {
      "provenance": [],
      "authorship_tag": "ABX9TyMUizXurBmE2TLbXZszl4pr",
      "include_colab_link": true
    },
    "kernelspec": {
      "name": "python3",
      "display_name": "Python 3"
    },
    "language_info": {
      "name": "python"
    }
  },
  "cells": [
    {
      "cell_type": "markdown",
      "metadata": {
        "id": "view-in-github",
        "colab_type": "text"
      },
      "source": [
        "<a href=\"https://colab.research.google.com/github/Dylan-Golden/CSC221_dgold015/blob/main/assignment26_28.ipynb\" target=\"_parent\"><img src=\"https://colab.research.google.com/assets/colab-badge.svg\" alt=\"Open In Colab\"/></a>"
      ]
    },
    {
      "cell_type": "markdown",
      "source": [
        "CSC221A Dylan Golden\n"
      ],
      "metadata": {
        "id": "NlRtJlgLvWCp"
      }
    },
    {
      "cell_type": "code",
      "execution_count": null,
      "metadata": {
        "colab": {
          "base_uri": "https://localhost:8080/"
        },
        "id": "i0pxX0FQtdLz",
        "outputId": "dbb53290-72be-4f6b-82f5-3eab15b4740e"
      },
      "outputs": [
        {
          "output_type": "stream",
          "name": "stdout",
          "text": [
            "<class 'str'> This is a String This is a StringThis is a StringThis is a String\n",
            "<class 'int'> 10020 10027\n",
            "<class 'float'> 20.25 101.25\n"
          ]
        }
      ],
      "source": [
        "x = \"This is a String\"\n",
        "y = 10020\n",
        "z = 20.25\n",
        "\n",
        "print (type(x), x, x*3)\n",
        "print (type(y), y, y + 7)\n",
        "print (type(z), z, z*5)"
      ]
    },
    {
      "cell_type": "code",
      "source": [
        "print (f\"Variable x is {x} and z*5 is {z*5}\")"
      ],
      "metadata": {
        "colab": {
          "base_uri": "https://localhost:8080/"
        },
        "id": "0eZ-WE2KvF7G",
        "outputId": "94c13255-d800-4fc0-c210-cb0d12eecdeb"
      },
      "execution_count": null,
      "outputs": [
        {
          "output_type": "stream",
          "name": "stdout",
          "text": [
            "Variable x is This is a String and z*5 is 101.25\n"
          ]
        }
      ]
    },
    {
      "cell_type": "code",
      "source": [
        "name = 'fred flinstone'\n",
        "print (name, name.title())\n",
        "upper = name.upper()\n",
        "print (upper)"
      ],
      "metadata": {
        "colab": {
          "base_uri": "https://localhost:8080/"
        },
        "id": "K0y9SqVywdHk",
        "outputId": "07f2ecc9-d9f7-4e8c-8098-0b54852763d5"
      },
      "execution_count": null,
      "outputs": [
        {
          "output_type": "stream",
          "name": "stdout",
          "text": [
            "fred flinstone Fred Flinstone\n",
            "FRED FLINSTONE\n"
          ]
        }
      ]
    },
    {
      "cell_type": "code",
      "source": [
        "list = [13, 27, 120, 8]\n",
        "print (list)\n",
        "for x in sorted(list):\n",
        "  print (x)\n",
        "\n",
        "print (f'min: {min(list)}')\n",
        "print ('max: ' +str(max(list)))\n",
        "print ('sum: ' + str(sum(list)))"
      ],
      "metadata": {
        "colab": {
          "base_uri": "https://localhost:8080/"
        },
        "id": "iKM9U9xhwvl3",
        "outputId": "380c5d6b-125f-48f4-a5a0-9e848f284556"
      },
      "execution_count": null,
      "outputs": [
        {
          "output_type": "stream",
          "name": "stdout",
          "text": [
            "[13, 27, 120, 8]\n",
            "8\n",
            "13\n",
            "27\n",
            "120\n",
            "min: 8\n",
            "max: 120\n",
            "sum: 168\n"
          ]
        }
      ]
    },
    {
      "cell_type": "code",
      "source": [
        "xyz = []\n",
        "xyz.append([13, 12, 5])\n",
        "xyz.append([12, 'string'])\n",
        "\n",
        "print (xyz)\n",
        "\n",
        "xyz2 = [[13, 12, 5], [8, 5], [12, 'string']]\n",
        "print (xyz2)\n"
      ],
      "metadata": {
        "colab": {
          "base_uri": "https://localhost:8080/"
        },
        "id": "9kEpOsOfw_B5",
        "outputId": "095638fc-fdcb-4884-e3f1-935a81b615c9"
      },
      "execution_count": null,
      "outputs": [
        {
          "output_type": "stream",
          "name": "stdout",
          "text": [
            "[[13, 12, 5], [12, 'string']]\n",
            "[[13, 12, 5], [8, 5], [12, 'string']]\n"
          ]
        }
      ]
    },
    {
      "cell_type": "code",
      "source": [
        "abc = [13, 27, 120, 8]\n",
        "\n",
        "print (sorted(abc))\n",
        "print (abc)"
      ],
      "metadata": {
        "colab": {
          "base_uri": "https://localhost:8080/"
        },
        "id": "rvO0Dx0iyIWl",
        "outputId": "60130901-f52c-4b76-d49c-f0e25274f741"
      },
      "execution_count": null,
      "outputs": [
        {
          "output_type": "stream",
          "name": "stdout",
          "text": [
            "[8, 13, 27, 120]\n",
            "[13, 27, 120, 8]\n"
          ]
        }
      ]
    },
    {
      "cell_type": "code",
      "source": [
        "for i in range(0, 70):\n",
        "  print (i, end=\" \")"
      ],
      "metadata": {
        "colab": {
          "base_uri": "https://localhost:8080/"
        },
        "id": "jBUdNZKUy44J",
        "outputId": "8044b26f-1d94-4e19-c30b-41177bf45aaf"
      },
      "execution_count": null,
      "outputs": [
        {
          "output_type": "stream",
          "name": "stdout",
          "text": [
            "0 1 2 3 4 5 6 7 8 9 10 11 12 13 14 15 16 17 18 19 20 21 22 23 24 25 26 27 28 29 30 31 32 33 34 35 36 37 38 39 40 41 42 43 44 45 46 47 48 49 50 51 52 53 54 55 56 57 58 59 60 61 62 63 64 65 66 67 68 69 "
          ]
        }
      ]
    },
    {
      "cell_type": "code",
      "source": [
        "print([x*x for x in range(1, 1000) if x%7 !=0])"
      ],
      "metadata": {
        "colab": {
          "base_uri": "https://localhost:8080/"
        },
        "id": "Y0Z_YBHjzUZy",
        "outputId": "c4906d80-cc85-4e12-801c-f57cf07f58f8"
      },
      "execution_count": null,
      "outputs": [
        {
          "output_type": "stream",
          "name": "stdout",
          "text": [
            "[1, 4, 9, 16, 25, 36, 64, 81, 100, 121, 144, 169, 225, 256, 289, 324, 361, 400, 484, 529, 576, 625, 676, 729, 841, 900, 961, 1024, 1089, 1156, 1296, 1369, 1444, 1521, 1600, 1681, 1849, 1936, 2025, 2116, 2209, 2304, 2500, 2601, 2704, 2809, 2916, 3025, 3249, 3364, 3481, 3600, 3721, 3844, 4096, 4225, 4356, 4489, 4624, 4761, 5041, 5184, 5329, 5476, 5625, 5776, 6084, 6241, 6400, 6561, 6724, 6889, 7225, 7396, 7569, 7744, 7921, 8100, 8464, 8649, 8836, 9025, 9216, 9409, 9801, 10000, 10201, 10404, 10609, 10816, 11236, 11449, 11664, 11881, 12100, 12321, 12769, 12996, 13225, 13456, 13689, 13924, 14400, 14641, 14884, 15129, 15376, 15625, 16129, 16384, 16641, 16900, 17161, 17424, 17956, 18225, 18496, 18769, 19044, 19321, 19881, 20164, 20449, 20736, 21025, 21316, 21904, 22201, 22500, 22801, 23104, 23409, 24025, 24336, 24649, 24964, 25281, 25600, 26244, 26569, 26896, 27225, 27556, 27889, 28561, 28900, 29241, 29584, 29929, 30276, 30976, 31329, 31684, 32041, 32400, 32761, 33489, 33856, 34225, 34596, 34969, 35344, 36100, 36481, 36864, 37249, 37636, 38025, 38809, 39204, 39601, 40000, 40401, 40804, 41616, 42025, 42436, 42849, 43264, 43681, 44521, 44944, 45369, 45796, 46225, 46656, 47524, 47961, 48400, 48841, 49284, 49729, 50625, 51076, 51529, 51984, 52441, 52900, 53824, 54289, 54756, 55225, 55696, 56169, 57121, 57600, 58081, 58564, 59049, 59536, 60516, 61009, 61504, 62001, 62500, 63001, 64009, 64516, 65025, 65536, 66049, 66564, 67600, 68121, 68644, 69169, 69696, 70225, 71289, 71824, 72361, 72900, 73441, 73984, 75076, 75625, 76176, 76729, 77284, 77841, 78961, 79524, 80089, 80656, 81225, 81796, 82944, 83521, 84100, 84681, 85264, 85849, 87025, 87616, 88209, 88804, 89401, 90000, 91204, 91809, 92416, 93025, 93636, 94249, 95481, 96100, 96721, 97344, 97969, 98596, 99856, 100489, 101124, 101761, 102400, 103041, 104329, 104976, 105625, 106276, 106929, 107584, 108900, 109561, 110224, 110889, 111556, 112225, 113569, 114244, 114921, 115600, 116281, 116964, 118336, 119025, 119716, 120409, 121104, 121801, 123201, 123904, 124609, 125316, 126025, 126736, 128164, 128881, 129600, 130321, 131044, 131769, 133225, 133956, 134689, 135424, 136161, 136900, 138384, 139129, 139876, 140625, 141376, 142129, 143641, 144400, 145161, 145924, 146689, 147456, 148996, 149769, 150544, 151321, 152100, 152881, 154449, 155236, 156025, 156816, 157609, 158404, 160000, 160801, 161604, 162409, 163216, 164025, 165649, 166464, 167281, 168100, 168921, 169744, 171396, 172225, 173056, 173889, 174724, 175561, 177241, 178084, 178929, 179776, 180625, 181476, 183184, 184041, 184900, 185761, 186624, 187489, 189225, 190096, 190969, 191844, 192721, 193600, 195364, 196249, 197136, 198025, 198916, 199809, 201601, 202500, 203401, 204304, 205209, 206116, 207936, 208849, 209764, 210681, 211600, 212521, 214369, 215296, 216225, 217156, 218089, 219024, 220900, 221841, 222784, 223729, 224676, 225625, 227529, 228484, 229441, 230400, 231361, 232324, 234256, 235225, 236196, 237169, 238144, 239121, 241081, 242064, 243049, 244036, 245025, 246016, 248004, 249001, 250000, 251001, 252004, 253009, 255025, 256036, 257049, 258064, 259081, 260100, 262144, 263169, 264196, 265225, 266256, 267289, 269361, 270400, 271441, 272484, 273529, 274576, 276676, 277729, 278784, 279841, 280900, 281961, 284089, 285156, 286225, 287296, 288369, 289444, 291600, 292681, 293764, 294849, 295936, 297025, 299209, 300304, 301401, 302500, 303601, 304704, 306916, 308025, 309136, 310249, 311364, 312481, 314721, 315844, 316969, 318096, 319225, 320356, 322624, 323761, 324900, 326041, 327184, 328329, 330625, 331776, 332929, 334084, 335241, 336400, 338724, 339889, 341056, 342225, 343396, 344569, 346921, 348100, 349281, 350464, 351649, 352836, 355216, 356409, 357604, 358801, 360000, 361201, 363609, 364816, 366025, 367236, 368449, 369664, 372100, 373321, 374544, 375769, 376996, 378225, 380689, 381924, 383161, 384400, 385641, 386884, 389376, 390625, 391876, 393129, 394384, 395641, 398161, 399424, 400689, 401956, 403225, 404496, 407044, 408321, 409600, 410881, 412164, 413449, 416025, 417316, 418609, 419904, 421201, 422500, 425104, 426409, 427716, 429025, 430336, 431649, 434281, 435600, 436921, 438244, 439569, 440896, 443556, 444889, 446224, 447561, 448900, 450241, 452929, 454276, 455625, 456976, 458329, 459684, 462400, 463761, 465124, 466489, 467856, 469225, 471969, 473344, 474721, 476100, 477481, 478864, 481636, 483025, 484416, 485809, 487204, 488601, 491401, 492804, 494209, 495616, 497025, 498436, 501264, 502681, 504100, 505521, 506944, 508369, 511225, 512656, 514089, 515524, 516961, 518400, 521284, 522729, 524176, 525625, 527076, 528529, 531441, 532900, 534361, 535824, 537289, 538756, 541696, 543169, 544644, 546121, 547600, 549081, 552049, 553536, 555025, 556516, 558009, 559504, 562500, 564001, 565504, 567009, 568516, 570025, 573049, 574564, 576081, 577600, 579121, 580644, 583696, 585225, 586756, 588289, 589824, 591361, 594441, 595984, 597529, 599076, 600625, 602176, 605284, 606841, 608400, 609961, 611524, 613089, 616225, 617796, 619369, 620944, 622521, 624100, 627264, 628849, 630436, 632025, 633616, 635209, 638401, 640000, 641601, 643204, 644809, 646416, 649636, 651249, 652864, 654481, 656100, 657721, 660969, 662596, 664225, 665856, 667489, 669124, 672400, 674041, 675684, 677329, 678976, 680625, 683929, 685584, 687241, 688900, 690561, 692224, 695556, 697225, 698896, 700569, 702244, 703921, 707281, 708964, 710649, 712336, 714025, 715716, 719104, 720801, 722500, 724201, 725904, 727609, 731025, 732736, 734449, 736164, 737881, 739600, 743044, 744769, 746496, 748225, 749956, 751689, 755161, 756900, 758641, 760384, 762129, 763876, 767376, 769129, 770884, 772641, 774400, 776161, 779689, 781456, 783225, 784996, 786769, 788544, 792100, 793881, 795664, 797449, 799236, 801025, 804609, 806404, 808201, 810000, 811801, 813604, 817216, 819025, 820836, 822649, 824464, 826281, 829921, 831744, 833569, 835396, 837225, 839056, 842724, 844561, 846400, 848241, 850084, 851929, 855625, 857476, 859329, 861184, 863041, 864900, 868624, 870489, 872356, 874225, 876096, 877969, 881721, 883600, 885481, 887364, 889249, 891136, 894916, 896809, 898704, 900601, 902500, 904401, 908209, 910116, 912025, 913936, 915849, 917764, 921600, 923521, 925444, 927369, 929296, 931225, 935089, 937024, 938961, 940900, 942841, 944784, 948676, 950625, 952576, 954529, 956484, 958441, 962361, 964324, 966289, 968256, 970225, 972196, 976144, 978121, 980100, 982081, 984064, 986049, 990025, 992016, 994009, 996004, 998001]\n"
          ]
        }
      ]
    },
    {
      "cell_type": "code",
      "source": [
        "#thanks to chatGPT 3.5 which I asked: how do you do sieve of eratosthanese in python?\n",
        "def sieve_of_eratosthenes(limit):\n",
        "    primes = [True] * (limit + 1)\n",
        "    primes[0] = primes[1] = False  # 0 and 1 are not prime\n",
        "\n",
        "    for i in range(2, int(limit**0.5) + 1):\n",
        "        if primes[i]:\n",
        "            for j in range(i**2, limit + 1, i):\n",
        "                primes[j] = False\n",
        "\n",
        "    return [num for num, is_prime in enumerate(primes) if is_prime]\n",
        "\n",
        "# Example usage\n",
        "limit = 50\n",
        "result = sieve_of_eratosthenes(limit)\n",
        "print(f\"Prime numbers up to {limit}: {result}\")"
      ],
      "metadata": {
        "colab": {
          "base_uri": "https://localhost:8080/"
        },
        "id": "NH9y3xEu0BD_",
        "outputId": "5ce5ee80-3faa-442c-baa0-ebb605ace77a"
      },
      "execution_count": null,
      "outputs": [
        {
          "output_type": "stream",
          "name": "stdout",
          "text": [
            "Prime numbers up to 50: [2, 3, 5, 7, 11, 13, 17, 19, 23, 29, 31, 37, 41, 43, 47]\n"
          ]
        }
      ]
    },
    {
      "cell_type": "code",
      "source": [
        "def my_prime_generator(N):\n",
        "  primes = sieve_of_eratosthenes(N)\n",
        "\n",
        "  for x in primes:\n",
        "    yield x\n",
        "\n",
        "for x in my_prime_generator(200):\n",
        "  print (x, end=\" \")"
      ],
      "metadata": {
        "colab": {
          "base_uri": "https://localhost:8080/"
        },
        "id": "w9hj6BFm1Gh5",
        "outputId": "7e4bf26e-52ef-4544-8196-b3635eebd923"
      },
      "execution_count": null,
      "outputs": [
        {
          "output_type": "stream",
          "name": "stdout",
          "text": [
            "2 3 5 7 11 13 17 19 23 29 31 37 41 43 47 53 59 61 67 71 73 79 83 89 97 101 103 107 109 113 127 131 137 139 149 151 157 163 167 173 179 181 191 193 197 199 "
          ]
        }
      ]
    },
    {
      "cell_type": "code",
      "source": [
        "import random\n",
        "ran_num = []\n",
        "for i in range (1, 1001):\n",
        "  ran_num.append(random.randint(1, 10001))\n",
        "\n",
        "print (ran_num)"
      ],
      "metadata": {
        "id": "IsYQk4WL1wD2",
        "colab": {
          "base_uri": "https://localhost:8080/"
        },
        "outputId": "c58e7114-2cfc-4b8c-f6cb-5de3ac3e7b6c"
      },
      "execution_count": 2,
      "outputs": [
        {
          "output_type": "stream",
          "name": "stdout",
          "text": [
            "[5091, 5104, 4453, 4514, 3501, 5302, 6513, 1481, 9352, 3463, 7006, 1550, 1574, 531, 2019, 6030, 7320, 5550, 2636, 7098, 3385, 8221, 1399, 6382, 7231, 1882, 5313, 4601, 3819, 7469, 9971, 1710, 8726, 3971, 1352, 1692, 2944, 811, 3049, 4230, 6376, 9999, 1280, 4294, 7027, 4293, 2013, 8832, 8006, 4476, 202, 3073, 7307, 238, 385, 5476, 9509, 8135, 2955, 2907, 440, 8768, 6282, 3364, 1871, 1474, 4866, 5985, 8992, 1825, 445, 4644, 9163, 886, 4983, 3964, 933, 4867, 8273, 4952, 819, 4954, 3729, 2589, 7212, 744, 8159, 2067, 4850, 6216, 4046, 3975, 7897, 1528, 3951, 4350, 4541, 8410, 6997, 4008, 7483, 2493, 5655, 3825, 6576, 8758, 5306, 4749, 2615, 1552, 4729, 2301, 2031, 4394, 7838, 5536, 8833, 6154, 7905, 9941, 2179, 9905, 6021, 6744, 4628, 7730, 285, 6466, 6910, 4346, 8072, 6279, 7503, 6414, 6478, 9442, 5529, 5507, 2674, 6040, 2188, 8770, 5413, 3138, 5260, 3618, 3527, 4258, 1398, 142, 190, 3825, 4204, 6771, 3252, 8804, 7104, 8109, 8479, 1000, 6799, 679, 2087, 1344, 1946, 1985, 5226, 6033, 4491, 6724, 8181, 7396, 9367, 5577, 2922, 7759, 9344, 543, 6331, 9547, 4596, 6327, 9125, 5083, 7374, 7655, 1600, 7433, 5141, 6786, 4989, 2806, 3560, 9526, 2220, 1797, 2456, 1207, 875, 7235, 4377, 4494, 1528, 7945, 9438, 223, 8295, 809, 4882, 4920, 9542, 2869, 2513, 6103, 2649, 7112, 5274, 289, 1187, 3978, 7883, 9823, 7810, 4944, 8878, 1908, 4584, 9643, 2624, 689, 4290, 7132, 9872, 1278, 5261, 1669, 646, 9539, 6304, 6669, 1048, 4593, 6614, 4636, 846, 8843, 1485, 6100, 4320, 1204, 7871, 5897, 3899, 1196, 6226, 1806, 4400, 4455, 4533, 1983, 8155, 9182, 3897, 2248, 3361, 6668, 9557, 5850, 5461, 2738, 9118, 7000, 1931, 6659, 9212, 8677, 4269, 7844, 4127, 6300, 78, 2073, 7535, 2627, 9440, 7162, 3206, 6435, 3765, 7205, 6735, 5089, 3217, 6152, 7735, 83, 9665, 9619, 8751, 8400, 4740, 1510, 1957, 8369, 8979, 4139, 4137, 9531, 7132, 5104, 5907, 785, 5148, 1191, 7142, 7856, 5359, 857, 4179, 4965, 9875, 7395, 927, 9770, 364, 9547, 4958, 1014, 2438, 6652, 3658, 9817, 5444, 5200, 626, 4681, 5115, 3218, 4747, 204, 49, 2943, 8298, 2427, 9521, 5340, 8203, 3705, 6362, 9495, 9535, 5209, 8380, 601, 2056, 9170, 3022, 4716, 4373, 7510, 3187, 410, 8586, 8483, 5257, 2996, 6519, 7431, 1323, 4901, 1738, 1052, 9643, 4250, 914, 5188, 6459, 26, 7437, 3813, 4959, 2262, 9603, 4064, 5099, 5784, 2395, 9313, 5718, 7563, 6488, 1558, 9162, 970, 4344, 8732, 1765, 5669, 5757, 6584, 1775, 8052, 3023, 729, 1369, 4217, 3910, 6543, 5596, 1686, 7959, 1120, 4124, 3806, 7174, 5743, 7209, 1633, 7488, 4785, 6168, 4049, 8331, 9896, 2928, 9075, 5485, 706, 1259, 6951, 5488, 6276, 850, 3838, 8341, 2541, 2497, 2038, 6889, 7853, 4028, 6446, 5770, 6623, 7807, 1667, 7490, 5901, 7030, 5673, 2386, 861, 3411, 4619, 9267, 5664, 2893, 7415, 9952, 8438, 6143, 4381, 1262, 2820, 9865, 8424, 4397, 1362, 8514, 5884, 2725, 1414, 939, 2975, 728, 3724, 7640, 1740, 4971, 1182, 7550, 1597, 4477, 2590, 204, 3897, 670, 7831, 1129, 6323, 4772, 5718, 1500, 4691, 303, 670, 8918, 3531, 4103, 3982, 4350, 8252, 5037, 5505, 5541, 979, 4428, 8435, 7496, 444, 8179, 5912, 316, 4087, 5032, 2352, 8121, 1744, 1061, 2655, 5445, 9290, 4553, 483, 4665, 304, 7926, 7664, 3495, 7108, 3556, 8907, 402, 2257, 4492, 6019, 4526, 6365, 4004, 2852, 4424, 3091, 9828, 525, 2940, 2661, 8877, 9612, 8335, 5745, 9043, 3716, 4149, 2762, 3649, 7198, 5470, 8263, 5465, 8323, 473, 5744, 3004, 5215, 8816, 8943, 4840, 6495, 3935, 1701, 2881, 1861, 7558, 2910, 3948, 4988, 575, 9062, 2668, 7651, 4007, 7053, 4064, 9324, 6625, 9699, 2841, 6463, 6146, 8632, 8451, 7318, 501, 2491, 4169, 9631, 5610, 6899, 8196, 2944, 7527, 9402, 3324, 4764, 5476, 606, 1837, 5575, 557, 2451, 2567, 2360, 8543, 1244, 8960, 2144, 7972, 1646, 7368, 1782, 7265, 325, 3408, 1472, 9191, 849, 4526, 7324, 3275, 8842, 1544, 4582, 5607, 4952, 3397, 7640, 5057, 5041, 1979, 2292, 6216, 5340, 3119, 4335, 6885, 9834, 9340, 3126, 3457, 7089, 6585, 4732, 2199, 4250, 5863, 7229, 9125, 7902, 1251, 2071, 4085, 2322, 7378, 6535, 404, 5362, 6017, 9317, 1790, 5796, 415, 1544, 3758, 2814, 1183, 6183, 377, 2266, 2199, 6779, 8802, 2973, 2716, 9838, 3077, 5808, 9805, 4273, 8095, 1556, 3369, 155, 9260, 7005, 6704, 1777, 5086, 2597, 5617, 1448, 9158, 3989, 8374, 3912, 6958, 7583, 3264, 6123, 242, 2720, 1577, 6951, 3684, 3230, 7572, 968, 5602, 2275, 6557, 9455, 2844, 5739, 4317, 2995, 1130, 5512, 4589, 797, 8474, 4868, 4909, 7385, 4177, 6917, 7783, 7467, 3647, 4790, 3226, 2490, 3089, 8079, 8497, 2746, 910, 1614, 6605, 6941, 2326, 1188, 5428, 6326, 640, 2018, 3762, 4880, 8135, 8613, 9296, 2064, 3103, 3533, 5949, 8784, 5648, 749, 4359, 1939, 3528, 6902, 3948, 1006, 7903, 9078, 6286, 9810, 4230, 9618, 1471, 2917, 4860, 1603, 4307, 7032, 1537, 4576, 4756, 7117, 7013, 4574, 3463, 895, 4899, 5809, 6637, 2316, 2991, 9168, 671, 7137, 9659, 3914, 2017, 2904, 6967, 1802, 5664, 3478, 1005, 3605, 2687, 4673, 4829, 2191, 3059, 8828, 3374, 172, 9473, 9909, 2506, 9378, 6159, 7655, 6059, 6364, 5590, 4167, 150, 4433, 3186, 6011, 5983, 1902, 8845, 1633, 5756, 4585, 8702, 3745, 5759, 9813, 9673, 8212, 8444, 2343, 6047, 788, 9581, 3887, 2167, 584, 3190, 7934, 8259, 7323, 2518, 3491, 7057, 9487, 6861, 602, 4583, 8576, 6167, 765, 7265, 2596, 7733, 3144, 7567, 4329, 5287, 256, 2726, 9497, 2017, 9749, 4052, 378, 7115, 1353, 5589, 4109, 5964, 8225, 2509, 9040, 9183, 1656, 4621, 2830, 4876, 8712, 3235, 3770, 8369, 2006, 5082, 1868, 143, 6044, 243, 226, 7253, 942, 8335, 9112, 8498, 6811, 2551, 1127, 8762, 7367, 7268, 6029, 691, 411, 2462, 2759, 1160, 6800, 304, 5922, 3318, 4259, 1085, 1214, 6537, 301, 5875, 2390, 4291, 3043, 1551, 2655, 9547, 2723, 7253, 4526, 7468, 7685, 3804, 6220, 1277, 4960, 5836, 4248, 8163, 9857, 1521, 980, 4963, 5616, 5320, 3168, 2172, 3118, 792, 4315, 7531, 5963, 6485, 2033, 6414, 3003, 5738, 3557, 1776, 7842, 8012, 9308, 7334, 2026, 8842, 7945, 144, 4409, 101, 9170, 6296, 9834, 9331, 2623, 9572, 6224, 4026, 9301, 3248, 8048, 7856, 9898, 8385, 6820, 8299, 5502, 6839, 3005, 4139, 140]\n"
          ]
        }
      ]
    },
    {
      "cell_type": "code",
      "source": [
        "def funky(num):\n",
        "  if num == 23:\n",
        "    print (\"Lucky\")\n",
        "  elif num == 5:\n",
        "    print (\"birthday\")\n",
        "  else:\n",
        "    print (\"try again\")\n",
        "\n",
        "test = funky(23)\n",
        "test2 = funky(5)\n",
        "test3 = funky(3)\n",
        "\n",
        "test\n",
        "test2\n",
        "test3"
      ],
      "metadata": {
        "id": "LWUQRwZ711zU",
        "colab": {
          "base_uri": "https://localhost:8080/"
        },
        "outputId": "7a9decd3-c11f-40c0-aa7d-b88f4aee3ebd"
      },
      "execution_count": 8,
      "outputs": [
        {
          "output_type": "stream",
          "name": "stdout",
          "text": [
            "Lucky\n",
            "birthday\n",
            "try again\n"
          ]
        }
      ]
    },
    {
      "cell_type": "code",
      "source": [
        "print (\"You_Should_Capitalize_Words_With_Underscores_Like_This\")\n",
        "print (\"dont use l, O, or I for variable names\")\n",
        "print (\"Function names should be lowercase\")"
      ],
      "metadata": {
        "id": "xe6E5cQi13rH",
        "colab": {
          "base_uri": "https://localhost:8080/"
        },
        "outputId": "9b0274ab-c3a4-4ef1-f6f3-65843ff14a12"
      },
      "execution_count": 10,
      "outputs": [
        {
          "output_type": "stream",
          "name": "stdout",
          "text": [
            "You_Should_Capitalize_Words_With_Underscores_Like_This\n",
            "dont use l, O, or I for variable names\n",
            "Function names should be lowercase\n"
          ]
        }
      ]
    },
    {
      "cell_type": "code",
      "source": [
        "%%file testfile.txt\n",
        "Amy, cat\n",
        "Fred, dog\n",
        "Hunter, dog\n",
        "Peena, parakeet\n",
        "Rover, dog"
      ],
      "metadata": {
        "colab": {
          "base_uri": "https://localhost:8080/"
        },
        "id": "ufBBb2Kd174N",
        "outputId": "828889ac-6225-4094-dc2b-c13239932345"
      },
      "execution_count": null,
      "outputs": [
        {
          "output_type": "stream",
          "name": "stdout",
          "text": [
            "Writing testfile.txt\n"
          ]
        }
      ]
    },
    {
      "cell_type": "code",
      "source": [
        "dict1 = {}\n",
        "with open(\"testfile.txt\", 'r') as file:\n",
        "  while line := file.readline():\n",
        "    line = line.strip()\n",
        "    key, value = line.split(',')\n",
        "    dict1[key] = value.strip()\n",
        "\n",
        "print (dict1)"
      ],
      "metadata": {
        "colab": {
          "base_uri": "https://localhost:8080/"
        },
        "id": "6Y_deI7n2GQ1",
        "outputId": "6afba12a-0fd4-4897-fb5a-dd8e4a6a40a2"
      },
      "execution_count": null,
      "outputs": [
        {
          "output_type": "stream",
          "name": "stdout",
          "text": [
            "{'Amy': 'cat', 'Fred': 'dog', 'Hunter': 'dog', 'Peena': 'parakeet', 'Rover': 'dog'}\n"
          ]
        }
      ]
    },
    {
      "cell_type": "code",
      "source": [
        "print (dict1.values())\n",
        "pet_types = set(dict1.values())\n",
        "print (pet_types)"
      ],
      "metadata": {
        "colab": {
          "base_uri": "https://localhost:8080/"
        },
        "id": "80rXtCYn2w7j",
        "outputId": "8f249ebf-0d70-41d3-805a-233a21a7ae13"
      },
      "execution_count": null,
      "outputs": [
        {
          "output_type": "stream",
          "name": "stdout",
          "text": [
            "dict_values(['cat', 'dog', 'dog', 'parakeet', 'dog'])\n",
            "{'cat', 'dog', 'parakeet'}\n"
          ]
        }
      ]
    },
    {
      "cell_type": "code",
      "source": [
        "n = 80\n",
        "while n >= 16:\n",
        "  print (n)\n",
        "  n -= 8"
      ],
      "metadata": {
        "colab": {
          "base_uri": "https://localhost:8080/"
        },
        "id": "Qq6qF9MW3Krx",
        "outputId": "ff2eef68-5a27-4fea-dccc-720fc92c0d6a"
      },
      "execution_count": null,
      "outputs": [
        {
          "output_type": "stream",
          "name": "stdout",
          "text": [
            "80\n",
            "72\n",
            "64\n",
            "56\n",
            "48\n",
            "40\n",
            "32\n",
            "24\n",
            "16\n"
          ]
        }
      ]
    },
    {
      "cell_type": "code",
      "source": [
        "def f1(n1, n2, n3):\n",
        "  max_n = max(n1, n2, n3)\n",
        "  min_n = min(n1, n2, n3)\n",
        "  sum_n = sum([n1, n2, n3])\n",
        "\n",
        "  return min_n, max_n, sum_n\n",
        "\n",
        "print (f1(13, 21, 4))"
      ],
      "metadata": {
        "colab": {
          "base_uri": "https://localhost:8080/"
        },
        "id": "N2lQoBHv3hsM",
        "outputId": "8221b09d-32ed-418d-c776-4ce7a2d4d89b"
      },
      "execution_count": null,
      "outputs": [
        {
          "output_type": "stream",
          "name": "stdout",
          "text": [
            "(4, 21, 38)\n"
          ]
        }
      ]
    },
    {
      "cell_type": "code",
      "source": [
        "def f2(*n):\n",
        "  max_n = max(n)\n",
        "  min_n = min(n)\n",
        "  sum_n = sum(n)\n",
        "\n",
        "  return min_n, max_n, sum_n\n",
        "\n",
        "print (f2(13, 21, 4, 81, -5, 30, 12))"
      ],
      "metadata": {
        "colab": {
          "base_uri": "https://localhost:8080/"
        },
        "id": "0Ah5OPlO4HR_",
        "outputId": "3c37bd3c-05be-42f2-a69f-68b66450461f"
      },
      "execution_count": null,
      "outputs": [
        {
          "output_type": "stream",
          "name": "stdout",
          "text": [
            "(-5, 81, 156)\n"
          ]
        }
      ]
    },
    {
      "cell_type": "code",
      "source": [
        "def traceroo(func):\n",
        "  def newfunc(*args, **kwargs):\n",
        "    print (f'Traceroo {func.__name__} {args} {kwargs}')\n",
        "    return (func(*args, **kwargs))\n",
        "  return newfunc\n",
        "\n",
        "f1d = traceroo(f1)\n",
        "print (f1(3, 2, 1))\n",
        "print (f1d(3, 2, 1))\n",
        "\n",
        "@traceroo\n",
        "def f4():\n",
        "  print ('hi... im f4')\n",
        "\n",
        "f4()"
      ],
      "metadata": {
        "colab": {
          "base_uri": "https://localhost:8080/"
        },
        "id": "xQ2JFam74T5j",
        "outputId": "6b59c994-ddfb-4422-8f77-70c7a8ffa4b2"
      },
      "execution_count": null,
      "outputs": [
        {
          "output_type": "stream",
          "name": "stdout",
          "text": [
            "(1, 3, 6)\n",
            "Traceroo f1 (3, 2, 1) {}\n",
            "(1, 3, 6)\n",
            "Traceroo f4 () {}\n",
            "hi... im f4\n"
          ]
        }
      ]
    },
    {
      "cell_type": "code",
      "source": [
        "class Cell21:\n",
        "  def __init__(self, num1, num2):\n",
        "    self.num1 = num1\n",
        "    self.num2 = num2\n",
        "\n",
        "  def __repr__(self):\n",
        "    return \"You called __repr__\"\n",
        "\n",
        "  def __str__(self):\n",
        "    return \"You called __str__\"\n",
        "\n",
        "  def __add__(self):\n",
        "    return self.num1 + self.num2\n",
        "\n",
        "c21 = Cell21(1, 2)\n",
        "\n",
        "print (c21)\n",
        "print (c21.__add__())\n",
        "c21\n",
        "\n"
      ],
      "metadata": {
        "colab": {
          "base_uri": "https://localhost:8080/"
        },
        "id": "xoBnBvnYNnno",
        "outputId": "85d85b4e-95f8-4af7-9096-30449a1ab5a9"
      },
      "execution_count": 14,
      "outputs": [
        {
          "output_type": "stream",
          "name": "stdout",
          "text": [
            "You called __str__\n",
            "3\n"
          ]
        },
        {
          "output_type": "execute_result",
          "data": {
            "text/plain": [
              "You called __repr__"
            ]
          },
          "metadata": {},
          "execution_count": 14
        }
      ]
    },
    {
      "cell_type": "code",
      "source": [
        "from pathlib import Path\n",
        "\n",
        "numbers = Path('Pi10KDP.txt')\n",
        "# its not 1 million but colab did not like me trying to do that\n",
        "read = numbers.read_text()\n",
        "\n",
        "lines = read.splitlines()\n",
        "pi_string = ''\n",
        "for line in lines:\n",
        "  pi_string += line.lstrip()\n",
        "\n",
        "birthday = input(\"Enter your birthday in form mmddyy\")\n",
        "if birthday in pi_string:\n",
        "  print (\"you birthday is in pi\")\n",
        "else:\n",
        "  print (\"Your birthday is not in pi\")"
      ],
      "metadata": {
        "colab": {
          "base_uri": "https://localhost:8080/"
        },
        "id": "bjyZHoLgQvoc",
        "outputId": "38e47c1b-d711-41ea-ccf3-e1120fc2cd20"
      },
      "execution_count": 18,
      "outputs": [
        {
          "output_type": "stream",
          "name": "stdout",
          "text": [
            "Enter your birthday in form mmddyy111705\n",
            "Your birthday is not in pi\n"
          ]
        }
      ]
    },
    {
      "cell_type": "code",
      "source": [
        "#pytest"
      ],
      "metadata": {
        "id": "O8_nciD-5mw3"
      },
      "execution_count": null,
      "outputs": []
    },
    {
      "cell_type": "code",
      "source": [
        "%%file functions.py\n",
        "def f5(a):\n",
        "  ret = a+5\n",
        "  print (ret)\n",
        "  return (ret)\n",
        "\n",
        "def f6(a, b):\n",
        "  return a+b\n"
      ],
      "metadata": {
        "colab": {
          "base_uri": "https://localhost:8080/"
        },
        "id": "uaVNxVPe5pj0",
        "outputId": "e0e6cad4-a17f-4119-a6a3-e252c30eea2f"
      },
      "execution_count": null,
      "outputs": [
        {
          "output_type": "stream",
          "name": "stdout",
          "text": [
            "Overwriting functions.py\n"
          ]
        }
      ]
    },
    {
      "cell_type": "code",
      "source": [
        "%%file test_functions.py\n",
        "import functions as ff\n",
        "def test_test1():\n",
        "  assert ff.f5(5) == 5+5\n",
        "  assert ff.f6(6, 6) == 12\n"
      ],
      "metadata": {
        "colab": {
          "base_uri": "https://localhost:8080/"
        },
        "id": "6JlSDRrt5wMQ",
        "outputId": "bdb61408-648d-480b-c031-aad276bb38db"
      },
      "execution_count": null,
      "outputs": [
        {
          "output_type": "stream",
          "name": "stdout",
          "text": [
            "Overwriting test_functions.py\n"
          ]
        }
      ]
    },
    {
      "cell_type": "code",
      "source": [
        "!pytest"
      ],
      "metadata": {
        "colab": {
          "base_uri": "https://localhost:8080/"
        },
        "id": "Wi9S3uTa6QqQ",
        "outputId": "115615bd-fca4-4b46-abf5-b395f5a3b84f"
      },
      "execution_count": null,
      "outputs": [
        {
          "output_type": "stream",
          "name": "stdout",
          "text": [
            "\u001b[1m======================================= test session starts ========================================\u001b[0m\n",
            "platform linux -- Python 3.10.12, pytest-7.4.3, pluggy-1.3.0\n",
            "rootdir: /content\n",
            "plugins: anyio-3.7.1\n",
            "\u001b[1mcollecting ... \u001b[0m\u001b[1m\rcollected 1 item                                                                                   \u001b[0m\n",
            "\n",
            "test_functions.py \u001b[32m.\u001b[0m\u001b[32m                                                                          [100%]\u001b[0m\n",
            "\n",
            "\u001b[32m======================================== \u001b[32m\u001b[1m1 passed\u001b[0m\u001b[32m in 0.02s\u001b[0m\u001b[32m =========================================\u001b[0m\n"
          ]
        }
      ]
    }
  ]
}